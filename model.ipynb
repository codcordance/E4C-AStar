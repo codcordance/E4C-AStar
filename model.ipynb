{
 "cells": [
  {
   "cell_type": "code",
   "outputs": [],
   "source": [
    "import numpy as np\n",
    "import pandas as pd\n",
    "\n",
    "#for data exploration\n",
    "# pd.options.plotting.backend = \"plotly\""
   ],
   "metadata": {
    "collapsed": false,
    "ExecuteTime": {
     "end_time": "2024-02-16T15:59:17.555641Z",
     "start_time": "2024-02-16T15:59:17.222574Z"
    }
   },
   "id": "initial_id",
   "execution_count": 1
  },
  {
   "cell_type": "code",
   "outputs": [
    {
     "data": {
      "text/plain": "                           AirTemp      pres   rain      rh       wd     ws  \\\ndatetime                                                                      \n2022-01-01 00:00:00+00:00   10.279  1005.058  0.000  95.870  187.576  1.758   \n2022-01-01 01:00:00+00:00   10.318  1004.790  0.000  95.335  218.280  2.401   \n2022-01-01 02:00:00+00:00    9.901  1004.791  0.013  95.699  185.351  1.821   \n2022-01-01 03:00:00+00:00    9.444  1004.554  0.000  95.881  193.537  1.760   \n2022-01-01 04:00:00+00:00    8.587  1004.524  0.000  96.738  174.806  1.613   \n...                            ...       ...    ...     ...      ...    ...   \n2023-12-31 19:00:00+00:00    7.523   983.610  0.000  77.079  248.157  5.871   \n2023-12-31 20:00:00+00:00    7.021   984.488  0.000  81.753  246.199  5.223   \n2023-12-31 21:00:00+00:00    6.746   984.980  0.000  83.942  245.813  4.572   \n2023-12-31 22:00:00+00:00    6.703   985.161  0.000  83.873  241.623  4.568   \n2023-12-31 23:00:00+00:00    6.574   985.901  0.000  82.309  251.971  4.799   \n\n                           Global_Solar_Flux  Diffuse_Solar_Flux  \\\ndatetime                                                           \n2022-01-01 00:00:00+00:00             -0.271              -0.370   \n2022-01-01 01:00:00+00:00             -0.371              -0.499   \n2022-01-01 02:00:00+00:00             -0.846              -0.999   \n2022-01-01 03:00:00+00:00             -0.632              -0.755   \n2022-01-01 04:00:00+00:00             -0.395              -0.489   \n...                                      ...                 ...   \n2023-12-31 19:00:00+00:00             -1.114              -1.283   \n2023-12-31 20:00:00+00:00             -1.130              -1.270   \n2023-12-31 21:00:00+00:00             -0.944              -1.041   \n2023-12-31 22:00:00+00:00             -0.935              -1.029   \n2023-12-31 23:00:00+00:00             -1.157              -1.273   \n\n                           Direct_Solar_Flux  Downwelling_IR_Flux  ...  \\\ndatetime                                                           ...   \n2022-01-01 00:00:00+00:00             -0.110              342.922  ...   \n2022-01-01 01:00:00+00:00             -0.231              328.399  ...   \n2022-01-01 02:00:00+00:00             -0.235              288.659  ...   \n2022-01-01 03:00:00+00:00             -0.173              309.317  ...   \n2022-01-01 04:00:00+00:00             -0.110              323.557  ...   \n...                                      ...                  ...  ...   \n2023-12-31 19:00:00+00:00             -0.246              259.846  ...   \n2023-12-31 20:00:00+00:00              0.178              261.117  ...   \n2023-12-31 21:00:00+00:00              0.281              289.698  ...   \n2023-12-31 22:00:00+00:00              0.203              279.778  ...   \n2023-12-31 23:00:00+00:00              0.051              258.689  ...   \n\n                           kw_heatingcoolingtotal_zone1  \\\ndatetime                                                  \n2022-01-01 00:00:00+00:00                        -1.798   \n2022-01-01 01:00:00+00:00                        -1.794   \n2022-01-01 02:00:00+00:00                        -1.795   \n2022-01-01 03:00:00+00:00                        -1.811   \n2022-01-01 04:00:00+00:00                        -1.814   \n...                                                 ...   \n2023-12-31 19:00:00+00:00                        -1.058   \n2023-12-31 20:00:00+00:00                        -1.070   \n2023-12-31 21:00:00+00:00                        -7.507   \n2023-12-31 22:00:00+00:00                        -3.758   \n2023-12-31 23:00:00+00:00                        -3.758   \n\n                           kw_heatingcoolingtotal_zone2  kw_lights_zone1  \\\ndatetime                                                                   \n2022-01-01 00:00:00+00:00                        -2.037           -0.002   \n2022-01-01 01:00:00+00:00                        -2.170           -0.002   \n2022-01-01 02:00:00+00:00                        -2.202           -0.002   \n2022-01-01 03:00:00+00:00                        -2.238           -0.002   \n2022-01-01 04:00:00+00:00                        -2.287           -0.002   \n...                                                 ...              ...   \n2023-12-31 19:00:00+00:00                        -1.896           -0.130   \n2023-12-31 20:00:00+00:00                        -1.886           -0.121   \n2023-12-31 21:00:00+00:00                        -1.890           -0.120   \n2023-12-31 22:00:00+00:00                        -1.868           -0.120   \n2023-12-31 23:00:00+00:00                        -1.868           -0.120   \n\n                           kw_lights_zone2  kw_total_zone1  kw_total_zone2  \\\ndatetime                                                                     \n2022-01-01 00:00:00+00:00           -0.222           2.091           2.308   \n2022-01-01 01:00:00+00:00           -0.278           2.086           2.504   \n2022-01-01 02:00:00+00:00           -0.238           2.085           2.501   \n2022-01-01 03:00:00+00:00           -0.240           2.100           2.539   \n2022-01-01 04:00:00+00:00           -0.280           2.102           2.952   \n...                                    ...             ...             ...   \n2023-12-31 19:00:00+00:00           -0.031           1.659           2.058   \n2023-12-31 20:00:00+00:00           -0.019           1.661           2.038   \n2023-12-31 21:00:00+00:00           -0.019           8.045           2.049   \n2023-12-31 22:00:00+00:00           -0.019           4.361           2.021   \n2023-12-31 23:00:00+00:00           -0.019           4.361           2.021   \n\n                           kw_ventilation_zone1  kw_ventilation_zone2  \\\ndatetime                                                                \n2022-01-01 00:00:00+00:00                -0.027                -0.030   \n2022-01-01 01:00:00+00:00                -0.027                -0.044   \n2022-01-01 02:00:00+00:00                -0.026                -0.043   \n2022-01-01 03:00:00+00:00                -0.026                -0.044   \n2022-01-01 04:00:00+00:00                -0.027                -0.044   \n...                                         ...                   ...   \n2023-12-31 19:00:00+00:00                -0.031                -0.022   \n2023-12-31 20:00:00+00:00                -0.031                -0.023   \n2023-12-31 21:00:00+00:00                -0.031                -0.023   \n2023-12-31 22:00:00+00:00                -0.031                -0.023   \n2023-12-31 23:00:00+00:00                -0.031                -0.023   \n\n                           kw_water_heater_zone2  plugs_zone2  \ndatetime                                                       \n2022-01-01 00:00:00+00:00                 -0.004       -0.156  \n2022-01-01 01:00:00+00:00                 -0.004       -0.157  \n2022-01-01 02:00:00+00:00                 -0.004       -0.157  \n2022-01-01 03:00:00+00:00                 -0.004       -0.157  \n2022-01-01 04:00:00+00:00                 -0.356       -0.156  \n...                                          ...          ...  \n2023-12-31 19:00:00+00:00                  0.000       -0.206  \n2023-12-31 20:00:00+00:00                  0.000       -0.206  \n2023-12-31 21:00:00+00:00                  0.000       -0.215  \n2023-12-31 22:00:00+00:00                  0.000       -0.207  \n2023-12-31 23:00:00+00:00                  0.000       -0.207  \n\n[17520 rows x 27 columns]",
      "text/html": "<div>\n<style scoped>\n    .dataframe tbody tr th:only-of-type {\n        vertical-align: middle;\n    }\n\n    .dataframe tbody tr th {\n        vertical-align: top;\n    }\n\n    .dataframe thead th {\n        text-align: right;\n    }\n</style>\n<table border=\"1\" class=\"dataframe\">\n  <thead>\n    <tr style=\"text-align: right;\">\n      <th></th>\n      <th>AirTemp</th>\n      <th>pres</th>\n      <th>rain</th>\n      <th>rh</th>\n      <th>wd</th>\n      <th>ws</th>\n      <th>Global_Solar_Flux</th>\n      <th>Diffuse_Solar_Flux</th>\n      <th>Direct_Solar_Flux</th>\n      <th>Downwelling_IR_Flux</th>\n      <th>...</th>\n      <th>kw_heatingcoolingtotal_zone1</th>\n      <th>kw_heatingcoolingtotal_zone2</th>\n      <th>kw_lights_zone1</th>\n      <th>kw_lights_zone2</th>\n      <th>kw_total_zone1</th>\n      <th>kw_total_zone2</th>\n      <th>kw_ventilation_zone1</th>\n      <th>kw_ventilation_zone2</th>\n      <th>kw_water_heater_zone2</th>\n      <th>plugs_zone2</th>\n    </tr>\n    <tr>\n      <th>datetime</th>\n      <th></th>\n      <th></th>\n      <th></th>\n      <th></th>\n      <th></th>\n      <th></th>\n      <th></th>\n      <th></th>\n      <th></th>\n      <th></th>\n      <th></th>\n      <th></th>\n      <th></th>\n      <th></th>\n      <th></th>\n      <th></th>\n      <th></th>\n      <th></th>\n      <th></th>\n      <th></th>\n      <th></th>\n    </tr>\n  </thead>\n  <tbody>\n    <tr>\n      <th>2022-01-01 00:00:00+00:00</th>\n      <td>10.279</td>\n      <td>1005.058</td>\n      <td>0.000</td>\n      <td>95.870</td>\n      <td>187.576</td>\n      <td>1.758</td>\n      <td>-0.271</td>\n      <td>-0.370</td>\n      <td>-0.110</td>\n      <td>342.922</td>\n      <td>...</td>\n      <td>-1.798</td>\n      <td>-2.037</td>\n      <td>-0.002</td>\n      <td>-0.222</td>\n      <td>2.091</td>\n      <td>2.308</td>\n      <td>-0.027</td>\n      <td>-0.030</td>\n      <td>-0.004</td>\n      <td>-0.156</td>\n    </tr>\n    <tr>\n      <th>2022-01-01 01:00:00+00:00</th>\n      <td>10.318</td>\n      <td>1004.790</td>\n      <td>0.000</td>\n      <td>95.335</td>\n      <td>218.280</td>\n      <td>2.401</td>\n      <td>-0.371</td>\n      <td>-0.499</td>\n      <td>-0.231</td>\n      <td>328.399</td>\n      <td>...</td>\n      <td>-1.794</td>\n      <td>-2.170</td>\n      <td>-0.002</td>\n      <td>-0.278</td>\n      <td>2.086</td>\n      <td>2.504</td>\n      <td>-0.027</td>\n      <td>-0.044</td>\n      <td>-0.004</td>\n      <td>-0.157</td>\n    </tr>\n    <tr>\n      <th>2022-01-01 02:00:00+00:00</th>\n      <td>9.901</td>\n      <td>1004.791</td>\n      <td>0.013</td>\n      <td>95.699</td>\n      <td>185.351</td>\n      <td>1.821</td>\n      <td>-0.846</td>\n      <td>-0.999</td>\n      <td>-0.235</td>\n      <td>288.659</td>\n      <td>...</td>\n      <td>-1.795</td>\n      <td>-2.202</td>\n      <td>-0.002</td>\n      <td>-0.238</td>\n      <td>2.085</td>\n      <td>2.501</td>\n      <td>-0.026</td>\n      <td>-0.043</td>\n      <td>-0.004</td>\n      <td>-0.157</td>\n    </tr>\n    <tr>\n      <th>2022-01-01 03:00:00+00:00</th>\n      <td>9.444</td>\n      <td>1004.554</td>\n      <td>0.000</td>\n      <td>95.881</td>\n      <td>193.537</td>\n      <td>1.760</td>\n      <td>-0.632</td>\n      <td>-0.755</td>\n      <td>-0.173</td>\n      <td>309.317</td>\n      <td>...</td>\n      <td>-1.811</td>\n      <td>-2.238</td>\n      <td>-0.002</td>\n      <td>-0.240</td>\n      <td>2.100</td>\n      <td>2.539</td>\n      <td>-0.026</td>\n      <td>-0.044</td>\n      <td>-0.004</td>\n      <td>-0.157</td>\n    </tr>\n    <tr>\n      <th>2022-01-01 04:00:00+00:00</th>\n      <td>8.587</td>\n      <td>1004.524</td>\n      <td>0.000</td>\n      <td>96.738</td>\n      <td>174.806</td>\n      <td>1.613</td>\n      <td>-0.395</td>\n      <td>-0.489</td>\n      <td>-0.110</td>\n      <td>323.557</td>\n      <td>...</td>\n      <td>-1.814</td>\n      <td>-2.287</td>\n      <td>-0.002</td>\n      <td>-0.280</td>\n      <td>2.102</td>\n      <td>2.952</td>\n      <td>-0.027</td>\n      <td>-0.044</td>\n      <td>-0.356</td>\n      <td>-0.156</td>\n    </tr>\n    <tr>\n      <th>...</th>\n      <td>...</td>\n      <td>...</td>\n      <td>...</td>\n      <td>...</td>\n      <td>...</td>\n      <td>...</td>\n      <td>...</td>\n      <td>...</td>\n      <td>...</td>\n      <td>...</td>\n      <td>...</td>\n      <td>...</td>\n      <td>...</td>\n      <td>...</td>\n      <td>...</td>\n      <td>...</td>\n      <td>...</td>\n      <td>...</td>\n      <td>...</td>\n      <td>...</td>\n      <td>...</td>\n    </tr>\n    <tr>\n      <th>2023-12-31 19:00:00+00:00</th>\n      <td>7.523</td>\n      <td>983.610</td>\n      <td>0.000</td>\n      <td>77.079</td>\n      <td>248.157</td>\n      <td>5.871</td>\n      <td>-1.114</td>\n      <td>-1.283</td>\n      <td>-0.246</td>\n      <td>259.846</td>\n      <td>...</td>\n      <td>-1.058</td>\n      <td>-1.896</td>\n      <td>-0.130</td>\n      <td>-0.031</td>\n      <td>1.659</td>\n      <td>2.058</td>\n      <td>-0.031</td>\n      <td>-0.022</td>\n      <td>0.000</td>\n      <td>-0.206</td>\n    </tr>\n    <tr>\n      <th>2023-12-31 20:00:00+00:00</th>\n      <td>7.021</td>\n      <td>984.488</td>\n      <td>0.000</td>\n      <td>81.753</td>\n      <td>246.199</td>\n      <td>5.223</td>\n      <td>-1.130</td>\n      <td>-1.270</td>\n      <td>0.178</td>\n      <td>261.117</td>\n      <td>...</td>\n      <td>-1.070</td>\n      <td>-1.886</td>\n      <td>-0.121</td>\n      <td>-0.019</td>\n      <td>1.661</td>\n      <td>2.038</td>\n      <td>-0.031</td>\n      <td>-0.023</td>\n      <td>0.000</td>\n      <td>-0.206</td>\n    </tr>\n    <tr>\n      <th>2023-12-31 21:00:00+00:00</th>\n      <td>6.746</td>\n      <td>984.980</td>\n      <td>0.000</td>\n      <td>83.942</td>\n      <td>245.813</td>\n      <td>4.572</td>\n      <td>-0.944</td>\n      <td>-1.041</td>\n      <td>0.281</td>\n      <td>289.698</td>\n      <td>...</td>\n      <td>-7.507</td>\n      <td>-1.890</td>\n      <td>-0.120</td>\n      <td>-0.019</td>\n      <td>8.045</td>\n      <td>2.049</td>\n      <td>-0.031</td>\n      <td>-0.023</td>\n      <td>0.000</td>\n      <td>-0.215</td>\n    </tr>\n    <tr>\n      <th>2023-12-31 22:00:00+00:00</th>\n      <td>6.703</td>\n      <td>985.161</td>\n      <td>0.000</td>\n      <td>83.873</td>\n      <td>241.623</td>\n      <td>4.568</td>\n      <td>-0.935</td>\n      <td>-1.029</td>\n      <td>0.203</td>\n      <td>279.778</td>\n      <td>...</td>\n      <td>-3.758</td>\n      <td>-1.868</td>\n      <td>-0.120</td>\n      <td>-0.019</td>\n      <td>4.361</td>\n      <td>2.021</td>\n      <td>-0.031</td>\n      <td>-0.023</td>\n      <td>0.000</td>\n      <td>-0.207</td>\n    </tr>\n    <tr>\n      <th>2023-12-31 23:00:00+00:00</th>\n      <td>6.574</td>\n      <td>985.901</td>\n      <td>0.000</td>\n      <td>82.309</td>\n      <td>251.971</td>\n      <td>4.799</td>\n      <td>-1.157</td>\n      <td>-1.273</td>\n      <td>0.051</td>\n      <td>258.689</td>\n      <td>...</td>\n      <td>-3.758</td>\n      <td>-1.868</td>\n      <td>-0.120</td>\n      <td>-0.019</td>\n      <td>4.361</td>\n      <td>2.021</td>\n      <td>-0.031</td>\n      <td>-0.023</td>\n      <td>0.000</td>\n      <td>-0.207</td>\n    </tr>\n  </tbody>\n</table>\n<p>17520 rows × 27 columns</p>\n</div>"
     },
     "execution_count": 2,
     "metadata": {},
     "output_type": "execute_result"
    }
   ],
   "source": [
    "data = pd.read_csv('students_drahi_production_consumption_hourly.csv', parse_dates=[0])\n",
    "data.set_index(\"datetime\", inplace=True)\n",
    "\n",
    "data"
   ],
   "metadata": {
    "collapsed": false,
    "ExecuteTime": {
     "end_time": "2024-02-16T15:59:17.689740Z",
     "start_time": "2024-02-16T15:59:17.556649Z"
    }
   },
   "id": "41d833ad3fc67167",
   "execution_count": 2
  },
  {
   "cell_type": "code",
   "outputs": [],
   "source": [
    "hourly_data_path = 'students_drahi_production_consumption_hourly.csv'\n",
    "hourly_data = pd.read_csv(hourly_data_path)\n",
    "hourly_data_index = hourly_data.set_index(\"datetime\")"
   ],
   "metadata": {
    "collapsed": false,
    "ExecuteTime": {
     "end_time": "2024-02-16T15:59:17.731329Z",
     "start_time": "2024-02-16T15:59:17.689740Z"
    }
   },
   "id": "66b802d563a11c23",
   "execution_count": 3
  },
  {
   "cell_type": "code",
   "outputs": [],
   "source": [
    "from sklearn.preprocessing import FunctionTransformer\n",
    "\n",
    "#Little hack to \"freeze\" transformers, since the data in the input is flattened \n",
    "\n",
    "def fit_and_freeze(transformer):\n",
    "    fitted = [0]\n",
    "\n",
    "    def func(x):\n",
    "        if not fitted[0]:\n",
    "            transformer.fit(x)\n",
    "            fitted[0] = 1\n",
    "        return transformer.transform(x)\n",
    "\n",
    "    return FunctionTransformer(func)"
   ],
   "metadata": {
    "collapsed": false,
    "ExecuteTime": {
     "end_time": "2024-02-16T15:59:18.234428Z",
     "start_time": "2024-02-16T15:59:17.732668Z"
    }
   },
   "id": "8edc9df5a922de45",
   "execution_count": 4
  },
  {
   "cell_type": "code",
   "outputs": [],
   "source": [
    "time = pd.to_datetime(hourly_data['datetime']).values.astype('datetime64[s]')\n",
    "power_consumption = hourly_data['kw_total_zone2'].values\n",
    "\n",
    "dec = [] # daily energy consumption\n",
    "t_dec = []\n",
    "\n",
    "for ti, t in enumerate(time):\n",
    "    tmp_t = pd.Timestamp(t)\n",
    "\n",
    "    if np.isclose(tmp_t.hour, 0) and np.isclose(tmp_t.minute, 0):\n",
    "\n",
    "        day_end = np.datetime64(tmp_t + pd.Timedelta(days=1))\n",
    "        ind = np.where((time > tmp_t) & (time < day_end), True, False)\n",
    "\n",
    "        if len(time[ind]) > 0 and not np.isnan(power_consumption[ind]).any():\n",
    "            t_dec.append(np.datetime64(tmp_t).astype('datetime64[s]'))\n",
    "            dec.append(np.trapz(power_consumption[ind], time[ind].astype(int))/3600)\n",
    "\n",
    "t_dec = np.array(t_dec)\n",
    "dec = np.array(dec)\n",
    "\n",
    "N = 7 # N days of predictors beforehand\n",
    "final_ind = []\n",
    "final_hourly = []\n",
    "\n",
    "predictor_window = pd.Timedelta(days=N)\n",
    "\n",
    "for ti, t in enumerate(t_dec):\n",
    "    tmp_t = pd.Timestamp(t)\n",
    "\n",
    "    ind = np.where((time >= tmp_t - predictor_window) & (time < tmp_t), True, False) # finding indices within the N prior days\n",
    "\n",
    "    bad_ind = np.isnan(hourly_data.iloc[ind, 1::].values)\n",
    "    if len(time[ind]) >= 24 * N and not bad_ind.any(): # rejecting any data with NaNs; useful for the student dataset\n",
    "        final_ind.append(ti)\n",
    "        final_hourly.append(hourly_data.iloc[ind, 1::].values)\n",
    "\n",
    "target_time = t_dec[final_ind]\n",
    "predictors = np.array(final_hourly)\n",
    "\n",
    "X = predictors.reshape(len(predictors), -1)\n",
    "y = np.array(dec[final_ind])"
   ],
   "metadata": {
    "collapsed": false,
    "ExecuteTime": {
     "end_time": "2024-02-16T15:59:20.019834Z",
     "start_time": "2024-02-16T15:59:18.235433Z"
    }
   },
   "id": "b59972f2ba38eb27",
   "execution_count": 5
  },
  {
   "cell_type": "code",
   "outputs": [],
   "source": [
    "\n",
    "from sklearn.pipeline import Pipeline\n",
    "from sklearn.preprocessing import StandardScaler\n",
    "\n",
    "# AirTemp preprocessor\n",
    "\n",
    "airtemp_pipe = Pipeline([\n",
    "    ('scaler', fit_and_freeze(StandardScaler()))\n",
    "])\n",
    "airtemp_pipe.fit(hourly_data_index[\"AirTemp\"].values.reshape(-1, 1))\n",
    "airtemp_transformer = [(f'AirTemp-{i}', airtemp_pipe, [i]) for i in range(0, 4536, 27)]\n",
    "\n",
    "#Global Solar Flux preprocessor\n",
    "\n",
    "global_solar_flux_pipe = Pipeline([\n",
    "    ('deskew', FunctionTransformer(np.vectorize(lambda x : np.log2(4+x)))),\n",
    "    ('scaler', fit_and_freeze(StandardScaler()))\n",
    "])\n",
    "global_solar_flux_pipe.fit(hourly_data_index[\"Global_Solar_Flux\"].values.reshape(-1, 1))\n",
    "global_solar_flux_transformer = [(f'Global_Solar_Flux-{i}', global_solar_flux_pipe, [i]) for i in range(6, 4536, 27)]\n",
    "\n",
    "a = sum([[(f'{j}-{i}', 'passthrough', [i]) for i in range(j, 4536, 27)]\n",
    "          for j in [1, 2, 3, 4, 5, 7, 8, 9, 10, 11, 12, 13, 14, 15, 16, 17, 18, 19, 20, 21, 22, 23, 24, 25, 26]], [])\n"
   ],
   "metadata": {
    "collapsed": false
   },
   "id": "36a904de5d9555a5",
   "execution_count": null
  },
  {
   "cell_type": "code",
   "outputs": [],
   "source": [
    "\n",
    "from sklearn.model_selection import train_test_split\n",
    "\n",
    "X_train, X_test, y_train, y_test = train_test_split(X, y, test_size=0.2, random_state=148)\n",
    "\n",
    "#reg = Ridge(alpha=1e8)\n",
    "#reg.fit(x_train, y_train)\n",
    "#y_pred = reg.predict(x_test)"
   ],
   "metadata": {
    "collapsed": false
   },
   "id": "6896d5def0f33683",
   "execution_count": null
  },
  {
   "cell_type": "code",
   "outputs": [],
   "source": [
    "from sklearn.linear_model import Ridge\n",
    "from joblib import Memory\n",
    "from tempfile import mkdtemp\n",
    "from sklearn.neural_network import MLPRegressor\n",
    "from sklearn.preprocessing import FunctionTransformer\n",
    "from sklearn.compose import ColumnTransformer\n",
    "from sklearn.pipeline import Pipeline\n",
    "from sklearn.preprocessing import StandardScaler\n",
    "\n",
    "\n",
    "# preprocessor = Pipeline(steps=[])\n",
    "cols = ['AirTemp', 'pres', 'rain', 'rh', 'wd', 'ws', 'Global_Solar_Flux',\n",
    "        'Diffuse_Solar_Flux', 'Direct_Solar_Flux', 'Downwelling_IR_Flux', 'SAA',\n",
    "        'SZA', 'PAC', 'TGBT [kW]', 'kw_heater_corridor1_zone1',\n",
    "        'kw_heaters_corridor_zone2', 'kw_heaters_toilets_zone2',\n",
    "        'kw_heatingcoolingtotal_zone1', 'kw_heatingcoolingtotal_zone2',\n",
    "        'kw_lights_zone1', 'kw_lights_zone2', 'kw_total_zone1',\n",
    "        'kw_total_zone2', 'kw_ventilation_zone1', 'kw_ventilation_zone2',\n",
    "        'kw_water_heater_zone2', 'plugs_zone2']\n",
    "\n",
    "pipelines = []\n",
    "\n",
    "for col in cols:\n",
    "    mem = Memory(location=mkdtemp(), verbose=10)\n",
    "    scaler_pipeline =  Pipeline([('scaler', StandardScaler())], memory=mem)\n",
    "    scaler_pipeline.fit(hourly_data_index[\"AirTemp\"].values.reshape(-1, 1))\n",
    "    pipelines.append(scaler_pipeline)\n",
    "\n",
    "memmod = Memory(location=mkdtemp(), verbose=10)\n",
    "\n",
    "preprocessor = ColumnTransformer(transformers=[\n",
    "    (f\"{cols[i%27]}-{i//27}\", pipelines[i%27], [i]) for i in range(4536)\n",
    "])\n",
    "\n",
    "model = Pipeline(steps=[\n",
    "    #('preprocessor', preprocessor),\n",
    "    #('regressor', GradientBoostingRegressor(learning_rate=0.05, n_estimators=200, verbose=2))\n",
    "    #('regressor', MLPRegressor(hidden_layer_sizes=(100, 100, 50), max_iter=1000, verbose=True)),\n",
    "    ('regressor', Ridge(alpha=1e8, random_state=0))\n",
    "])\n",
    "\n",
    "model"
   ],
   "metadata": {
    "collapsed": false
   },
   "id": "5886f270a5fe3bd",
   "execution_count": null
  },
  {
   "cell_type": "code",
   "outputs": [],
   "source": [
    "model.fit(X_train, y_train)"
   ],
   "metadata": {
    "collapsed": false
   },
   "id": "447fd2c84ea7714c",
   "execution_count": null
  },
  {
   "cell_type": "code",
   "outputs": [],
   "source": [
    "from skimage.metrics import mean_squared_error\n",
    "from sklearn.model_selection import cross_validate\n",
    "\n",
    "-mean_squared_error(y_test, model.predict(X_test))"
   ],
   "metadata": {
    "collapsed": false
   },
   "id": "3e2a5a2096438431",
   "execution_count": null
  },
  {
   "cell_type": "code",
   "outputs": [],
   "source": [
    "np.mean(cross_validate(model, X, y, cv=5, scoring='neg_mean_squared_error')['test_score'])"
   ],
   "metadata": {
    "collapsed": false
   },
   "id": "4d394be033df4ea8",
   "execution_count": null
  },
  {
   "cell_type": "code",
   "outputs": [],
   "source": [
    "from sklearn.model_selection import GridSearchCV\n",
    "\n",
    "param_grid = {'alpha': np.logspace(-2, 10, 21)}\n",
    "\n",
    "grid = GridSearchCV(Ridge(), param_grid, cv=5, scoring='neg_mean_squared_error')\n",
    "\n",
    "grid.fit(X, y) # using the entire dataset for validation\n",
    "\n",
    "best_alpha = grid.best_params_['alpha']\n",
    "best_rse = -grid.best_score_/np.mean((y-y.mean())**2)\n",
    "print('Best alpha from validation:', best_alpha)"
   ],
   "metadata": {
    "collapsed": false
   },
   "id": "52b9ee44ee57be78",
   "execution_count": null
  },
  {
   "cell_type": "code",
   "outputs": [],
   "source": [
    "best_model = grid.best_estimator_\n",
    "np.mean(cross_validate(best_model, X, y, cv=5, scoring='neg_mean_squared_error')['test_score'])"
   ],
   "metadata": {
    "collapsed": false
   },
   "id": "21680fd6f3d010b6",
   "execution_count": null
  },
  {
   "cell_type": "code",
   "outputs": [],
   "source": [
    "def relative_squared_error(y_pred, y_true):\n",
    "    \"\"\"Relative squared error (RSE; also called relative mean square error). < 1 is good, = 1 is bad, > 1 really bad.\"\"\"\n",
    "    return np.mean((y_pred - y_true)**2)/np.mean((y_true - y_true.mean())**2)"
   ],
   "metadata": {
    "collapsed": false
   },
   "id": "6bda478ac5cd61cc",
   "execution_count": null
  },
  {
   "cell_type": "code",
   "outputs": [],
   "source": [
    "relative_squared_error(best_model.predict(X), y)"
   ],
   "metadata": {
    "collapsed": false
   },
   "id": "a28cebae8fa2982e",
   "execution_count": null
  },
  {
   "cell_type": "code",
   "outputs": [],
   "source": [
    "from skl2onnx import to_onnx\n",
    "\n",
    "#initial_type = [('float_input', FloatTensorType([None,4536]))]\n",
    "#onnx_model = convert_sklearn(model, initial_types=initial_type)\n",
    "onnx_model = to_onnx(model, X[:1].astype(np.float32), target_opset=12, verbose=True)"
   ],
   "metadata": {
    "collapsed": false
   },
   "id": "15265933b7de0c4d",
   "execution_count": null
  },
  {
   "cell_type": "code",
   "outputs": [],
   "source": [
    "with open('AStar-GradientBoost.onnx', 'wb') as file:\n",
    "    file.write(onnx_model.SerializeToString())"
   ],
   "metadata": {
    "collapsed": false
   },
   "id": "c9e2dbb09f2f0c63",
   "execution_count": null
  },
  {
   "cell_type": "code",
   "outputs": [],
   "source": [
    "from onnxruntime import InferenceSession\n",
    "\n",
    "sess = InferenceSession('AStar-GradientBoost.onnx', providers=[\"CPUExecutionProvider\"])\n",
    "rerun = sess.run(None, {\"X\": X_test.astype(np.float32)})[0][:, 0]\n",
    "\n",
    "rerun"
   ],
   "metadata": {
    "collapsed": false
   },
   "id": "d679e5651394188d",
   "execution_count": null
  },
  {
   "cell_type": "code",
   "outputs": [],
   "source": [
    "model.predict(X_test)"
   ],
   "metadata": {
    "collapsed": false
   },
   "id": "4076c6faace9db0a",
   "execution_count": null
  },
  {
   "cell_type": "code",
   "outputs": [],
   "source": [],
   "metadata": {
    "collapsed": false
   },
   "id": "25232fa9ca3fe6b4"
  }
 ],
 "metadata": {
  "kernelspec": {
   "display_name": "Python 3",
   "language": "python",
   "name": "python3"
  },
  "language_info": {
   "codemirror_mode": {
    "name": "ipython",
    "version": 2
   },
   "file_extension": ".py",
   "mimetype": "text/x-python",
   "name": "python",
   "nbconvert_exporter": "python",
   "pygments_lexer": "ipython2",
   "version": "2.7.6"
  }
 },
 "nbformat": 4,
 "nbformat_minor": 5
}
