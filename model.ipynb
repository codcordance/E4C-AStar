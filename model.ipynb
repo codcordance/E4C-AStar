{
 "cells": [
  {
   "cell_type": "code",
   "outputs": [],
   "source": [
    "import pandas as pd\n",
    "import numpy as np\n",
    "\n",
    "pd.options.plotting.backend = \"plotly\""
   ],
   "metadata": {
    "collapsed": false,
    "ExecuteTime": {
     "end_time": "2024-02-16T01:32:38.117994Z",
     "start_time": "2024-02-16T01:32:37.686331Z"
    }
   },
   "id": "initial_id",
   "execution_count": 1
  },
  {
   "cell_type": "code",
   "outputs": [
    {
     "data": {
      "text/plain": "                        datetime  AirTemp      pres   rain      rh       wd  \\\n0      2022-01-01 00:00:00+00:00   10.279  1005.058  0.000  95.870  187.576   \n1      2022-01-01 01:00:00+00:00   10.318  1004.790  0.000  95.335  218.280   \n2      2022-01-01 02:00:00+00:00    9.901  1004.791  0.013  95.699  185.351   \n3      2022-01-01 03:00:00+00:00    9.444  1004.554  0.000  95.881  193.537   \n4      2022-01-01 04:00:00+00:00    8.587  1004.524  0.000  96.738  174.806   \n...                          ...      ...       ...    ...     ...      ...   \n17515  2023-12-31 19:00:00+00:00    7.523   983.610  0.000  77.079  248.157   \n17516  2023-12-31 20:00:00+00:00    7.021   984.488  0.000  81.753  246.199   \n17517  2023-12-31 21:00:00+00:00    6.746   984.980  0.000  83.942  245.813   \n17518  2023-12-31 22:00:00+00:00    6.703   985.161  0.000  83.873  241.623   \n17519  2023-12-31 23:00:00+00:00    6.574   985.901  0.000  82.309  251.971   \n\n          ws  Global_Solar_Flux  Diffuse_Solar_Flux  Direct_Solar_Flux  ...  \\\n0      1.758             -0.271              -0.370             -0.110  ...   \n1      2.401             -0.371              -0.499             -0.231  ...   \n2      1.821             -0.846              -0.999             -0.235  ...   \n3      1.760             -0.632              -0.755             -0.173  ...   \n4      1.613             -0.395              -0.489             -0.110  ...   \n...      ...                ...                 ...                ...  ...   \n17515  5.871             -1.114              -1.283             -0.246  ...   \n17516  5.223             -1.130              -1.270              0.178  ...   \n17517  4.572             -0.944              -1.041              0.281  ...   \n17518  4.568             -0.935              -1.029              0.203  ...   \n17519  4.799             -1.157              -1.273              0.051  ...   \n\n       kw_heatingcoolingtotal_zone1  kw_heatingcoolingtotal_zone2  \\\n0                            -1.798                        -2.037   \n1                            -1.794                        -2.170   \n2                            -1.795                        -2.202   \n3                            -1.811                        -2.238   \n4                            -1.814                        -2.287   \n...                             ...                           ...   \n17515                        -1.058                        -1.896   \n17516                        -1.070                        -1.886   \n17517                        -7.507                        -1.890   \n17518                        -3.758                        -1.868   \n17519                        -3.758                        -1.868   \n\n       kw_lights_zone1  kw_lights_zone2  kw_total_zone1  kw_total_zone2  \\\n0               -0.002           -0.222           2.091           2.308   \n1               -0.002           -0.278           2.086           2.504   \n2               -0.002           -0.238           2.085           2.501   \n3               -0.002           -0.240           2.100           2.539   \n4               -0.002           -0.280           2.102           2.952   \n...                ...              ...             ...             ...   \n17515           -0.130           -0.031           1.659           2.058   \n17516           -0.121           -0.019           1.661           2.038   \n17517           -0.120           -0.019           8.045           2.049   \n17518           -0.120           -0.019           4.361           2.021   \n17519           -0.120           -0.019           4.361           2.021   \n\n       kw_ventilation_zone1  kw_ventilation_zone2  kw_water_heater_zone2  \\\n0                    -0.027                -0.030                 -0.004   \n1                    -0.027                -0.044                 -0.004   \n2                    -0.026                -0.043                 -0.004   \n3                    -0.026                -0.044                 -0.004   \n4                    -0.027                -0.044                 -0.356   \n...                     ...                   ...                    ...   \n17515                -0.031                -0.022                  0.000   \n17516                -0.031                -0.023                  0.000   \n17517                -0.031                -0.023                  0.000   \n17518                -0.031                -0.023                  0.000   \n17519                -0.031                -0.023                  0.000   \n\n       plugs_zone2  \n0           -0.156  \n1           -0.157  \n2           -0.157  \n3           -0.157  \n4           -0.156  \n...            ...  \n17515       -0.206  \n17516       -0.206  \n17517       -0.215  \n17518       -0.207  \n17519       -0.207  \n\n[17520 rows x 28 columns]",
      "text/html": "<div>\n<style scoped>\n    .dataframe tbody tr th:only-of-type {\n        vertical-align: middle;\n    }\n\n    .dataframe tbody tr th {\n        vertical-align: top;\n    }\n\n    .dataframe thead th {\n        text-align: right;\n    }\n</style>\n<table border=\"1\" class=\"dataframe\">\n  <thead>\n    <tr style=\"text-align: right;\">\n      <th></th>\n      <th>datetime</th>\n      <th>AirTemp</th>\n      <th>pres</th>\n      <th>rain</th>\n      <th>rh</th>\n      <th>wd</th>\n      <th>ws</th>\n      <th>Global_Solar_Flux</th>\n      <th>Diffuse_Solar_Flux</th>\n      <th>Direct_Solar_Flux</th>\n      <th>...</th>\n      <th>kw_heatingcoolingtotal_zone1</th>\n      <th>kw_heatingcoolingtotal_zone2</th>\n      <th>kw_lights_zone1</th>\n      <th>kw_lights_zone2</th>\n      <th>kw_total_zone1</th>\n      <th>kw_total_zone2</th>\n      <th>kw_ventilation_zone1</th>\n      <th>kw_ventilation_zone2</th>\n      <th>kw_water_heater_zone2</th>\n      <th>plugs_zone2</th>\n    </tr>\n  </thead>\n  <tbody>\n    <tr>\n      <th>0</th>\n      <td>2022-01-01 00:00:00+00:00</td>\n      <td>10.279</td>\n      <td>1005.058</td>\n      <td>0.000</td>\n      <td>95.870</td>\n      <td>187.576</td>\n      <td>1.758</td>\n      <td>-0.271</td>\n      <td>-0.370</td>\n      <td>-0.110</td>\n      <td>...</td>\n      <td>-1.798</td>\n      <td>-2.037</td>\n      <td>-0.002</td>\n      <td>-0.222</td>\n      <td>2.091</td>\n      <td>2.308</td>\n      <td>-0.027</td>\n      <td>-0.030</td>\n      <td>-0.004</td>\n      <td>-0.156</td>\n    </tr>\n    <tr>\n      <th>1</th>\n      <td>2022-01-01 01:00:00+00:00</td>\n      <td>10.318</td>\n      <td>1004.790</td>\n      <td>0.000</td>\n      <td>95.335</td>\n      <td>218.280</td>\n      <td>2.401</td>\n      <td>-0.371</td>\n      <td>-0.499</td>\n      <td>-0.231</td>\n      <td>...</td>\n      <td>-1.794</td>\n      <td>-2.170</td>\n      <td>-0.002</td>\n      <td>-0.278</td>\n      <td>2.086</td>\n      <td>2.504</td>\n      <td>-0.027</td>\n      <td>-0.044</td>\n      <td>-0.004</td>\n      <td>-0.157</td>\n    </tr>\n    <tr>\n      <th>2</th>\n      <td>2022-01-01 02:00:00+00:00</td>\n      <td>9.901</td>\n      <td>1004.791</td>\n      <td>0.013</td>\n      <td>95.699</td>\n      <td>185.351</td>\n      <td>1.821</td>\n      <td>-0.846</td>\n      <td>-0.999</td>\n      <td>-0.235</td>\n      <td>...</td>\n      <td>-1.795</td>\n      <td>-2.202</td>\n      <td>-0.002</td>\n      <td>-0.238</td>\n      <td>2.085</td>\n      <td>2.501</td>\n      <td>-0.026</td>\n      <td>-0.043</td>\n      <td>-0.004</td>\n      <td>-0.157</td>\n    </tr>\n    <tr>\n      <th>3</th>\n      <td>2022-01-01 03:00:00+00:00</td>\n      <td>9.444</td>\n      <td>1004.554</td>\n      <td>0.000</td>\n      <td>95.881</td>\n      <td>193.537</td>\n      <td>1.760</td>\n      <td>-0.632</td>\n      <td>-0.755</td>\n      <td>-0.173</td>\n      <td>...</td>\n      <td>-1.811</td>\n      <td>-2.238</td>\n      <td>-0.002</td>\n      <td>-0.240</td>\n      <td>2.100</td>\n      <td>2.539</td>\n      <td>-0.026</td>\n      <td>-0.044</td>\n      <td>-0.004</td>\n      <td>-0.157</td>\n    </tr>\n    <tr>\n      <th>4</th>\n      <td>2022-01-01 04:00:00+00:00</td>\n      <td>8.587</td>\n      <td>1004.524</td>\n      <td>0.000</td>\n      <td>96.738</td>\n      <td>174.806</td>\n      <td>1.613</td>\n      <td>-0.395</td>\n      <td>-0.489</td>\n      <td>-0.110</td>\n      <td>...</td>\n      <td>-1.814</td>\n      <td>-2.287</td>\n      <td>-0.002</td>\n      <td>-0.280</td>\n      <td>2.102</td>\n      <td>2.952</td>\n      <td>-0.027</td>\n      <td>-0.044</td>\n      <td>-0.356</td>\n      <td>-0.156</td>\n    </tr>\n    <tr>\n      <th>...</th>\n      <td>...</td>\n      <td>...</td>\n      <td>...</td>\n      <td>...</td>\n      <td>...</td>\n      <td>...</td>\n      <td>...</td>\n      <td>...</td>\n      <td>...</td>\n      <td>...</td>\n      <td>...</td>\n      <td>...</td>\n      <td>...</td>\n      <td>...</td>\n      <td>...</td>\n      <td>...</td>\n      <td>...</td>\n      <td>...</td>\n      <td>...</td>\n      <td>...</td>\n      <td>...</td>\n    </tr>\n    <tr>\n      <th>17515</th>\n      <td>2023-12-31 19:00:00+00:00</td>\n      <td>7.523</td>\n      <td>983.610</td>\n      <td>0.000</td>\n      <td>77.079</td>\n      <td>248.157</td>\n      <td>5.871</td>\n      <td>-1.114</td>\n      <td>-1.283</td>\n      <td>-0.246</td>\n      <td>...</td>\n      <td>-1.058</td>\n      <td>-1.896</td>\n      <td>-0.130</td>\n      <td>-0.031</td>\n      <td>1.659</td>\n      <td>2.058</td>\n      <td>-0.031</td>\n      <td>-0.022</td>\n      <td>0.000</td>\n      <td>-0.206</td>\n    </tr>\n    <tr>\n      <th>17516</th>\n      <td>2023-12-31 20:00:00+00:00</td>\n      <td>7.021</td>\n      <td>984.488</td>\n      <td>0.000</td>\n      <td>81.753</td>\n      <td>246.199</td>\n      <td>5.223</td>\n      <td>-1.130</td>\n      <td>-1.270</td>\n      <td>0.178</td>\n      <td>...</td>\n      <td>-1.070</td>\n      <td>-1.886</td>\n      <td>-0.121</td>\n      <td>-0.019</td>\n      <td>1.661</td>\n      <td>2.038</td>\n      <td>-0.031</td>\n      <td>-0.023</td>\n      <td>0.000</td>\n      <td>-0.206</td>\n    </tr>\n    <tr>\n      <th>17517</th>\n      <td>2023-12-31 21:00:00+00:00</td>\n      <td>6.746</td>\n      <td>984.980</td>\n      <td>0.000</td>\n      <td>83.942</td>\n      <td>245.813</td>\n      <td>4.572</td>\n      <td>-0.944</td>\n      <td>-1.041</td>\n      <td>0.281</td>\n      <td>...</td>\n      <td>-7.507</td>\n      <td>-1.890</td>\n      <td>-0.120</td>\n      <td>-0.019</td>\n      <td>8.045</td>\n      <td>2.049</td>\n      <td>-0.031</td>\n      <td>-0.023</td>\n      <td>0.000</td>\n      <td>-0.215</td>\n    </tr>\n    <tr>\n      <th>17518</th>\n      <td>2023-12-31 22:00:00+00:00</td>\n      <td>6.703</td>\n      <td>985.161</td>\n      <td>0.000</td>\n      <td>83.873</td>\n      <td>241.623</td>\n      <td>4.568</td>\n      <td>-0.935</td>\n      <td>-1.029</td>\n      <td>0.203</td>\n      <td>...</td>\n      <td>-3.758</td>\n      <td>-1.868</td>\n      <td>-0.120</td>\n      <td>-0.019</td>\n      <td>4.361</td>\n      <td>2.021</td>\n      <td>-0.031</td>\n      <td>-0.023</td>\n      <td>0.000</td>\n      <td>-0.207</td>\n    </tr>\n    <tr>\n      <th>17519</th>\n      <td>2023-12-31 23:00:00+00:00</td>\n      <td>6.574</td>\n      <td>985.901</td>\n      <td>0.000</td>\n      <td>82.309</td>\n      <td>251.971</td>\n      <td>4.799</td>\n      <td>-1.157</td>\n      <td>-1.273</td>\n      <td>0.051</td>\n      <td>...</td>\n      <td>-3.758</td>\n      <td>-1.868</td>\n      <td>-0.120</td>\n      <td>-0.019</td>\n      <td>4.361</td>\n      <td>2.021</td>\n      <td>-0.031</td>\n      <td>-0.023</td>\n      <td>0.000</td>\n      <td>-0.207</td>\n    </tr>\n  </tbody>\n</table>\n<p>17520 rows × 28 columns</p>\n</div>"
     },
     "execution_count": 2,
     "metadata": {},
     "output_type": "execute_result"
    }
   ],
   "source": [
    "hourly_data_path = 'students_drahi_production_consumption_hourly_completed.csv'\n",
    "hourly_data = pd.read_csv(hourly_data_path)\n",
    "\n",
    "hourly_data"
   ],
   "metadata": {
    "collapsed": false,
    "ExecuteTime": {
     "end_time": "2024-02-16T01:32:39.138999Z",
     "start_time": "2024-02-16T01:32:39.062056Z"
    }
   },
   "id": "66b802d563a11c23",
   "execution_count": 2
  },
  {
   "cell_type": "code",
   "outputs": [
    {
     "data": {
      "text/plain": "                           AirTemp      pres   rain      rh       wd     ws  \\\ndatetime                                                                      \n2022-01-01 00:00:00+00:00   10.279  1005.058  0.000  95.870  187.576  1.758   \n2022-01-01 01:00:00+00:00   10.318  1004.790  0.000  95.335  218.280  2.401   \n2022-01-01 02:00:00+00:00    9.901  1004.791  0.013  95.699  185.351  1.821   \n2022-01-01 03:00:00+00:00    9.444  1004.554  0.000  95.881  193.537  1.760   \n2022-01-01 04:00:00+00:00    8.587  1004.524  0.000  96.738  174.806  1.613   \n...                            ...       ...    ...     ...      ...    ...   \n2023-12-31 19:00:00+00:00    7.523   983.610  0.000  77.079  248.157  5.871   \n2023-12-31 20:00:00+00:00    7.021   984.488  0.000  81.753  246.199  5.223   \n2023-12-31 21:00:00+00:00    6.746   984.980  0.000  83.942  245.813  4.572   \n2023-12-31 22:00:00+00:00    6.703   985.161  0.000  83.873  241.623  4.568   \n2023-12-31 23:00:00+00:00    6.574   985.901  0.000  82.309  251.971  4.799   \n\n                           Global_Solar_Flux  Diffuse_Solar_Flux  \\\ndatetime                                                           \n2022-01-01 00:00:00+00:00             -0.271              -0.370   \n2022-01-01 01:00:00+00:00             -0.371              -0.499   \n2022-01-01 02:00:00+00:00             -0.846              -0.999   \n2022-01-01 03:00:00+00:00             -0.632              -0.755   \n2022-01-01 04:00:00+00:00             -0.395              -0.489   \n...                                      ...                 ...   \n2023-12-31 19:00:00+00:00             -1.114              -1.283   \n2023-12-31 20:00:00+00:00             -1.130              -1.270   \n2023-12-31 21:00:00+00:00             -0.944              -1.041   \n2023-12-31 22:00:00+00:00             -0.935              -1.029   \n2023-12-31 23:00:00+00:00             -1.157              -1.273   \n\n                           Direct_Solar_Flux  Downwelling_IR_Flux  ...  \\\ndatetime                                                           ...   \n2022-01-01 00:00:00+00:00             -0.110              342.922  ...   \n2022-01-01 01:00:00+00:00             -0.231              328.399  ...   \n2022-01-01 02:00:00+00:00             -0.235              288.659  ...   \n2022-01-01 03:00:00+00:00             -0.173              309.317  ...   \n2022-01-01 04:00:00+00:00             -0.110              323.557  ...   \n...                                      ...                  ...  ...   \n2023-12-31 19:00:00+00:00             -0.246              259.846  ...   \n2023-12-31 20:00:00+00:00              0.178              261.117  ...   \n2023-12-31 21:00:00+00:00              0.281              289.698  ...   \n2023-12-31 22:00:00+00:00              0.203              279.778  ...   \n2023-12-31 23:00:00+00:00              0.051              258.689  ...   \n\n                           kw_heatingcoolingtotal_zone1  \\\ndatetime                                                  \n2022-01-01 00:00:00+00:00                        -1.798   \n2022-01-01 01:00:00+00:00                        -1.794   \n2022-01-01 02:00:00+00:00                        -1.795   \n2022-01-01 03:00:00+00:00                        -1.811   \n2022-01-01 04:00:00+00:00                        -1.814   \n...                                                 ...   \n2023-12-31 19:00:00+00:00                        -1.058   \n2023-12-31 20:00:00+00:00                        -1.070   \n2023-12-31 21:00:00+00:00                        -7.507   \n2023-12-31 22:00:00+00:00                        -3.758   \n2023-12-31 23:00:00+00:00                        -3.758   \n\n                           kw_heatingcoolingtotal_zone2  kw_lights_zone1  \\\ndatetime                                                                   \n2022-01-01 00:00:00+00:00                        -2.037           -0.002   \n2022-01-01 01:00:00+00:00                        -2.170           -0.002   \n2022-01-01 02:00:00+00:00                        -2.202           -0.002   \n2022-01-01 03:00:00+00:00                        -2.238           -0.002   \n2022-01-01 04:00:00+00:00                        -2.287           -0.002   \n...                                                 ...              ...   \n2023-12-31 19:00:00+00:00                        -1.896           -0.130   \n2023-12-31 20:00:00+00:00                        -1.886           -0.121   \n2023-12-31 21:00:00+00:00                        -1.890           -0.120   \n2023-12-31 22:00:00+00:00                        -1.868           -0.120   \n2023-12-31 23:00:00+00:00                        -1.868           -0.120   \n\n                           kw_lights_zone2  kw_total_zone1  kw_total_zone2  \\\ndatetime                                                                     \n2022-01-01 00:00:00+00:00           -0.222           2.091           2.308   \n2022-01-01 01:00:00+00:00           -0.278           2.086           2.504   \n2022-01-01 02:00:00+00:00           -0.238           2.085           2.501   \n2022-01-01 03:00:00+00:00           -0.240           2.100           2.539   \n2022-01-01 04:00:00+00:00           -0.280           2.102           2.952   \n...                                    ...             ...             ...   \n2023-12-31 19:00:00+00:00           -0.031           1.659           2.058   \n2023-12-31 20:00:00+00:00           -0.019           1.661           2.038   \n2023-12-31 21:00:00+00:00           -0.019           8.045           2.049   \n2023-12-31 22:00:00+00:00           -0.019           4.361           2.021   \n2023-12-31 23:00:00+00:00           -0.019           4.361           2.021   \n\n                           kw_ventilation_zone1  kw_ventilation_zone2  \\\ndatetime                                                                \n2022-01-01 00:00:00+00:00                -0.027                -0.030   \n2022-01-01 01:00:00+00:00                -0.027                -0.044   \n2022-01-01 02:00:00+00:00                -0.026                -0.043   \n2022-01-01 03:00:00+00:00                -0.026                -0.044   \n2022-01-01 04:00:00+00:00                -0.027                -0.044   \n...                                         ...                   ...   \n2023-12-31 19:00:00+00:00                -0.031                -0.022   \n2023-12-31 20:00:00+00:00                -0.031                -0.023   \n2023-12-31 21:00:00+00:00                -0.031                -0.023   \n2023-12-31 22:00:00+00:00                -0.031                -0.023   \n2023-12-31 23:00:00+00:00                -0.031                -0.023   \n\n                           kw_water_heater_zone2  plugs_zone2  \ndatetime                                                       \n2022-01-01 00:00:00+00:00                 -0.004       -0.156  \n2022-01-01 01:00:00+00:00                 -0.004       -0.157  \n2022-01-01 02:00:00+00:00                 -0.004       -0.157  \n2022-01-01 03:00:00+00:00                 -0.004       -0.157  \n2022-01-01 04:00:00+00:00                 -0.356       -0.156  \n...                                          ...          ...  \n2023-12-31 19:00:00+00:00                  0.000       -0.206  \n2023-12-31 20:00:00+00:00                  0.000       -0.206  \n2023-12-31 21:00:00+00:00                  0.000       -0.215  \n2023-12-31 22:00:00+00:00                  0.000       -0.207  \n2023-12-31 23:00:00+00:00                  0.000       -0.207  \n\n[17520 rows x 27 columns]",
      "text/html": "<div>\n<style scoped>\n    .dataframe tbody tr th:only-of-type {\n        vertical-align: middle;\n    }\n\n    .dataframe tbody tr th {\n        vertical-align: top;\n    }\n\n    .dataframe thead th {\n        text-align: right;\n    }\n</style>\n<table border=\"1\" class=\"dataframe\">\n  <thead>\n    <tr style=\"text-align: right;\">\n      <th></th>\n      <th>AirTemp</th>\n      <th>pres</th>\n      <th>rain</th>\n      <th>rh</th>\n      <th>wd</th>\n      <th>ws</th>\n      <th>Global_Solar_Flux</th>\n      <th>Diffuse_Solar_Flux</th>\n      <th>Direct_Solar_Flux</th>\n      <th>Downwelling_IR_Flux</th>\n      <th>...</th>\n      <th>kw_heatingcoolingtotal_zone1</th>\n      <th>kw_heatingcoolingtotal_zone2</th>\n      <th>kw_lights_zone1</th>\n      <th>kw_lights_zone2</th>\n      <th>kw_total_zone1</th>\n      <th>kw_total_zone2</th>\n      <th>kw_ventilation_zone1</th>\n      <th>kw_ventilation_zone2</th>\n      <th>kw_water_heater_zone2</th>\n      <th>plugs_zone2</th>\n    </tr>\n    <tr>\n      <th>datetime</th>\n      <th></th>\n      <th></th>\n      <th></th>\n      <th></th>\n      <th></th>\n      <th></th>\n      <th></th>\n      <th></th>\n      <th></th>\n      <th></th>\n      <th></th>\n      <th></th>\n      <th></th>\n      <th></th>\n      <th></th>\n      <th></th>\n      <th></th>\n      <th></th>\n      <th></th>\n      <th></th>\n      <th></th>\n    </tr>\n  </thead>\n  <tbody>\n    <tr>\n      <th>2022-01-01 00:00:00+00:00</th>\n      <td>10.279</td>\n      <td>1005.058</td>\n      <td>0.000</td>\n      <td>95.870</td>\n      <td>187.576</td>\n      <td>1.758</td>\n      <td>-0.271</td>\n      <td>-0.370</td>\n      <td>-0.110</td>\n      <td>342.922</td>\n      <td>...</td>\n      <td>-1.798</td>\n      <td>-2.037</td>\n      <td>-0.002</td>\n      <td>-0.222</td>\n      <td>2.091</td>\n      <td>2.308</td>\n      <td>-0.027</td>\n      <td>-0.030</td>\n      <td>-0.004</td>\n      <td>-0.156</td>\n    </tr>\n    <tr>\n      <th>2022-01-01 01:00:00+00:00</th>\n      <td>10.318</td>\n      <td>1004.790</td>\n      <td>0.000</td>\n      <td>95.335</td>\n      <td>218.280</td>\n      <td>2.401</td>\n      <td>-0.371</td>\n      <td>-0.499</td>\n      <td>-0.231</td>\n      <td>328.399</td>\n      <td>...</td>\n      <td>-1.794</td>\n      <td>-2.170</td>\n      <td>-0.002</td>\n      <td>-0.278</td>\n      <td>2.086</td>\n      <td>2.504</td>\n      <td>-0.027</td>\n      <td>-0.044</td>\n      <td>-0.004</td>\n      <td>-0.157</td>\n    </tr>\n    <tr>\n      <th>2022-01-01 02:00:00+00:00</th>\n      <td>9.901</td>\n      <td>1004.791</td>\n      <td>0.013</td>\n      <td>95.699</td>\n      <td>185.351</td>\n      <td>1.821</td>\n      <td>-0.846</td>\n      <td>-0.999</td>\n      <td>-0.235</td>\n      <td>288.659</td>\n      <td>...</td>\n      <td>-1.795</td>\n      <td>-2.202</td>\n      <td>-0.002</td>\n      <td>-0.238</td>\n      <td>2.085</td>\n      <td>2.501</td>\n      <td>-0.026</td>\n      <td>-0.043</td>\n      <td>-0.004</td>\n      <td>-0.157</td>\n    </tr>\n    <tr>\n      <th>2022-01-01 03:00:00+00:00</th>\n      <td>9.444</td>\n      <td>1004.554</td>\n      <td>0.000</td>\n      <td>95.881</td>\n      <td>193.537</td>\n      <td>1.760</td>\n      <td>-0.632</td>\n      <td>-0.755</td>\n      <td>-0.173</td>\n      <td>309.317</td>\n      <td>...</td>\n      <td>-1.811</td>\n      <td>-2.238</td>\n      <td>-0.002</td>\n      <td>-0.240</td>\n      <td>2.100</td>\n      <td>2.539</td>\n      <td>-0.026</td>\n      <td>-0.044</td>\n      <td>-0.004</td>\n      <td>-0.157</td>\n    </tr>\n    <tr>\n      <th>2022-01-01 04:00:00+00:00</th>\n      <td>8.587</td>\n      <td>1004.524</td>\n      <td>0.000</td>\n      <td>96.738</td>\n      <td>174.806</td>\n      <td>1.613</td>\n      <td>-0.395</td>\n      <td>-0.489</td>\n      <td>-0.110</td>\n      <td>323.557</td>\n      <td>...</td>\n      <td>-1.814</td>\n      <td>-2.287</td>\n      <td>-0.002</td>\n      <td>-0.280</td>\n      <td>2.102</td>\n      <td>2.952</td>\n      <td>-0.027</td>\n      <td>-0.044</td>\n      <td>-0.356</td>\n      <td>-0.156</td>\n    </tr>\n    <tr>\n      <th>...</th>\n      <td>...</td>\n      <td>...</td>\n      <td>...</td>\n      <td>...</td>\n      <td>...</td>\n      <td>...</td>\n      <td>...</td>\n      <td>...</td>\n      <td>...</td>\n      <td>...</td>\n      <td>...</td>\n      <td>...</td>\n      <td>...</td>\n      <td>...</td>\n      <td>...</td>\n      <td>...</td>\n      <td>...</td>\n      <td>...</td>\n      <td>...</td>\n      <td>...</td>\n      <td>...</td>\n    </tr>\n    <tr>\n      <th>2023-12-31 19:00:00+00:00</th>\n      <td>7.523</td>\n      <td>983.610</td>\n      <td>0.000</td>\n      <td>77.079</td>\n      <td>248.157</td>\n      <td>5.871</td>\n      <td>-1.114</td>\n      <td>-1.283</td>\n      <td>-0.246</td>\n      <td>259.846</td>\n      <td>...</td>\n      <td>-1.058</td>\n      <td>-1.896</td>\n      <td>-0.130</td>\n      <td>-0.031</td>\n      <td>1.659</td>\n      <td>2.058</td>\n      <td>-0.031</td>\n      <td>-0.022</td>\n      <td>0.000</td>\n      <td>-0.206</td>\n    </tr>\n    <tr>\n      <th>2023-12-31 20:00:00+00:00</th>\n      <td>7.021</td>\n      <td>984.488</td>\n      <td>0.000</td>\n      <td>81.753</td>\n      <td>246.199</td>\n      <td>5.223</td>\n      <td>-1.130</td>\n      <td>-1.270</td>\n      <td>0.178</td>\n      <td>261.117</td>\n      <td>...</td>\n      <td>-1.070</td>\n      <td>-1.886</td>\n      <td>-0.121</td>\n      <td>-0.019</td>\n      <td>1.661</td>\n      <td>2.038</td>\n      <td>-0.031</td>\n      <td>-0.023</td>\n      <td>0.000</td>\n      <td>-0.206</td>\n    </tr>\n    <tr>\n      <th>2023-12-31 21:00:00+00:00</th>\n      <td>6.746</td>\n      <td>984.980</td>\n      <td>0.000</td>\n      <td>83.942</td>\n      <td>245.813</td>\n      <td>4.572</td>\n      <td>-0.944</td>\n      <td>-1.041</td>\n      <td>0.281</td>\n      <td>289.698</td>\n      <td>...</td>\n      <td>-7.507</td>\n      <td>-1.890</td>\n      <td>-0.120</td>\n      <td>-0.019</td>\n      <td>8.045</td>\n      <td>2.049</td>\n      <td>-0.031</td>\n      <td>-0.023</td>\n      <td>0.000</td>\n      <td>-0.215</td>\n    </tr>\n    <tr>\n      <th>2023-12-31 22:00:00+00:00</th>\n      <td>6.703</td>\n      <td>985.161</td>\n      <td>0.000</td>\n      <td>83.873</td>\n      <td>241.623</td>\n      <td>4.568</td>\n      <td>-0.935</td>\n      <td>-1.029</td>\n      <td>0.203</td>\n      <td>279.778</td>\n      <td>...</td>\n      <td>-3.758</td>\n      <td>-1.868</td>\n      <td>-0.120</td>\n      <td>-0.019</td>\n      <td>4.361</td>\n      <td>2.021</td>\n      <td>-0.031</td>\n      <td>-0.023</td>\n      <td>0.000</td>\n      <td>-0.207</td>\n    </tr>\n    <tr>\n      <th>2023-12-31 23:00:00+00:00</th>\n      <td>6.574</td>\n      <td>985.901</td>\n      <td>0.000</td>\n      <td>82.309</td>\n      <td>251.971</td>\n      <td>4.799</td>\n      <td>-1.157</td>\n      <td>-1.273</td>\n      <td>0.051</td>\n      <td>258.689</td>\n      <td>...</td>\n      <td>-3.758</td>\n      <td>-1.868</td>\n      <td>-0.120</td>\n      <td>-0.019</td>\n      <td>4.361</td>\n      <td>2.021</td>\n      <td>-0.031</td>\n      <td>-0.023</td>\n      <td>0.000</td>\n      <td>-0.207</td>\n    </tr>\n  </tbody>\n</table>\n<p>17520 rows × 27 columns</p>\n</div>"
     },
     "execution_count": 3,
     "metadata": {},
     "output_type": "execute_result"
    }
   ],
   "source": [
    "hourly_data_index = hourly_data.set_index(\"datetime\")\n",
    "\n",
    "hourly_data_index"
   ],
   "metadata": {
    "collapsed": false,
    "ExecuteTime": {
     "end_time": "2024-02-16T01:32:40.856138Z",
     "start_time": "2024-02-16T01:32:40.833588Z"
    }
   },
   "id": "4ae14d30a8285c5",
   "execution_count": 3
  },
  {
   "cell_type": "code",
   "outputs": [],
   "source": [
    "from sklearn.preprocessing import FunctionTransformer\n",
    "\n",
    "#Little hack to \"freeze\" transformers, since the data in the input is flattened \n",
    "\n",
    "def fit_and_freeze(transformer):\n",
    "    fitted = [0]\n",
    "\n",
    "    def func(x):\n",
    "        if not fitted[0]:\n",
    "            transformer.fit(x)\n",
    "            fitted[0] = 1\n",
    "        return transformer.transform(x)\n",
    "\n",
    "    return FunctionTransformer(func)"
   ],
   "metadata": {
    "collapsed": false,
    "ExecuteTime": {
     "end_time": "2024-02-16T01:32:42.972221Z",
     "start_time": "2024-02-16T01:32:42.476257Z"
    }
   },
   "id": "8edc9df5a922de45",
   "execution_count": 4
  },
  {
   "cell_type": "code",
   "outputs": [
    {
     "data": {
      "text/plain": "Pipeline(steps=[('scaler',\n                 FunctionTransformer(func=<function fit_and_freeze.<locals>.func at 0x000001C45F103CE0>))])",
      "text/html": "<style>#sk-container-id-1 {color: black;background-color: white;}#sk-container-id-1 pre{padding: 0;}#sk-container-id-1 div.sk-toggleable {background-color: white;}#sk-container-id-1 label.sk-toggleable__label {cursor: pointer;display: block;width: 100%;margin-bottom: 0;padding: 0.3em;box-sizing: border-box;text-align: center;}#sk-container-id-1 label.sk-toggleable__label-arrow:before {content: \"▸\";float: left;margin-right: 0.25em;color: #696969;}#sk-container-id-1 label.sk-toggleable__label-arrow:hover:before {color: black;}#sk-container-id-1 div.sk-estimator:hover label.sk-toggleable__label-arrow:before {color: black;}#sk-container-id-1 div.sk-toggleable__content {max-height: 0;max-width: 0;overflow: hidden;text-align: left;background-color: #f0f8ff;}#sk-container-id-1 div.sk-toggleable__content pre {margin: 0.2em;color: black;border-radius: 0.25em;background-color: #f0f8ff;}#sk-container-id-1 input.sk-toggleable__control:checked~div.sk-toggleable__content {max-height: 200px;max-width: 100%;overflow: auto;}#sk-container-id-1 input.sk-toggleable__control:checked~label.sk-toggleable__label-arrow:before {content: \"▾\";}#sk-container-id-1 div.sk-estimator input.sk-toggleable__control:checked~label.sk-toggleable__label {background-color: #d4ebff;}#sk-container-id-1 div.sk-label input.sk-toggleable__control:checked~label.sk-toggleable__label {background-color: #d4ebff;}#sk-container-id-1 input.sk-hidden--visually {border: 0;clip: rect(1px 1px 1px 1px);clip: rect(1px, 1px, 1px, 1px);height: 1px;margin: -1px;overflow: hidden;padding: 0;position: absolute;width: 1px;}#sk-container-id-1 div.sk-estimator {font-family: monospace;background-color: #f0f8ff;border: 1px dotted black;border-radius: 0.25em;box-sizing: border-box;margin-bottom: 0.5em;}#sk-container-id-1 div.sk-estimator:hover {background-color: #d4ebff;}#sk-container-id-1 div.sk-parallel-item::after {content: \"\";width: 100%;border-bottom: 1px solid gray;flex-grow: 1;}#sk-container-id-1 div.sk-label:hover label.sk-toggleable__label {background-color: #d4ebff;}#sk-container-id-1 div.sk-serial::before {content: \"\";position: absolute;border-left: 1px solid gray;box-sizing: border-box;top: 0;bottom: 0;left: 50%;z-index: 0;}#sk-container-id-1 div.sk-serial {display: flex;flex-direction: column;align-items: center;background-color: white;padding-right: 0.2em;padding-left: 0.2em;position: relative;}#sk-container-id-1 div.sk-item {position: relative;z-index: 1;}#sk-container-id-1 div.sk-parallel {display: flex;align-items: stretch;justify-content: center;background-color: white;position: relative;}#sk-container-id-1 div.sk-item::before, #sk-container-id-1 div.sk-parallel-item::before {content: \"\";position: absolute;border-left: 1px solid gray;box-sizing: border-box;top: 0;bottom: 0;left: 50%;z-index: -1;}#sk-container-id-1 div.sk-parallel-item {display: flex;flex-direction: column;z-index: 1;position: relative;background-color: white;}#sk-container-id-1 div.sk-parallel-item:first-child::after {align-self: flex-end;width: 50%;}#sk-container-id-1 div.sk-parallel-item:last-child::after {align-self: flex-start;width: 50%;}#sk-container-id-1 div.sk-parallel-item:only-child::after {width: 0;}#sk-container-id-1 div.sk-dashed-wrapped {border: 1px dashed gray;margin: 0 0.4em 0.5em 0.4em;box-sizing: border-box;padding-bottom: 0.4em;background-color: white;}#sk-container-id-1 div.sk-label label {font-family: monospace;font-weight: bold;display: inline-block;line-height: 1.2em;}#sk-container-id-1 div.sk-label-container {text-align: center;}#sk-container-id-1 div.sk-container {/* jupyter's `normalize.less` sets `[hidden] { display: none; }` but bootstrap.min.css set `[hidden] { display: none !important; }` so we also need the `!important` here to be able to override the default hidden behavior on the sphinx rendered scikit-learn.org. See: https://github.com/scikit-learn/scikit-learn/issues/21755 */display: inline-block !important;position: relative;}#sk-container-id-1 div.sk-text-repr-fallback {display: none;}</style><div id=\"sk-container-id-1\" class=\"sk-top-container\"><div class=\"sk-text-repr-fallback\"><pre>Pipeline(steps=[(&#x27;scaler&#x27;,\n                 FunctionTransformer(func=&lt;function fit_and_freeze.&lt;locals&gt;.func at 0x000001C45F103CE0&gt;))])</pre><b>In a Jupyter environment, please rerun this cell to show the HTML representation or trust the notebook. <br />On GitHub, the HTML representation is unable to render, please try loading this page with nbviewer.org.</b></div><div class=\"sk-container\" hidden><div class=\"sk-item sk-dashed-wrapped\"><div class=\"sk-label-container\"><div class=\"sk-label sk-toggleable\"><input class=\"sk-toggleable__control sk-hidden--visually\" id=\"sk-estimator-id-1\" type=\"checkbox\" ><label for=\"sk-estimator-id-1\" class=\"sk-toggleable__label sk-toggleable__label-arrow\">Pipeline</label><div class=\"sk-toggleable__content\"><pre>Pipeline(steps=[(&#x27;scaler&#x27;,\n                 FunctionTransformer(func=&lt;function fit_and_freeze.&lt;locals&gt;.func at 0x000001C45F103CE0&gt;))])</pre></div></div></div><div class=\"sk-serial\"><div class=\"sk-item\"><div class=\"sk-estimator sk-toggleable\"><input class=\"sk-toggleable__control sk-hidden--visually\" id=\"sk-estimator-id-2\" type=\"checkbox\" ><label for=\"sk-estimator-id-2\" class=\"sk-toggleable__label sk-toggleable__label-arrow\">FunctionTransformer</label><div class=\"sk-toggleable__content\"><pre>FunctionTransformer(func=&lt;function fit_and_freeze.&lt;locals&gt;.func at 0x000001C45F103CE0&gt;)</pre></div></div></div></div></div></div></div>"
     },
     "execution_count": 5,
     "metadata": {},
     "output_type": "execute_result"
    }
   ],
   "source": [
    "from sklearn.pipeline import Pipeline\n",
    "from sklearn.preprocessing import StandardScaler\n",
    "\n",
    "pipe = Pipeline([('scaler', fit_and_freeze(StandardScaler()))])\n",
    "pipe.fit(hourly_data_index[\"AirTemp\"].values.reshape(-1, 1))"
   ],
   "metadata": {
    "collapsed": false,
    "ExecuteTime": {
     "end_time": "2024-02-16T01:32:43.639381Z",
     "start_time": "2024-02-16T01:32:43.629481Z"
    }
   },
   "id": "fde8e9bf7a339137",
   "execution_count": 5
  },
  {
   "cell_type": "code",
   "outputs": [
    {
     "data": {
      "text/plain": "array([[-0.39608824],\n       [-0.39061989],\n       [-0.44908921],\n       ...,\n       [-0.89146503],\n       [-0.89749424],\n       [-0.91558187]])"
     },
     "execution_count": 6,
     "metadata": {},
     "output_type": "execute_result"
    }
   ],
   "source": [
    "pipe.transform(hourly_data_index[\"AirTemp\"].values.reshape(-1, 1))"
   ],
   "metadata": {
    "collapsed": false,
    "ExecuteTime": {
     "end_time": "2024-02-16T01:32:45.268759Z",
     "start_time": "2024-02-16T01:32:45.262933Z"
    }
   },
   "id": "6191043f1c206ea3",
   "execution_count": 6
  },
  {
   "cell_type": "code",
   "outputs": [
    {
     "data": {
      "text/plain": "datetime\n2022-01-01 00:00:00+00:00    10.279\n2022-01-01 01:00:00+00:00    10.318\n2022-01-01 02:00:00+00:00     9.901\n2022-01-01 03:00:00+00:00     9.444\n2022-01-01 04:00:00+00:00     8.587\n                              ...  \n2023-12-31 19:00:00+00:00     7.523\n2023-12-31 20:00:00+00:00     7.021\n2023-12-31 21:00:00+00:00     6.746\n2023-12-31 22:00:00+00:00     6.703\n2023-12-31 23:00:00+00:00     6.574\nName: AirTemp, Length: 17520, dtype: float64"
     },
     "execution_count": 7,
     "metadata": {},
     "output_type": "execute_result"
    }
   ],
   "source": [
    "hourly_data_index[\"AirTemp\"]"
   ],
   "metadata": {
    "collapsed": false,
    "ExecuteTime": {
     "end_time": "2024-02-16T01:32:46.429593Z",
     "start_time": "2024-02-16T01:32:46.422576Z"
    }
   },
   "id": "e24f9aaaba6bf0d6",
   "execution_count": 7
  },
  {
   "cell_type": "code",
   "outputs": [
    {
     "name": "stderr",
     "output_type": "stream",
     "text": [
      "C:\\Users\\Concordance\\anaconda3\\Lib\\site-packages\\sklearn\\base.py:432: UserWarning: X has feature names, but StandardScaler was fitted without feature names\n",
      "  warnings.warn(\n"
     ]
    },
    {
     "data": {
      "text/plain": "array([[-0.39608824],\n       [-0.39061989],\n       [-0.44908921],\n       ...,\n       [-0.89146503],\n       [-0.89749424],\n       [-0.91558187]])"
     },
     "execution_count": 8,
     "metadata": {},
     "output_type": "execute_result"
    }
   ],
   "source": [
    "from sklearn.compose import ColumnTransformer\n",
    "\n",
    "preprocessor = ColumnTransformer(transformers=[\n",
    "    ('AirTemp', pipe, [\"AirTemp\"]),\n",
    "    #('Other', 'passthrough', [\"rain\"])\n",
    "])\n",
    "\n",
    "preprocessor.fit_transform(hourly_data_index)"
   ],
   "metadata": {
    "collapsed": false,
    "ExecuteTime": {
     "end_time": "2024-02-16T01:32:48.993909Z",
     "start_time": "2024-02-16T01:32:48.983184Z"
    }
   },
   "id": "f9d7ce915aa60b8d",
   "execution_count": 8
  },
  {
   "cell_type": "code",
   "outputs": [
    {
     "data": {
      "text/plain": "array([[0., 0., 0., ..., 0., 0., 0.]])"
     },
     "execution_count": 9,
     "metadata": {},
     "output_type": "execute_result"
    }
   ],
   "source": [
    "from sklearn.preprocessing import StandardScaler\n",
    "\n",
    "scaler_air_temp = StandardScaler()\n",
    "\n",
    "scaler_air_temp.fit(hourly_data_index[\"AirTemp\"].values.reshape(1, -1))\n",
    "scaler_air_temp.transform(hourly_data_index[\"AirTemp\"].values.reshape(1, -1))\n",
    "\n",
    "#pd.DataFrame(StandardScaler().fit_transform(hourly_data_index[\"AirTemp\"].values.reshape(-1, 1))).hist()"
   ],
   "metadata": {
    "collapsed": false,
    "ExecuteTime": {
     "end_time": "2024-02-16T01:32:50.938590Z",
     "start_time": "2024-02-16T01:32:50.931455Z"
    }
   },
   "id": "1e9d9318b37c624e",
   "execution_count": 9
  },
  {
   "cell_type": "code",
   "outputs": [],
   "source": [
    "time = pd.to_datetime(hourly_data['datetime']).values.astype('datetime64[s]')\n",
    "power_consumption = hourly_data['kw_total_zone2'].values\n",
    "\n",
    "dec = [] # daily energy consumption\n",
    "t_dec = []\n",
    "\n",
    "for ti, t in enumerate(time):\n",
    "    tmp_t = pd.Timestamp(t)\n",
    "\n",
    "    if np.isclose(tmp_t.hour, 0) and np.isclose(tmp_t.minute, 0):\n",
    "\n",
    "        day_end = np.datetime64(tmp_t + pd.Timedelta(days=1))\n",
    "        ind = np.where((time > tmp_t) & (time < day_end), True, False)\n",
    "\n",
    "        if len(time[ind]) > 0 and not np.isnan(power_consumption[ind]).any():\n",
    "            t_dec.append(np.datetime64(tmp_t).astype('datetime64[s]'))\n",
    "            dec.append(np.trapz(power_consumption[ind], time[ind].astype(int))/3600)\n",
    "\n",
    "t_dec = np.array(t_dec)\n",
    "dec = np.array(dec)"
   ],
   "metadata": {
    "collapsed": false,
    "ExecuteTime": {
     "end_time": "2024-02-16T01:32:54.190665Z",
     "start_time": "2024-02-16T01:32:53.251479Z"
    }
   },
   "id": "b59972f2ba38eb27",
   "execution_count": 10
  },
  {
   "cell_type": "code",
   "outputs": [],
   "source": [
    "N = 7 # N days of predictors beforehand\n",
    "final_ind = []\n",
    "final_hourly = []\n",
    "\n",
    "predictor_window = pd.Timedelta(days=N)\n",
    "\n",
    "for ti, t in enumerate(t_dec):\n",
    "    tmp_t = pd.Timestamp(t)\n",
    "\n",
    "    ind = np.where((time >= tmp_t - predictor_window) & (time < tmp_t), True, False) # finding indices within the N prior days\n",
    "\n",
    "    bad_ind = np.isnan(hourly_data.iloc[ind, 1::].values)\n",
    "    if len(time[ind]) >= 24 * N and not bad_ind.any(): # rejecting any data with NaNs; useful for the student dataset\n",
    "        final_ind.append(ti)\n",
    "        final_hourly.append(hourly_data.iloc[ind, 1::].values)\n",
    "\n",
    "target_time = t_dec[final_ind]\n",
    "predictors = np.array(final_hourly)\n",
    "\n",
    "X = pd.DataFrame(predictors.reshape(len(predictors), -1))\n",
    "y = pd.DataFrame(np.array(dec[final_ind]))"
   ],
   "metadata": {
    "collapsed": false,
    "is_executing": true,
    "ExecuteTime": {
     "start_time": "2024-02-16T01:30:33.490539Z"
    }
   },
   "id": "bad8369a49aed0c",
   "execution_count": null
  },
  {
   "cell_type": "code",
   "outputs": [],
   "source": [
    "\n",
    "from sklearn.linear_model import Ridge\n",
    "from sklearn.model_selection import train_test_split\n",
    "\n",
    "X_train, X_test, y_train, y_test = train_test_split(X, y, test_size=0.2, random_state=148)\n",
    "\n",
    "#reg = Ridge(alpha=1e8)\n",
    "#reg.fit(x_train, y_train)\n",
    "#y_pred = reg.predict(x_test)"
   ],
   "metadata": {
    "collapsed": false
   },
   "id": "6896d5def0f33683",
   "execution_count": null
  },
  {
   "cell_type": "code",
   "outputs": [],
   "source": [
    "X"
   ],
   "metadata": {
    "collapsed": false
   },
   "id": "37876edd81262dca",
   "execution_count": null
  },
  {
   "cell_type": "code",
   "outputs": [],
   "source": [
    "from sklearn.neural_network import MLPRegressor\n",
    "from sklearn.ensemble import GradientBoostingRegressor\n",
    "from sklearn.preprocessing import FunctionTransformer\n",
    "\n",
    "# preprocessor = Pipeline(steps=[])\n",
    "\n",
    "model = Pipeline(steps=[\n",
    "    # ('preprocessor', preprocessor),\n",
    "    # ('classifier', Ridge(alpha=1e8))\n",
    "    ('regressor', GradientBoostingRegressor(verbose=True)),\n",
    "])\n",
    "\n",
    "model.fit(X_train, y_train.values.ravel())"
   ],
   "metadata": {
    "collapsed": false
   },
   "id": "5886f270a5fe3bd",
   "execution_count": null
  },
  {
   "cell_type": "code",
   "outputs": [],
   "source": [
    "from skimage.metrics import mean_squared_error\n",
    "from sklearn.model_selection import cross_validate\n",
    "\n",
    "-mean_squared_error(y_test.values.ravel(), model.predict(X_test))\n",
    "#np.mean(cross_validate(model, X, y.values.ravel(), cv=5, scoring='neg_mean_squared_error')['test_score'])"
   ],
   "metadata": {
    "collapsed": false
   },
   "id": "3e2a5a2096438431",
   "execution_count": null
  },
  {
   "cell_type": "code",
   "outputs": [],
   "source": [
    "from sklearn.model_selection import GridSearchCV\n",
    "\n",
    "param_grid = {} # {'alpha': np.logspace(-2, 20, 21)}\n",
    "\n",
    "grid = GridSearchCV(GradientBoostingRegressor(), param_grid, cv=5, scoring='neg_mean_squared_error')\n",
    "\n",
    "grid.fit(X, y) # using the entire dataset for validation\n",
    "\n",
    "best_alpha = grid.best_params_['alpha']\n",
    "best_rse = -grid.best_score_/np.mean((y-y.mean())**2)\n",
    "print('Best alpha from validation:', best_alpha)"
   ],
   "metadata": {
    "collapsed": false
   },
   "id": "52b9ee44ee57be78",
   "execution_count": null
  },
  {
   "cell_type": "code",
   "outputs": [],
   "source": [
    "best_model = grid.best_estimator_\n",
    "np.mean(cross_validate(best_model, X, y, cv=10, scoring='neg_mean_squared_error')['test_score'])"
   ],
   "metadata": {
    "collapsed": false
   },
   "id": "21680fd6f3d010b6",
   "execution_count": null
  },
  {
   "cell_type": "code",
   "outputs": [],
   "source": [
    "def relative_squared_error(y_pred, y_true):\n",
    "    \"\"\"Relative squared error (RSE; also called relative mean square error). < 1 is good, = 1 is bad, > 1 really bad.\"\"\"\n",
    "    return np.mean((y_pred - y_true)**2)/np.mean((y_true - y_true.mean())**2)\n",
    "\n",
    "relative_squared_error(model.predict(X), y.values.ravel())"
   ],
   "metadata": {
    "collapsed": false
   },
   "id": "6bda478ac5cd61cc",
   "execution_count": null
  },
  {
   "cell_type": "code",
   "outputs": [],
   "source": [],
   "metadata": {
    "collapsed": false
   },
   "id": "72835587bb49ddfa"
  },
  {
   "cell_type": "code",
   "outputs": [],
   "source": [
    "model.predict(X).reshape(-1,1).shape"
   ],
   "metadata": {
    "collapsed": false
   },
   "id": "5322603c18ea7e2c",
   "execution_count": null
  },
  {
   "cell_type": "code",
   "outputs": [],
   "source": [
    "wrapper = Pipeline([('wrapper', FunctionTransformer(lambda X: model.predict(X).reshape(-1,1)))])"
   ],
   "metadata": {
    "collapsed": false
   },
   "id": "ccd892d0e1fc192",
   "execution_count": null
  },
  {
   "cell_type": "code",
   "outputs": [],
   "source": [
    "model.predict(X)"
   ],
   "metadata": {
    "collapsed": false
   },
   "id": "376a7856df6e9854",
   "execution_count": null
  },
  {
   "cell_type": "code",
   "outputs": [],
   "source": [
    "model.predict(X)"
   ],
   "metadata": {
    "collapsed": false
   },
   "id": "c864ca4b19eb2939",
   "execution_count": null
  },
  {
   "cell_type": "code",
   "outputs": [],
   "source": [
    "X.shape"
   ],
   "metadata": {
    "collapsed": false
   },
   "id": "1d75dddecc24e11a",
   "execution_count": null
  },
  {
   "cell_type": "code",
   "outputs": [],
   "source": [],
   "metadata": {
    "collapsed": false
   },
   "id": "4f36be14f6bfc1e3"
  }
 ],
 "metadata": {
  "kernelspec": {
   "display_name": "Python 3",
   "language": "python",
   "name": "python3"
  },
  "language_info": {
   "codemirror_mode": {
    "name": "ipython",
    "version": 2
   },
   "file_extension": ".py",
   "mimetype": "text/x-python",
   "name": "python",
   "nbconvert_exporter": "python",
   "pygments_lexer": "ipython2",
   "version": "2.7.6"
  }
 },
 "nbformat": 4,
 "nbformat_minor": 5
}
