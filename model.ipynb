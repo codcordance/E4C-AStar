{
 "cells": [
  {
   "cell_type": "code",
   "outputs": [],
   "source": [
    "import pandas as pd\n",
    "import numpy as np\n",
    "\n",
    "pd.options.plotting.backend = \"plotly\""
   ],
   "metadata": {
    "collapsed": false,
    "ExecuteTime": {
     "end_time": "2024-02-16T01:34:56.351212Z",
     "start_time": "2024-02-16T01:34:55.757538Z"
    }
   },
   "id": "initial_id",
   "execution_count": 1
  },
  {
   "cell_type": "code",
   "outputs": [],
   "source": [
    "hourly_data_path = 'students_drahi_production_consumption_hourly_completed.csv'\n",
    "hourly_data = pd.read_csv(hourly_data_path)\n",
    "hourly_data_index = hourly_data.set_index(\"datetime\")"
   ],
   "metadata": {
    "collapsed": false,
    "ExecuteTime": {
     "end_time": "2024-02-16T01:34:57.452345Z",
     "start_time": "2024-02-16T01:34:57.394829Z"
    }
   },
   "id": "66b802d563a11c23",
   "execution_count": 2
  },
  {
   "cell_type": "code",
   "outputs": [
    {
     "data": {
      "text/plain": "Index(['AirTemp', 'pres', 'rain', 'rh', 'wd', 'ws', 'Global_Solar_Flux',\n       'Diffuse_Solar_Flux', 'Direct_Solar_Flux', 'Downwelling_IR_Flux', 'SAA',\n       'SZA', 'PAC', 'TGBT [kW]', 'kw_heater_corridor1_zone1',\n       'kw_heaters_corridor_zone2', 'kw_heaters_toilets_zone2',\n       'kw_heatingcoolingtotal_zone1', 'kw_heatingcoolingtotal_zone2',\n       'kw_lights_zone1', 'kw_lights_zone2', 'kw_total_zone1',\n       'kw_total_zone2', 'kw_ventilation_zone1', 'kw_ventilation_zone2',\n       'kw_water_heater_zone2', 'plugs_zone2'],\n      dtype='object')"
     },
     "execution_count": 33,
     "metadata": {},
     "output_type": "execute_result"
    }
   ],
   "source": [
    "hourly_data_index.columns"
   ],
   "metadata": {
    "collapsed": false,
    "ExecuteTime": {
     "end_time": "2024-02-16T01:54:54.002550Z",
     "start_time": "2024-02-16T01:54:53.998313Z"
    }
   },
   "id": "416fb14fbee2a953",
   "execution_count": 33
  },
  {
   "cell_type": "code",
   "outputs": [],
   "source": [
    "from sklearn.preprocessing import FunctionTransformer\n",
    "\n",
    "#Little hack to \"freeze\" transformers, since the data in the input is flattened \n",
    "\n",
    "def fit_and_freeze(transformer):\n",
    "    fitted = [0]\n",
    "\n",
    "    def func(x):\n",
    "        if not fitted[0]:\n",
    "            transformer.fit(x)\n",
    "            fitted[0] = 1\n",
    "        return transformer.transform(x)\n",
    "\n",
    "    return FunctionTransformer(func)"
   ],
   "metadata": {
    "collapsed": false,
    "ExecuteTime": {
     "end_time": "2024-02-16T01:35:07.009422Z",
     "start_time": "2024-02-16T01:35:06.345382Z"
    }
   },
   "id": "8edc9df5a922de45",
   "execution_count": 3
  },
  {
   "cell_type": "code",
   "outputs": [],
   "source": [
    "from sklearn.pipeline import Pipeline\n",
    "from sklearn.preprocessing import StandardScaler\n",
    "\n",
    "# AirTemp preprocessor\n",
    "\n",
    "airtemps_pipe = Pipeline([\n",
    "    ('scaler', fit_and_freeze(StandardScaler()))\n",
    "])\n",
    "airtemps_pipe.fit(hourly_data_index[\"AirTemp\"].values.reshape(-1, 1))\n",
    "airtemps_transformer = [(f'AirTemp-{i}', 'passthrough', [i]) for i in range(0, 4536, 27)]\n",
    "\n",
    "#Global Solar Flux preprocessor\n",
    "\n",
    "global_solar_flux_pipe = Pipeline([\n",
    "    ('deskew', FunctionTransformer(np.vectorize(lambda x : np.log2(4+x)))),\n",
    "    ('scaler', fit_and_freeze(StandardScaler()))\n",
    "])\n",
    "global_solar_flux_pipe.fit(hourly_data_index[\"Global_Solar_Flux\"].values.reshape(-1, 1))\n",
    "global_solar_flux_transformer = [(f'Global_Solar_Flux-{i}', 'passthrough', [i]) for i in range(6, 4536, 27)]\n",
    "\n",
    "\n",
    "pres_transformers = [(f'pres-{i}', 'passthrough', [i]) for i in range(1, 4536, 27)]"
   ],
   "metadata": {
    "collapsed": false,
    "ExecuteTime": {
     "end_time": "2024-02-16T01:57:13.126104Z",
     "start_time": "2024-02-16T01:57:13.107403Z"
    }
   },
   "id": "fde8e9bf7a339137",
   "execution_count": 42
  },
  {
   "cell_type": "code",
   "outputs": [
    {
     "data": {
      "text/plain": "datetime\n2022-01-01 00:00:00+00:00   -0.271\n2022-01-01 01:00:00+00:00   -0.371\n2022-01-01 02:00:00+00:00   -0.846\n2022-01-01 03:00:00+00:00   -0.632\n2022-01-01 04:00:00+00:00   -0.395\n                             ...  \n2023-12-31 19:00:00+00:00   -1.114\n2023-12-31 20:00:00+00:00   -1.130\n2023-12-31 21:00:00+00:00   -0.944\n2023-12-31 22:00:00+00:00   -0.935\n2023-12-31 23:00:00+00:00   -1.157\nName: Global_Solar_Flux, Length: 17520, dtype: float64"
     },
     "execution_count": 43,
     "metadata": {},
     "output_type": "execute_result"
    }
   ],
   "source": [
    "hourly_data_index[\"Global_Solar_Flux\"]"
   ],
   "metadata": {
    "collapsed": false,
    "ExecuteTime": {
     "end_time": "2024-02-16T01:57:13.775105Z",
     "start_time": "2024-02-16T01:57:13.769122Z"
    }
   },
   "id": "62be0917c5938114",
   "execution_count": 43
  },
  {
   "cell_type": "code",
   "outputs": [
    {
     "data": {
      "text/plain": "datetime\n2022-01-01 00:00:00+00:00    1.898789\n2022-01-01 01:00:00+00:00    1.859572\n2022-01-01 02:00:00+00:00    1.657183\n2022-01-01 03:00:00+00:00    1.751892\n2022-01-01 04:00:00+00:00    1.849999\n                               ...   \n2023-12-31 19:00:00+00:00    1.529071\n2023-12-31 20:00:00+00:00    1.521051\n2023-12-31 21:00:00+00:00    1.611645\n2023-12-31 22:00:00+00:00    1.615887\n2023-12-31 23:00:00+00:00    1.507414\nName: Global_Solar_Flux, Length: 17520, dtype: float64"
     },
     "execution_count": 44,
     "metadata": {},
     "output_type": "execute_result"
    }
   ],
   "source": [
    "np.log2(4+hourly_data_index[\"Global_Solar_Flux\"])"
   ],
   "metadata": {
    "collapsed": false,
    "ExecuteTime": {
     "end_time": "2024-02-16T01:57:15.775425Z",
     "start_time": "2024-02-16T01:57:15.768924Z"
    }
   },
   "id": "ae341811e2d10408",
   "execution_count": 44
  },
  {
   "cell_type": "code",
   "outputs": [
    {
     "data": {
      "text/plain": "array([[-0.86668571],\n       [-0.87926986],\n       [-0.94421402],\n       ...,\n       [-0.95882662],\n       [-0.95746525],\n       [-0.99227283]])"
     },
     "execution_count": 45,
     "metadata": {},
     "output_type": "execute_result"
    }
   ],
   "source": [
    "global_solar_flux_pipe.transform(hourly_data_index[\"Global_Solar_Flux\"].values.reshape(-1, 1))"
   ],
   "metadata": {
    "collapsed": false,
    "ExecuteTime": {
     "end_time": "2024-02-16T01:57:16.622716Z",
     "start_time": "2024-02-16T01:57:16.607026Z"
    }
   },
   "id": "56031b2ce3c2faa0",
   "execution_count": 45
  },
  {
   "cell_type": "code",
   "outputs": [],
   "source": [
    "time = pd.to_datetime(hourly_data['datetime']).values.astype('datetime64[s]')\n",
    "power_consumption = hourly_data['kw_total_zone2'].values\n",
    "\n",
    "dec = [] # daily energy consumption\n",
    "t_dec = []\n",
    "\n",
    "for ti, t in enumerate(time):\n",
    "    tmp_t = pd.Timestamp(t)\n",
    "\n",
    "    if np.isclose(tmp_t.hour, 0) and np.isclose(tmp_t.minute, 0):\n",
    "\n",
    "        day_end = np.datetime64(tmp_t + pd.Timedelta(days=1))\n",
    "        ind = np.where((time > tmp_t) & (time < day_end), True, False)\n",
    "\n",
    "        if len(time[ind]) > 0 and not np.isnan(power_consumption[ind]).any():\n",
    "            t_dec.append(np.datetime64(tmp_t).astype('datetime64[s]'))\n",
    "            dec.append(np.trapz(power_consumption[ind], time[ind].astype(int))/3600)\n",
    "\n",
    "t_dec = np.array(t_dec)\n",
    "dec = np.array(dec)\n",
    "\n",
    "N = 7 # N days of predictors beforehand\n",
    "final_ind = []\n",
    "final_hourly = []\n",
    "\n",
    "predictor_window = pd.Timedelta(days=N)\n",
    "\n",
    "for ti, t in enumerate(t_dec):\n",
    "    tmp_t = pd.Timestamp(t)\n",
    "\n",
    "    ind = np.where((time >= tmp_t - predictor_window) & (time < tmp_t), True, False) # finding indices within the N prior days\n",
    "\n",
    "    bad_ind = np.isnan(hourly_data.iloc[ind, 1::].values)\n",
    "    if len(time[ind]) >= 24 * N and not bad_ind.any(): # rejecting any data with NaNs; useful for the student dataset\n",
    "        final_ind.append(ti)\n",
    "        final_hourly.append(hourly_data.iloc[ind, 1::].values)\n",
    "\n",
    "target_time = t_dec[final_ind]\n",
    "predictors = np.array(final_hourly)\n",
    "\n",
    "X = pd.DataFrame(predictors.reshape(len(predictors), -1))\n",
    "y = pd.DataFrame(np.array(dec[final_ind]))"
   ],
   "metadata": {
    "collapsed": false,
    "ExecuteTime": {
     "end_time": "2024-02-16T01:36:27.489326Z",
     "start_time": "2024-02-16T01:36:24.921642Z"
    }
   },
   "id": "b59972f2ba38eb27",
   "execution_count": 5
  },
  {
   "cell_type": "code",
   "outputs": [
    {
     "data": {
      "text/plain": "array([[ 10.279,  10.318,   9.901, ..., 990.737, 991.617, 992.924],\n       [ 10.132,   9.669,   9.961, ..., 975.429, 977.129, 979.151],\n       [ 10.627,  10.371,  10.326, ..., 988.217, 988.576, 989.088],\n       ...,\n       [ 10.44 ,  10.108,   9.265, ..., 995.865, 995.804, 995.709],\n       [  8.507,   8.518,   8.589, ..., 994.923, 995.347, 995.869],\n       [  9.449,   9.784,   9.607, ..., 986.757, 985.365, 983.953]])"
     },
     "execution_count": 19,
     "metadata": {},
     "output_type": "execute_result"
    }
   ],
   "source": [
    "from sklearn.compose import ColumnTransformer\n",
    "\n",
    "\n",
    "\n",
    "preprocessor = ColumnTransformer(transformers=sum([airtemps_transformers, pres_transformers], []))\n",
    "\n",
    "preprocessor.fit_transform(X)"
   ],
   "metadata": {
    "collapsed": false,
    "ExecuteTime": {
     "end_time": "2024-02-16T01:45:56.734010Z",
     "start_time": "2024-02-16T01:45:56.634328Z"
    }
   },
   "id": "36a904de5d9555a5",
   "execution_count": 19
  },
  {
   "cell_type": "code",
   "outputs": [],
   "source": [
    "\n",
    "from sklearn.linear_model import Ridge\n",
    "from sklearn.model_selection import train_test_split\n",
    "\n",
    "X_train, X_test, y_train, y_test = train_test_split(X, y, test_size=0.2, random_state=148)\n",
    "\n",
    "#reg = Ridge(alpha=1e8)\n",
    "#reg.fit(x_train, y_train)\n",
    "#y_pred = reg.predict(x_test)"
   ],
   "metadata": {
    "collapsed": false
   },
   "id": "6896d5def0f33683",
   "execution_count": null
  },
  {
   "cell_type": "code",
   "outputs": [],
   "source": [
    "X"
   ],
   "metadata": {
    "collapsed": false
   },
   "id": "37876edd81262dca",
   "execution_count": null
  },
  {
   "cell_type": "code",
   "outputs": [],
   "source": [
    "from sklearn.neural_network import MLPRegressor\n",
    "from sklearn.ensemble import GradientBoostingRegressor\n",
    "from sklearn.preprocessing import FunctionTransformer\n",
    "\n",
    "# preprocessor = Pipeline(steps=[])\n",
    "\n",
    "model = Pipeline(steps=[\n",
    "    # ('preprocessor', preprocessor),\n",
    "    # ('classifier', Ridge(alpha=1e8))\n",
    "    ('regressor', GradientBoostingRegressor(verbose=True)),\n",
    "])\n",
    "\n",
    "model.fit(X_train, y_train.values.ravel())"
   ],
   "metadata": {
    "collapsed": false
   },
   "id": "5886f270a5fe3bd",
   "execution_count": null
  },
  {
   "cell_type": "code",
   "outputs": [],
   "source": [
    "from skimage.metrics import mean_squared_error\n",
    "from sklearn.model_selection import cross_validate\n",
    "\n",
    "-mean_squared_error(y_test.values.ravel(), model.predict(X_test))\n",
    "#np.mean(cross_validate(model, X, y.values.ravel(), cv=5, scoring='neg_mean_squared_error')['test_score'])"
   ],
   "metadata": {
    "collapsed": false
   },
   "id": "3e2a5a2096438431",
   "execution_count": null
  },
  {
   "cell_type": "code",
   "outputs": [],
   "source": [
    "from sklearn.model_selection import GridSearchCV\n",
    "\n",
    "param_grid = {} # {'alpha': np.logspace(-2, 20, 21)}\n",
    "\n",
    "grid = GridSearchCV(GradientBoostingRegressor(), param_grid, cv=5, scoring='neg_mean_squared_error')\n",
    "\n",
    "grid.fit(X, y) # using the entire dataset for validation\n",
    "\n",
    "best_alpha = grid.best_params_['alpha']\n",
    "best_rse = -grid.best_score_/np.mean((y-y.mean())**2)\n",
    "print('Best alpha from validation:', best_alpha)"
   ],
   "metadata": {
    "collapsed": false
   },
   "id": "52b9ee44ee57be78",
   "execution_count": null
  },
  {
   "cell_type": "code",
   "outputs": [],
   "source": [
    "best_model = grid.best_estimator_\n",
    "np.mean(cross_validate(best_model, X, y, cv=10, scoring='neg_mean_squared_error')['test_score'])"
   ],
   "metadata": {
    "collapsed": false
   },
   "id": "21680fd6f3d010b6",
   "execution_count": null
  },
  {
   "cell_type": "code",
   "outputs": [],
   "source": [
    "def relative_squared_error(y_pred, y_true):\n",
    "    \"\"\"Relative squared error (RSE; also called relative mean square error). < 1 is good, = 1 is bad, > 1 really bad.\"\"\"\n",
    "    return np.mean((y_pred - y_true)**2)/np.mean((y_true - y_true.mean())**2)\n",
    "\n",
    "relative_squared_error(model.predict(X), y.values.ravel())"
   ],
   "metadata": {
    "collapsed": false
   },
   "id": "6bda478ac5cd61cc",
   "execution_count": null
  },
  {
   "cell_type": "code",
   "outputs": [],
   "source": [],
   "metadata": {
    "collapsed": false
   },
   "id": "72835587bb49ddfa"
  },
  {
   "cell_type": "code",
   "outputs": [],
   "source": [
    "model.predict(X).reshape(-1,1).shape"
   ],
   "metadata": {
    "collapsed": false
   },
   "id": "5322603c18ea7e2c",
   "execution_count": null
  },
  {
   "cell_type": "code",
   "outputs": [],
   "source": [
    "wrapper = Pipeline([('wrapper', FunctionTransformer(lambda X: model.predict(X).reshape(-1,1)))])"
   ],
   "metadata": {
    "collapsed": false
   },
   "id": "ccd892d0e1fc192",
   "execution_count": null
  },
  {
   "cell_type": "code",
   "outputs": [],
   "source": [
    "model.predict(X)"
   ],
   "metadata": {
    "collapsed": false
   },
   "id": "376a7856df6e9854",
   "execution_count": null
  },
  {
   "cell_type": "code",
   "outputs": [],
   "source": [
    "model.predict(X)"
   ],
   "metadata": {
    "collapsed": false
   },
   "id": "c864ca4b19eb2939",
   "execution_count": null
  },
  {
   "cell_type": "code",
   "outputs": [],
   "source": [
    "X.shape"
   ],
   "metadata": {
    "collapsed": false
   },
   "id": "1d75dddecc24e11a",
   "execution_count": null
  },
  {
   "cell_type": "code",
   "outputs": [],
   "source": [],
   "metadata": {
    "collapsed": false
   },
   "id": "4f36be14f6bfc1e3"
  }
 ],
 "metadata": {
  "kernelspec": {
   "display_name": "Python 3",
   "language": "python",
   "name": "python3"
  },
  "language_info": {
   "codemirror_mode": {
    "name": "ipython",
    "version": 2
   },
   "file_extension": ".py",
   "mimetype": "text/x-python",
   "name": "python",
   "nbconvert_exporter": "python",
   "pygments_lexer": "ipython2",
   "version": "2.7.6"
  }
 },
 "nbformat": 4,
 "nbformat_minor": 5
}
