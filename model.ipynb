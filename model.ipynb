{
 "cells": [
  {
   "cell_type": "code",
   "outputs": [],
   "source": [
    "import numpy as np\n",
    "import pandas as pd\n",
    "\n",
    "pd.options.plotting.backend = \"plotly\""
   ],
   "metadata": {
    "collapsed": false,
    "ExecuteTime": {
     "end_time": "2024-02-16T04:33:33.660015Z",
     "start_time": "2024-02-16T04:33:33.038140Z"
    }
   },
   "id": "initial_id",
   "execution_count": 1
  },
  {
   "cell_type": "code",
   "outputs": [],
   "source": [
    "hourly_data_path = 'students_drahi_production_consumption_hourly.csv'\n",
    "hourly_data = pd.read_csv(hourly_data_path)\n",
    "hourly_data_index = hourly_data.set_index(\"datetime\")"
   ],
   "metadata": {
    "collapsed": false,
    "ExecuteTime": {
     "end_time": "2024-02-16T04:33:33.707985Z",
     "start_time": "2024-02-16T04:33:33.662013Z"
    }
   },
   "id": "66b802d563a11c23",
   "execution_count": 2
  },
  {
   "cell_type": "code",
   "outputs": [],
   "source": [
    "from sklearn.preprocessing import FunctionTransformer\n",
    "\n",
    "#Little hack to \"freeze\" transformers, since the data in the input is flattened \n",
    "\n",
    "def fit_and_freeze(transformer):\n",
    "    fitted = [0]\n",
    "\n",
    "    def func(x):\n",
    "        if not fitted[0]:\n",
    "            transformer.fit(x)\n",
    "            fitted[0] = 1\n",
    "        return transformer.transform(x)\n",
    "\n",
    "    return FunctionTransformer(func)"
   ],
   "metadata": {
    "collapsed": false,
    "ExecuteTime": {
     "end_time": "2024-02-16T04:33:34.195089Z",
     "start_time": "2024-02-16T04:33:33.707985Z"
    }
   },
   "id": "8edc9df5a922de45",
   "execution_count": 3
  },
  {
   "cell_type": "code",
   "outputs": [],
   "source": [
    "time = pd.to_datetime(hourly_data['datetime']).values.astype('datetime64[s]')\n",
    "power_consumption = hourly_data['kw_total_zone2'].values\n",
    "\n",
    "dec = [] # daily energy consumption\n",
    "t_dec = []\n",
    "\n",
    "for ti, t in enumerate(time):\n",
    "    tmp_t = pd.Timestamp(t)\n",
    "\n",
    "    if np.isclose(tmp_t.hour, 0) and np.isclose(tmp_t.minute, 0):\n",
    "\n",
    "        day_end = np.datetime64(tmp_t + pd.Timedelta(days=1))\n",
    "        ind = np.where((time > tmp_t) & (time < day_end), True, False)\n",
    "\n",
    "        if len(time[ind]) > 0 and not np.isnan(power_consumption[ind]).any():\n",
    "            t_dec.append(np.datetime64(tmp_t).astype('datetime64[s]'))\n",
    "            dec.append(np.trapz(power_consumption[ind], time[ind].astype(int))/3600)\n",
    "\n",
    "t_dec = np.array(t_dec)\n",
    "dec = np.array(dec)\n",
    "\n",
    "N = 7 # N days of predictors beforehand\n",
    "final_ind = []\n",
    "final_hourly = []\n",
    "\n",
    "predictor_window = pd.Timedelta(days=N)\n",
    "\n",
    "for ti, t in enumerate(t_dec):\n",
    "    tmp_t = pd.Timestamp(t)\n",
    "\n",
    "    ind = np.where((time >= tmp_t - predictor_window) & (time < tmp_t), True, False) # finding indices within the N prior days\n",
    "\n",
    "    bad_ind = np.isnan(hourly_data.iloc[ind, 1::].values)\n",
    "    if len(time[ind]) >= 24 * N and not bad_ind.any(): # rejecting any data with NaNs; useful for the student dataset\n",
    "        final_ind.append(ti)\n",
    "        final_hourly.append(hourly_data.iloc[ind, 1::].values)\n",
    "\n",
    "target_time = t_dec[final_ind]\n",
    "predictors = np.array(final_hourly)\n",
    "\n",
    "X = predictors.reshape(len(predictors), -1)\n",
    "y = np.array(dec[final_ind])"
   ],
   "metadata": {
    "collapsed": false,
    "ExecuteTime": {
     "end_time": "2024-02-16T04:33:36.755562Z",
     "start_time": "2024-02-16T04:33:34.196090Z"
    }
   },
   "id": "b59972f2ba38eb27",
   "execution_count": 4
  },
  {
   "cell_type": "code",
   "outputs": [],
   "source": [
    "\n",
    "from sklearn.pipeline import Pipeline\n",
    "from sklearn.preprocessing import StandardScaler\n",
    "\n",
    "# AirTemp preprocessor\n",
    "\n",
    "airtemp_pipe = Pipeline([\n",
    "    ('scaler', fit_and_freeze(StandardScaler()))\n",
    "])\n",
    "airtemp_pipe.fit(hourly_data_index[\"AirTemp\"].values.reshape(-1, 1))\n",
    "airtemp_transformer = [(f'AirTemp-{i}', airtemp_pipe, [i]) for i in range(0, 4536, 27)]\n",
    "\n",
    "#Global Solar Flux preprocessor\n",
    "\n",
    "global_solar_flux_pipe = Pipeline([\n",
    "    ('deskew', FunctionTransformer(np.vectorize(lambda x : np.log2(4+x)))),\n",
    "    ('scaler', fit_and_freeze(StandardScaler()))\n",
    "])\n",
    "global_solar_flux_pipe.fit(hourly_data_index[\"Global_Solar_Flux\"].values.reshape(-1, 1))\n",
    "global_solar_flux_transformer = [(f'Global_Solar_Flux-{i}', global_solar_flux_pipe, [i]) for i in range(6, 4536, 27)]\n",
    "\n",
    "a = sum([[(f'{j}-{i}', 'passthrough', [i]) for i in range(j, 4536, 27)]\n",
    "          for j in [1, 2, 3, 4, 5, 7, 8, 9, 10, 11, 12, 13, 14, 15, 16, 17, 18, 19, 20, 21, 22, 23, 24, 25, 26]], [])\n"
   ],
   "metadata": {
    "collapsed": false,
    "ExecuteTime": {
     "end_time": "2024-02-16T04:33:36.777437Z",
     "start_time": "2024-02-16T04:33:36.756571Z"
    }
   },
   "id": "36a904de5d9555a5",
   "execution_count": 5
  },
  {
   "cell_type": "code",
   "outputs": [],
   "source": [
    "\n",
    "from sklearn.model_selection import train_test_split\n",
    "\n",
    "X_train, X_test, y_train, y_test = train_test_split(X, y, test_size=0.2, random_state=148)\n",
    "\n",
    "#reg = Ridge(alpha=1e8)\n",
    "#reg.fit(x_train, y_train)\n",
    "#y_pred = reg.predict(x_test)"
   ],
   "metadata": {
    "collapsed": false,
    "ExecuteTime": {
     "end_time": "2024-02-16T04:33:36.815630Z",
     "start_time": "2024-02-16T04:33:36.778533Z"
    }
   },
   "id": "6896d5def0f33683",
   "execution_count": 6
  },
  {
   "cell_type": "code",
   "outputs": [
    {
     "data": {
      "text/plain": "Pipeline(steps=[('regressor', Ridge(alpha=100000000.0, random_state=0))])",
      "text/html": "<style>#sk-container-id-1 {color: black;background-color: white;}#sk-container-id-1 pre{padding: 0;}#sk-container-id-1 div.sk-toggleable {background-color: white;}#sk-container-id-1 label.sk-toggleable__label {cursor: pointer;display: block;width: 100%;margin-bottom: 0;padding: 0.3em;box-sizing: border-box;text-align: center;}#sk-container-id-1 label.sk-toggleable__label-arrow:before {content: \"▸\";float: left;margin-right: 0.25em;color: #696969;}#sk-container-id-1 label.sk-toggleable__label-arrow:hover:before {color: black;}#sk-container-id-1 div.sk-estimator:hover label.sk-toggleable__label-arrow:before {color: black;}#sk-container-id-1 div.sk-toggleable__content {max-height: 0;max-width: 0;overflow: hidden;text-align: left;background-color: #f0f8ff;}#sk-container-id-1 div.sk-toggleable__content pre {margin: 0.2em;color: black;border-radius: 0.25em;background-color: #f0f8ff;}#sk-container-id-1 input.sk-toggleable__control:checked~div.sk-toggleable__content {max-height: 200px;max-width: 100%;overflow: auto;}#sk-container-id-1 input.sk-toggleable__control:checked~label.sk-toggleable__label-arrow:before {content: \"▾\";}#sk-container-id-1 div.sk-estimator input.sk-toggleable__control:checked~label.sk-toggleable__label {background-color: #d4ebff;}#sk-container-id-1 div.sk-label input.sk-toggleable__control:checked~label.sk-toggleable__label {background-color: #d4ebff;}#sk-container-id-1 input.sk-hidden--visually {border: 0;clip: rect(1px 1px 1px 1px);clip: rect(1px, 1px, 1px, 1px);height: 1px;margin: -1px;overflow: hidden;padding: 0;position: absolute;width: 1px;}#sk-container-id-1 div.sk-estimator {font-family: monospace;background-color: #f0f8ff;border: 1px dotted black;border-radius: 0.25em;box-sizing: border-box;margin-bottom: 0.5em;}#sk-container-id-1 div.sk-estimator:hover {background-color: #d4ebff;}#sk-container-id-1 div.sk-parallel-item::after {content: \"\";width: 100%;border-bottom: 1px solid gray;flex-grow: 1;}#sk-container-id-1 div.sk-label:hover label.sk-toggleable__label {background-color: #d4ebff;}#sk-container-id-1 div.sk-serial::before {content: \"\";position: absolute;border-left: 1px solid gray;box-sizing: border-box;top: 0;bottom: 0;left: 50%;z-index: 0;}#sk-container-id-1 div.sk-serial {display: flex;flex-direction: column;align-items: center;background-color: white;padding-right: 0.2em;padding-left: 0.2em;position: relative;}#sk-container-id-1 div.sk-item {position: relative;z-index: 1;}#sk-container-id-1 div.sk-parallel {display: flex;align-items: stretch;justify-content: center;background-color: white;position: relative;}#sk-container-id-1 div.sk-item::before, #sk-container-id-1 div.sk-parallel-item::before {content: \"\";position: absolute;border-left: 1px solid gray;box-sizing: border-box;top: 0;bottom: 0;left: 50%;z-index: -1;}#sk-container-id-1 div.sk-parallel-item {display: flex;flex-direction: column;z-index: 1;position: relative;background-color: white;}#sk-container-id-1 div.sk-parallel-item:first-child::after {align-self: flex-end;width: 50%;}#sk-container-id-1 div.sk-parallel-item:last-child::after {align-self: flex-start;width: 50%;}#sk-container-id-1 div.sk-parallel-item:only-child::after {width: 0;}#sk-container-id-1 div.sk-dashed-wrapped {border: 1px dashed gray;margin: 0 0.4em 0.5em 0.4em;box-sizing: border-box;padding-bottom: 0.4em;background-color: white;}#sk-container-id-1 div.sk-label label {font-family: monospace;font-weight: bold;display: inline-block;line-height: 1.2em;}#sk-container-id-1 div.sk-label-container {text-align: center;}#sk-container-id-1 div.sk-container {/* jupyter's `normalize.less` sets `[hidden] { display: none; }` but bootstrap.min.css set `[hidden] { display: none !important; }` so we also need the `!important` here to be able to override the default hidden behavior on the sphinx rendered scikit-learn.org. See: https://github.com/scikit-learn/scikit-learn/issues/21755 */display: inline-block !important;position: relative;}#sk-container-id-1 div.sk-text-repr-fallback {display: none;}</style><div id=\"sk-container-id-1\" class=\"sk-top-container\"><div class=\"sk-text-repr-fallback\"><pre>Pipeline(steps=[(&#x27;regressor&#x27;, Ridge(alpha=100000000.0, random_state=0))])</pre><b>In a Jupyter environment, please rerun this cell to show the HTML representation or trust the notebook. <br />On GitHub, the HTML representation is unable to render, please try loading this page with nbviewer.org.</b></div><div class=\"sk-container\" hidden><div class=\"sk-item sk-dashed-wrapped\"><div class=\"sk-label-container\"><div class=\"sk-label sk-toggleable\"><input class=\"sk-toggleable__control sk-hidden--visually\" id=\"sk-estimator-id-1\" type=\"checkbox\" ><label for=\"sk-estimator-id-1\" class=\"sk-toggleable__label sk-toggleable__label-arrow\">Pipeline</label><div class=\"sk-toggleable__content\"><pre>Pipeline(steps=[(&#x27;regressor&#x27;, Ridge(alpha=100000000.0, random_state=0))])</pre></div></div></div><div class=\"sk-serial\"><div class=\"sk-item\"><div class=\"sk-estimator sk-toggleable\"><input class=\"sk-toggleable__control sk-hidden--visually\" id=\"sk-estimator-id-2\" type=\"checkbox\" ><label for=\"sk-estimator-id-2\" class=\"sk-toggleable__label sk-toggleable__label-arrow\">Ridge</label><div class=\"sk-toggleable__content\"><pre>Ridge(alpha=100000000.0, random_state=0)</pre></div></div></div></div></div></div></div>"
     },
     "execution_count": 7,
     "metadata": {},
     "output_type": "execute_result"
    }
   ],
   "source": [
    "from sklearn.linear_model import Ridge\n",
    "from joblib import Memory\n",
    "from tempfile import mkdtemp\n",
    "from sklearn.neural_network import MLPRegressor\n",
    "from sklearn.preprocessing import FunctionTransformer\n",
    "from sklearn.compose import ColumnTransformer\n",
    "from sklearn.pipeline import Pipeline\n",
    "from sklearn.preprocessing import StandardScaler\n",
    "\n",
    "\n",
    "# preprocessor = Pipeline(steps=[])\n",
    "cols = ['AirTemp', 'pres', 'rain', 'rh', 'wd', 'ws', 'Global_Solar_Flux',\n",
    "        'Diffuse_Solar_Flux', 'Direct_Solar_Flux', 'Downwelling_IR_Flux', 'SAA',\n",
    "        'SZA', 'PAC', 'TGBT [kW]', 'kw_heater_corridor1_zone1',\n",
    "        'kw_heaters_corridor_zone2', 'kw_heaters_toilets_zone2',\n",
    "        'kw_heatingcoolingtotal_zone1', 'kw_heatingcoolingtotal_zone2',\n",
    "        'kw_lights_zone1', 'kw_lights_zone2', 'kw_total_zone1',\n",
    "        'kw_total_zone2', 'kw_ventilation_zone1', 'kw_ventilation_zone2',\n",
    "        'kw_water_heater_zone2', 'plugs_zone2']\n",
    "\n",
    "pipelines = []\n",
    "\n",
    "for col in cols:\n",
    "    mem = Memory(location=mkdtemp(), verbose=10)\n",
    "    scaler_pipeline =  Pipeline([('scaler', StandardScaler())], memory=mem)\n",
    "    scaler_pipeline.fit(hourly_data_index[\"AirTemp\"].values.reshape(-1, 1))\n",
    "    pipelines.append(scaler_pipeline)\n",
    "\n",
    "memmod = Memory(location=mkdtemp(), verbose=10)\n",
    "\n",
    "preprocessor = ColumnTransformer(transformers=[\n",
    "    (f\"{cols[i%27]}-{i//27}\", pipelines[i%27], [i]) for i in range(4536)\n",
    "])\n",
    "\n",
    "model = Pipeline(steps=[\n",
    "    #('preprocessor', preprocessor),\n",
    "    #('regressor', GradientBoostingRegressor(learning_rate=0.05, n_estimators=200, verbose=2))\n",
    "    #('regressor', MLPRegressor(hidden_layer_sizes=(100, 100, 50), max_iter=1000, verbose=True)),\n",
    "    ('regressor', Ridge(alpha=1e8, random_state=0))\n",
    "])\n",
    "\n",
    "model"
   ],
   "metadata": {
    "collapsed": false,
    "ExecuteTime": {
     "end_time": "2024-02-16T04:33:36.899272Z",
     "start_time": "2024-02-16T04:33:36.816631Z"
    }
   },
   "id": "5886f270a5fe3bd",
   "execution_count": 7
  },
  {
   "cell_type": "code",
   "outputs": [
    {
     "data": {
      "text/plain": "Pipeline(steps=[('regressor', Ridge(alpha=100000000.0, random_state=0))])",
      "text/html": "<style>#sk-container-id-2 {color: black;background-color: white;}#sk-container-id-2 pre{padding: 0;}#sk-container-id-2 div.sk-toggleable {background-color: white;}#sk-container-id-2 label.sk-toggleable__label {cursor: pointer;display: block;width: 100%;margin-bottom: 0;padding: 0.3em;box-sizing: border-box;text-align: center;}#sk-container-id-2 label.sk-toggleable__label-arrow:before {content: \"▸\";float: left;margin-right: 0.25em;color: #696969;}#sk-container-id-2 label.sk-toggleable__label-arrow:hover:before {color: black;}#sk-container-id-2 div.sk-estimator:hover label.sk-toggleable__label-arrow:before {color: black;}#sk-container-id-2 div.sk-toggleable__content {max-height: 0;max-width: 0;overflow: hidden;text-align: left;background-color: #f0f8ff;}#sk-container-id-2 div.sk-toggleable__content pre {margin: 0.2em;color: black;border-radius: 0.25em;background-color: #f0f8ff;}#sk-container-id-2 input.sk-toggleable__control:checked~div.sk-toggleable__content {max-height: 200px;max-width: 100%;overflow: auto;}#sk-container-id-2 input.sk-toggleable__control:checked~label.sk-toggleable__label-arrow:before {content: \"▾\";}#sk-container-id-2 div.sk-estimator input.sk-toggleable__control:checked~label.sk-toggleable__label {background-color: #d4ebff;}#sk-container-id-2 div.sk-label input.sk-toggleable__control:checked~label.sk-toggleable__label {background-color: #d4ebff;}#sk-container-id-2 input.sk-hidden--visually {border: 0;clip: rect(1px 1px 1px 1px);clip: rect(1px, 1px, 1px, 1px);height: 1px;margin: -1px;overflow: hidden;padding: 0;position: absolute;width: 1px;}#sk-container-id-2 div.sk-estimator {font-family: monospace;background-color: #f0f8ff;border: 1px dotted black;border-radius: 0.25em;box-sizing: border-box;margin-bottom: 0.5em;}#sk-container-id-2 div.sk-estimator:hover {background-color: #d4ebff;}#sk-container-id-2 div.sk-parallel-item::after {content: \"\";width: 100%;border-bottom: 1px solid gray;flex-grow: 1;}#sk-container-id-2 div.sk-label:hover label.sk-toggleable__label {background-color: #d4ebff;}#sk-container-id-2 div.sk-serial::before {content: \"\";position: absolute;border-left: 1px solid gray;box-sizing: border-box;top: 0;bottom: 0;left: 50%;z-index: 0;}#sk-container-id-2 div.sk-serial {display: flex;flex-direction: column;align-items: center;background-color: white;padding-right: 0.2em;padding-left: 0.2em;position: relative;}#sk-container-id-2 div.sk-item {position: relative;z-index: 1;}#sk-container-id-2 div.sk-parallel {display: flex;align-items: stretch;justify-content: center;background-color: white;position: relative;}#sk-container-id-2 div.sk-item::before, #sk-container-id-2 div.sk-parallel-item::before {content: \"\";position: absolute;border-left: 1px solid gray;box-sizing: border-box;top: 0;bottom: 0;left: 50%;z-index: -1;}#sk-container-id-2 div.sk-parallel-item {display: flex;flex-direction: column;z-index: 1;position: relative;background-color: white;}#sk-container-id-2 div.sk-parallel-item:first-child::after {align-self: flex-end;width: 50%;}#sk-container-id-2 div.sk-parallel-item:last-child::after {align-self: flex-start;width: 50%;}#sk-container-id-2 div.sk-parallel-item:only-child::after {width: 0;}#sk-container-id-2 div.sk-dashed-wrapped {border: 1px dashed gray;margin: 0 0.4em 0.5em 0.4em;box-sizing: border-box;padding-bottom: 0.4em;background-color: white;}#sk-container-id-2 div.sk-label label {font-family: monospace;font-weight: bold;display: inline-block;line-height: 1.2em;}#sk-container-id-2 div.sk-label-container {text-align: center;}#sk-container-id-2 div.sk-container {/* jupyter's `normalize.less` sets `[hidden] { display: none; }` but bootstrap.min.css set `[hidden] { display: none !important; }` so we also need the `!important` here to be able to override the default hidden behavior on the sphinx rendered scikit-learn.org. See: https://github.com/scikit-learn/scikit-learn/issues/21755 */display: inline-block !important;position: relative;}#sk-container-id-2 div.sk-text-repr-fallback {display: none;}</style><div id=\"sk-container-id-2\" class=\"sk-top-container\"><div class=\"sk-text-repr-fallback\"><pre>Pipeline(steps=[(&#x27;regressor&#x27;, Ridge(alpha=100000000.0, random_state=0))])</pre><b>In a Jupyter environment, please rerun this cell to show the HTML representation or trust the notebook. <br />On GitHub, the HTML representation is unable to render, please try loading this page with nbviewer.org.</b></div><div class=\"sk-container\" hidden><div class=\"sk-item sk-dashed-wrapped\"><div class=\"sk-label-container\"><div class=\"sk-label sk-toggleable\"><input class=\"sk-toggleable__control sk-hidden--visually\" id=\"sk-estimator-id-3\" type=\"checkbox\" ><label for=\"sk-estimator-id-3\" class=\"sk-toggleable__label sk-toggleable__label-arrow\">Pipeline</label><div class=\"sk-toggleable__content\"><pre>Pipeline(steps=[(&#x27;regressor&#x27;, Ridge(alpha=100000000.0, random_state=0))])</pre></div></div></div><div class=\"sk-serial\"><div class=\"sk-item\"><div class=\"sk-estimator sk-toggleable\"><input class=\"sk-toggleable__control sk-hidden--visually\" id=\"sk-estimator-id-4\" type=\"checkbox\" ><label for=\"sk-estimator-id-4\" class=\"sk-toggleable__label sk-toggleable__label-arrow\">Ridge</label><div class=\"sk-toggleable__content\"><pre>Ridge(alpha=100000000.0, random_state=0)</pre></div></div></div></div></div></div></div>"
     },
     "execution_count": 8,
     "metadata": {},
     "output_type": "execute_result"
    }
   ],
   "source": [
    "model.fit(X_train, y_train)"
   ],
   "metadata": {
    "collapsed": false,
    "ExecuteTime": {
     "end_time": "2024-02-16T04:33:36.977710Z",
     "start_time": "2024-02-16T04:33:36.900271Z"
    }
   },
   "id": "447fd2c84ea7714c",
   "execution_count": 8
  },
  {
   "cell_type": "code",
   "outputs": [
    {
     "data": {
      "text/plain": "-685.3041160545804"
     },
     "execution_count": 9,
     "metadata": {},
     "output_type": "execute_result"
    }
   ],
   "source": [
    "from skimage.metrics import mean_squared_error\n",
    "from sklearn.model_selection import cross_validate\n",
    "\n",
    "-mean_squared_error(y_test, model.predict(X_test))"
   ],
   "metadata": {
    "collapsed": false,
    "ExecuteTime": {
     "end_time": "2024-02-16T04:33:39.844427Z",
     "start_time": "2024-02-16T04:33:39.784811Z"
    }
   },
   "id": "3e2a5a2096438431",
   "execution_count": 9
  },
  {
   "cell_type": "code",
   "outputs": [
    {
     "data": {
      "text/plain": "-853.343192440404"
     },
     "execution_count": 10,
     "metadata": {},
     "output_type": "execute_result"
    }
   ],
   "source": [
    "np.mean(cross_validate(model, X, y, cv=5, scoring='neg_mean_squared_error')['test_score'])"
   ],
   "metadata": {
    "collapsed": false,
    "ExecuteTime": {
     "end_time": "2024-02-16T04:33:39.946452Z",
     "start_time": "2024-02-16T04:33:39.845427Z"
    }
   },
   "id": "4d394be033df4ea8",
   "execution_count": 10
  },
  {
   "cell_type": "code",
   "outputs": [
    {
     "name": "stdout",
     "output_type": "stream",
     "text": [
      "Best alpha from validation: 10000000.0\n"
     ]
    }
   ],
   "source": [
    "from sklearn.model_selection import GridSearchCV\n",
    "\n",
    "param_grid = {'alpha': np.logspace(-2, 10, 21)}\n",
    "\n",
    "grid = GridSearchCV(Ridge(), param_grid, cv=5, scoring='neg_mean_squared_error')\n",
    "\n",
    "grid.fit(X, y) # using the entire dataset for validation\n",
    "\n",
    "best_alpha = grid.best_params_['alpha']\n",
    "best_rse = -grid.best_score_/np.mean((y-y.mean())**2)\n",
    "print('Best alpha from validation:', best_alpha)"
   ],
   "metadata": {
    "collapsed": false,
    "ExecuteTime": {
     "end_time": "2024-02-16T04:33:44.204271Z",
     "start_time": "2024-02-16T04:33:42.531699Z"
    }
   },
   "id": "52b9ee44ee57be78",
   "execution_count": 11
  },
  {
   "cell_type": "code",
   "outputs": [
    {
     "data": {
      "text/plain": "-785.0043742391169"
     },
     "execution_count": 12,
     "metadata": {},
     "output_type": "execute_result"
    }
   ],
   "source": [
    "best_model = grid.best_estimator_\n",
    "np.mean(cross_validate(best_model, X, y, cv=5, scoring='neg_mean_squared_error')['test_score'])"
   ],
   "metadata": {
    "collapsed": false,
    "ExecuteTime": {
     "end_time": "2024-02-16T04:33:49.139656Z",
     "start_time": "2024-02-16T04:33:49.045028Z"
    }
   },
   "id": "21680fd6f3d010b6",
   "execution_count": 12
  },
  {
   "cell_type": "code",
   "outputs": [],
   "source": [
    "def relative_squared_error(y_pred, y_true):\n",
    "    \"\"\"Relative squared error (RSE; also called relative mean square error). < 1 is good, = 1 is bad, > 1 really bad.\"\"\"\n",
    "    return np.mean((y_pred - y_true)**2)/np.mean((y_true - y_true.mean())**2)"
   ],
   "metadata": {
    "collapsed": false,
    "ExecuteTime": {
     "end_time": "2024-02-16T04:33:51.603727Z",
     "start_time": "2024-02-16T04:33:51.594380Z"
    }
   },
   "id": "6bda478ac5cd61cc",
   "execution_count": 13
  },
  {
   "cell_type": "code",
   "outputs": [
    {
     "data": {
      "text/plain": "0.24059752974880574"
     },
     "execution_count": 14,
     "metadata": {},
     "output_type": "execute_result"
    }
   ],
   "source": [
    "relative_squared_error(best_model.predict(X), y)"
   ],
   "metadata": {
    "collapsed": false,
    "ExecuteTime": {
     "end_time": "2024-02-16T04:33:53.984191Z",
     "start_time": "2024-02-16T04:33:53.976735Z"
    }
   },
   "id": "a28cebae8fa2982e",
   "execution_count": 14
  },
  {
   "cell_type": "code",
   "outputs": [],
   "source": [
    "from skl2onnx import to_onnx\n",
    "\n",
    "#initial_type = [('float_input', FloatTensorType([None,4536]))]\n",
    "#onnx_model = convert_sklearn(model, initial_types=initial_type)\n",
    "onnx_model = to_onnx(model, X[:1].astype(np.float32), target_opset=12, verbose=True)"
   ],
   "metadata": {
    "collapsed": false
   },
   "id": "15265933b7de0c4d",
   "execution_count": null
  },
  {
   "cell_type": "code",
   "outputs": [],
   "source": [
    "with open('AStar-GradientBoost.onnx', 'wb') as file:\n",
    "    file.write(onnx_model.SerializeToString())"
   ],
   "metadata": {
    "collapsed": false
   },
   "id": "c9e2dbb09f2f0c63",
   "execution_count": null
  },
  {
   "cell_type": "code",
   "outputs": [],
   "source": [
    "from onnxruntime import InferenceSession\n",
    "\n",
    "sess = InferenceSession('AStar-GradientBoost.onnx', providers=[\"CPUExecutionProvider\"])\n",
    "rerun = sess.run(None, {\"X\": X_test.astype(np.float32)})[0][:, 0]\n",
    "\n",
    "rerun"
   ],
   "metadata": {
    "collapsed": false
   },
   "id": "d679e5651394188d",
   "execution_count": null
  },
  {
   "cell_type": "code",
   "outputs": [],
   "source": [
    "model.predict(X_test)"
   ],
   "metadata": {
    "collapsed": false
   },
   "id": "4076c6faace9db0a",
   "execution_count": null
  },
  {
   "cell_type": "code",
   "outputs": [],
   "source": [],
   "metadata": {
    "collapsed": false
   },
   "id": "25232fa9ca3fe6b4"
  }
 ],
 "metadata": {
  "kernelspec": {
   "display_name": "Python 3",
   "language": "python",
   "name": "python3"
  },
  "language_info": {
   "codemirror_mode": {
    "name": "ipython",
    "version": 2
   },
   "file_extension": ".py",
   "mimetype": "text/x-python",
   "name": "python",
   "nbconvert_exporter": "python",
   "pygments_lexer": "ipython2",
   "version": "2.7.6"
  }
 },
 "nbformat": 4,
 "nbformat_minor": 5
}
