{
 "cells": [
  {
   "cell_type": "code",
   "execution_count": 1,
   "id": "initial_id",
   "metadata": {
    "collapsed": true,
    "ExecuteTime": {
     "end_time": "2024-02-13T22:53:37.181200400Z",
     "start_time": "2024-02-13T22:53:36.691708500Z"
    }
   },
   "outputs": [],
   "source": [
    "import pandas as pd\n",
    "import numpy as np\n",
    "\n",
    "pd.options.plotting.backend = \"plotly\""
   ]
  },
  {
   "cell_type": "code",
   "outputs": [
    {
     "data": {
      "text/plain": "                        datetime  AirTemp      pres   rain      rh       wd  \\\n0      2022-01-01 00:00:00+00:00   10.279  1005.058  0.000  95.870  187.576   \n1      2022-01-01 01:00:00+00:00   10.318  1004.790  0.000  95.335  218.280   \n2      2022-01-01 02:00:00+00:00    9.901  1004.791  0.013  95.699  185.351   \n3      2022-01-01 03:00:00+00:00    9.444  1004.554  0.000  95.881  193.537   \n4      2022-01-01 04:00:00+00:00    8.587  1004.524  0.000  96.738  174.806   \n...                          ...      ...       ...    ...     ...      ...   \n17515  2023-12-31 19:00:00+00:00    7.523   983.610  0.000  77.079  248.157   \n17516  2023-12-31 20:00:00+00:00    7.021   984.488  0.000  81.753  246.199   \n17517  2023-12-31 21:00:00+00:00    6.746   984.980  0.000  83.942  245.813   \n17518  2023-12-31 22:00:00+00:00    6.703   985.161  0.000  83.873  241.623   \n17519  2023-12-31 23:00:00+00:00    6.574   985.901  0.000  82.309  251.971   \n\n          ws  Global_Solar_Flux  Diffuse_Solar_Flux  Direct_Solar_Flux  ...  \\\n0      1.758             -0.271              -0.370             -0.110  ...   \n1      2.401             -0.371              -0.499             -0.231  ...   \n2      1.821             -0.846              -0.999             -0.235  ...   \n3      1.760             -0.632              -0.755             -0.173  ...   \n4      1.613             -0.395              -0.489             -0.110  ...   \n...      ...                ...                 ...                ...  ...   \n17515  5.871             -1.114              -1.283             -0.246  ...   \n17516  5.223             -1.130              -1.270              0.178  ...   \n17517  4.572             -0.944              -1.041              0.281  ...   \n17518  4.568             -0.935              -1.029              0.203  ...   \n17519  4.799             -1.157              -1.273              0.051  ...   \n\n       kw_heatingcoolingtotal_zone1  kw_heatingcoolingtotal_zone2  \\\n0                            -1.798                        -2.037   \n1                            -1.794                        -2.170   \n2                            -1.795                        -2.202   \n3                            -1.811                        -2.238   \n4                            -1.814                        -2.287   \n...                             ...                           ...   \n17515                        -1.058                        -1.896   \n17516                        -1.070                        -1.886   \n17517                        -7.507                        -1.890   \n17518                        -3.758                        -1.868   \n17519                        -3.758                        -1.868   \n\n       kw_lights_zone1  kw_lights_zone2  kw_total_zone1  kw_total_zone2  \\\n0               -0.002           -0.222           2.091           2.308   \n1               -0.002           -0.278           2.086           2.504   \n2               -0.002           -0.238           2.085           2.501   \n3               -0.002           -0.240           2.100           2.539   \n4               -0.002           -0.280           2.102           2.952   \n...                ...              ...             ...             ...   \n17515           -0.130           -0.031           1.659           2.058   \n17516           -0.121           -0.019           1.661           2.038   \n17517           -0.120           -0.019           8.045           2.049   \n17518           -0.120           -0.019           4.361           2.021   \n17519           -0.120           -0.019           4.361           2.021   \n\n       kw_ventilation_zone1  kw_ventilation_zone2  kw_water_heater_zone2  \\\n0                    -0.027                -0.030                 -0.004   \n1                    -0.027                -0.044                 -0.004   \n2                    -0.026                -0.043                 -0.004   \n3                    -0.026                -0.044                 -0.004   \n4                    -0.027                -0.044                 -0.356   \n...                     ...                   ...                    ...   \n17515                -0.031                -0.022                  0.000   \n17516                -0.031                -0.023                  0.000   \n17517                -0.031                -0.023                  0.000   \n17518                -0.031                -0.023                  0.000   \n17519                -0.031                -0.023                  0.000   \n\n       plugs_zone2  \n0           -0.156  \n1           -0.157  \n2           -0.157  \n3           -0.157  \n4           -0.156  \n...            ...  \n17515       -0.206  \n17516       -0.206  \n17517       -0.215  \n17518       -0.207  \n17519       -0.207  \n\n[17520 rows x 28 columns]",
      "text/html": "<div>\n<style scoped>\n    .dataframe tbody tr th:only-of-type {\n        vertical-align: middle;\n    }\n\n    .dataframe tbody tr th {\n        vertical-align: top;\n    }\n\n    .dataframe thead th {\n        text-align: right;\n    }\n</style>\n<table border=\"1\" class=\"dataframe\">\n  <thead>\n    <tr style=\"text-align: right;\">\n      <th></th>\n      <th>datetime</th>\n      <th>AirTemp</th>\n      <th>pres</th>\n      <th>rain</th>\n      <th>rh</th>\n      <th>wd</th>\n      <th>ws</th>\n      <th>Global_Solar_Flux</th>\n      <th>Diffuse_Solar_Flux</th>\n      <th>Direct_Solar_Flux</th>\n      <th>...</th>\n      <th>kw_heatingcoolingtotal_zone1</th>\n      <th>kw_heatingcoolingtotal_zone2</th>\n      <th>kw_lights_zone1</th>\n      <th>kw_lights_zone2</th>\n      <th>kw_total_zone1</th>\n      <th>kw_total_zone2</th>\n      <th>kw_ventilation_zone1</th>\n      <th>kw_ventilation_zone2</th>\n      <th>kw_water_heater_zone2</th>\n      <th>plugs_zone2</th>\n    </tr>\n  </thead>\n  <tbody>\n    <tr>\n      <th>0</th>\n      <td>2022-01-01 00:00:00+00:00</td>\n      <td>10.279</td>\n      <td>1005.058</td>\n      <td>0.000</td>\n      <td>95.870</td>\n      <td>187.576</td>\n      <td>1.758</td>\n      <td>-0.271</td>\n      <td>-0.370</td>\n      <td>-0.110</td>\n      <td>...</td>\n      <td>-1.798</td>\n      <td>-2.037</td>\n      <td>-0.002</td>\n      <td>-0.222</td>\n      <td>2.091</td>\n      <td>2.308</td>\n      <td>-0.027</td>\n      <td>-0.030</td>\n      <td>-0.004</td>\n      <td>-0.156</td>\n    </tr>\n    <tr>\n      <th>1</th>\n      <td>2022-01-01 01:00:00+00:00</td>\n      <td>10.318</td>\n      <td>1004.790</td>\n      <td>0.000</td>\n      <td>95.335</td>\n      <td>218.280</td>\n      <td>2.401</td>\n      <td>-0.371</td>\n      <td>-0.499</td>\n      <td>-0.231</td>\n      <td>...</td>\n      <td>-1.794</td>\n      <td>-2.170</td>\n      <td>-0.002</td>\n      <td>-0.278</td>\n      <td>2.086</td>\n      <td>2.504</td>\n      <td>-0.027</td>\n      <td>-0.044</td>\n      <td>-0.004</td>\n      <td>-0.157</td>\n    </tr>\n    <tr>\n      <th>2</th>\n      <td>2022-01-01 02:00:00+00:00</td>\n      <td>9.901</td>\n      <td>1004.791</td>\n      <td>0.013</td>\n      <td>95.699</td>\n      <td>185.351</td>\n      <td>1.821</td>\n      <td>-0.846</td>\n      <td>-0.999</td>\n      <td>-0.235</td>\n      <td>...</td>\n      <td>-1.795</td>\n      <td>-2.202</td>\n      <td>-0.002</td>\n      <td>-0.238</td>\n      <td>2.085</td>\n      <td>2.501</td>\n      <td>-0.026</td>\n      <td>-0.043</td>\n      <td>-0.004</td>\n      <td>-0.157</td>\n    </tr>\n    <tr>\n      <th>3</th>\n      <td>2022-01-01 03:00:00+00:00</td>\n      <td>9.444</td>\n      <td>1004.554</td>\n      <td>0.000</td>\n      <td>95.881</td>\n      <td>193.537</td>\n      <td>1.760</td>\n      <td>-0.632</td>\n      <td>-0.755</td>\n      <td>-0.173</td>\n      <td>...</td>\n      <td>-1.811</td>\n      <td>-2.238</td>\n      <td>-0.002</td>\n      <td>-0.240</td>\n      <td>2.100</td>\n      <td>2.539</td>\n      <td>-0.026</td>\n      <td>-0.044</td>\n      <td>-0.004</td>\n      <td>-0.157</td>\n    </tr>\n    <tr>\n      <th>4</th>\n      <td>2022-01-01 04:00:00+00:00</td>\n      <td>8.587</td>\n      <td>1004.524</td>\n      <td>0.000</td>\n      <td>96.738</td>\n      <td>174.806</td>\n      <td>1.613</td>\n      <td>-0.395</td>\n      <td>-0.489</td>\n      <td>-0.110</td>\n      <td>...</td>\n      <td>-1.814</td>\n      <td>-2.287</td>\n      <td>-0.002</td>\n      <td>-0.280</td>\n      <td>2.102</td>\n      <td>2.952</td>\n      <td>-0.027</td>\n      <td>-0.044</td>\n      <td>-0.356</td>\n      <td>-0.156</td>\n    </tr>\n    <tr>\n      <th>...</th>\n      <td>...</td>\n      <td>...</td>\n      <td>...</td>\n      <td>...</td>\n      <td>...</td>\n      <td>...</td>\n      <td>...</td>\n      <td>...</td>\n      <td>...</td>\n      <td>...</td>\n      <td>...</td>\n      <td>...</td>\n      <td>...</td>\n      <td>...</td>\n      <td>...</td>\n      <td>...</td>\n      <td>...</td>\n      <td>...</td>\n      <td>...</td>\n      <td>...</td>\n      <td>...</td>\n    </tr>\n    <tr>\n      <th>17515</th>\n      <td>2023-12-31 19:00:00+00:00</td>\n      <td>7.523</td>\n      <td>983.610</td>\n      <td>0.000</td>\n      <td>77.079</td>\n      <td>248.157</td>\n      <td>5.871</td>\n      <td>-1.114</td>\n      <td>-1.283</td>\n      <td>-0.246</td>\n      <td>...</td>\n      <td>-1.058</td>\n      <td>-1.896</td>\n      <td>-0.130</td>\n      <td>-0.031</td>\n      <td>1.659</td>\n      <td>2.058</td>\n      <td>-0.031</td>\n      <td>-0.022</td>\n      <td>0.000</td>\n      <td>-0.206</td>\n    </tr>\n    <tr>\n      <th>17516</th>\n      <td>2023-12-31 20:00:00+00:00</td>\n      <td>7.021</td>\n      <td>984.488</td>\n      <td>0.000</td>\n      <td>81.753</td>\n      <td>246.199</td>\n      <td>5.223</td>\n      <td>-1.130</td>\n      <td>-1.270</td>\n      <td>0.178</td>\n      <td>...</td>\n      <td>-1.070</td>\n      <td>-1.886</td>\n      <td>-0.121</td>\n      <td>-0.019</td>\n      <td>1.661</td>\n      <td>2.038</td>\n      <td>-0.031</td>\n      <td>-0.023</td>\n      <td>0.000</td>\n      <td>-0.206</td>\n    </tr>\n    <tr>\n      <th>17517</th>\n      <td>2023-12-31 21:00:00+00:00</td>\n      <td>6.746</td>\n      <td>984.980</td>\n      <td>0.000</td>\n      <td>83.942</td>\n      <td>245.813</td>\n      <td>4.572</td>\n      <td>-0.944</td>\n      <td>-1.041</td>\n      <td>0.281</td>\n      <td>...</td>\n      <td>-7.507</td>\n      <td>-1.890</td>\n      <td>-0.120</td>\n      <td>-0.019</td>\n      <td>8.045</td>\n      <td>2.049</td>\n      <td>-0.031</td>\n      <td>-0.023</td>\n      <td>0.000</td>\n      <td>-0.215</td>\n    </tr>\n    <tr>\n      <th>17518</th>\n      <td>2023-12-31 22:00:00+00:00</td>\n      <td>6.703</td>\n      <td>985.161</td>\n      <td>0.000</td>\n      <td>83.873</td>\n      <td>241.623</td>\n      <td>4.568</td>\n      <td>-0.935</td>\n      <td>-1.029</td>\n      <td>0.203</td>\n      <td>...</td>\n      <td>-3.758</td>\n      <td>-1.868</td>\n      <td>-0.120</td>\n      <td>-0.019</td>\n      <td>4.361</td>\n      <td>2.021</td>\n      <td>-0.031</td>\n      <td>-0.023</td>\n      <td>0.000</td>\n      <td>-0.207</td>\n    </tr>\n    <tr>\n      <th>17519</th>\n      <td>2023-12-31 23:00:00+00:00</td>\n      <td>6.574</td>\n      <td>985.901</td>\n      <td>0.000</td>\n      <td>82.309</td>\n      <td>251.971</td>\n      <td>4.799</td>\n      <td>-1.157</td>\n      <td>-1.273</td>\n      <td>0.051</td>\n      <td>...</td>\n      <td>-3.758</td>\n      <td>-1.868</td>\n      <td>-0.120</td>\n      <td>-0.019</td>\n      <td>4.361</td>\n      <td>2.021</td>\n      <td>-0.031</td>\n      <td>-0.023</td>\n      <td>0.000</td>\n      <td>-0.207</td>\n    </tr>\n  </tbody>\n</table>\n<p>17520 rows × 28 columns</p>\n</div>"
     },
     "execution_count": 2,
     "metadata": {},
     "output_type": "execute_result"
    }
   ],
   "source": [
    "hourly_data_path = 'students_drahi_production_consumption_hourly.csv'\n",
    "hourly_data = pd.read_csv(hourly_data_path)\n",
    "\n",
    "hourly_data"
   ],
   "metadata": {
    "collapsed": false,
    "ExecuteTime": {
     "end_time": "2024-02-13T22:53:37.244302Z",
     "start_time": "2024-02-13T22:53:37.183726900Z"
    }
   },
   "id": "66b802d563a11c23",
   "execution_count": 2
  },
  {
   "cell_type": "code",
   "outputs": [
    {
     "data": {
      "text/plain": "                           AirTemp      pres   rain      rh       wd     ws  \\\ndatetime                                                                      \n2022-01-01 00:00:00+00:00   10.279  1005.058  0.000  95.870  187.576  1.758   \n2022-01-01 01:00:00+00:00   10.318  1004.790  0.000  95.335  218.280  2.401   \n2022-01-01 02:00:00+00:00    9.901  1004.791  0.013  95.699  185.351  1.821   \n2022-01-01 03:00:00+00:00    9.444  1004.554  0.000  95.881  193.537  1.760   \n2022-01-01 04:00:00+00:00    8.587  1004.524  0.000  96.738  174.806  1.613   \n...                            ...       ...    ...     ...      ...    ...   \n2023-12-31 19:00:00+00:00    7.523   983.610  0.000  77.079  248.157  5.871   \n2023-12-31 20:00:00+00:00    7.021   984.488  0.000  81.753  246.199  5.223   \n2023-12-31 21:00:00+00:00    6.746   984.980  0.000  83.942  245.813  4.572   \n2023-12-31 22:00:00+00:00    6.703   985.161  0.000  83.873  241.623  4.568   \n2023-12-31 23:00:00+00:00    6.574   985.901  0.000  82.309  251.971  4.799   \n\n                           Global_Solar_Flux  Diffuse_Solar_Flux  \\\ndatetime                                                           \n2022-01-01 00:00:00+00:00             -0.271              -0.370   \n2022-01-01 01:00:00+00:00             -0.371              -0.499   \n2022-01-01 02:00:00+00:00             -0.846              -0.999   \n2022-01-01 03:00:00+00:00             -0.632              -0.755   \n2022-01-01 04:00:00+00:00             -0.395              -0.489   \n...                                      ...                 ...   \n2023-12-31 19:00:00+00:00             -1.114              -1.283   \n2023-12-31 20:00:00+00:00             -1.130              -1.270   \n2023-12-31 21:00:00+00:00             -0.944              -1.041   \n2023-12-31 22:00:00+00:00             -0.935              -1.029   \n2023-12-31 23:00:00+00:00             -1.157              -1.273   \n\n                           Direct_Solar_Flux  Downwelling_IR_Flux  ...  \\\ndatetime                                                           ...   \n2022-01-01 00:00:00+00:00             -0.110              342.922  ...   \n2022-01-01 01:00:00+00:00             -0.231              328.399  ...   \n2022-01-01 02:00:00+00:00             -0.235              288.659  ...   \n2022-01-01 03:00:00+00:00             -0.173              309.317  ...   \n2022-01-01 04:00:00+00:00             -0.110              323.557  ...   \n...                                      ...                  ...  ...   \n2023-12-31 19:00:00+00:00             -0.246              259.846  ...   \n2023-12-31 20:00:00+00:00              0.178              261.117  ...   \n2023-12-31 21:00:00+00:00              0.281              289.698  ...   \n2023-12-31 22:00:00+00:00              0.203              279.778  ...   \n2023-12-31 23:00:00+00:00              0.051              258.689  ...   \n\n                           kw_heatingcoolingtotal_zone1  \\\ndatetime                                                  \n2022-01-01 00:00:00+00:00                        -1.798   \n2022-01-01 01:00:00+00:00                        -1.794   \n2022-01-01 02:00:00+00:00                        -1.795   \n2022-01-01 03:00:00+00:00                        -1.811   \n2022-01-01 04:00:00+00:00                        -1.814   \n...                                                 ...   \n2023-12-31 19:00:00+00:00                        -1.058   \n2023-12-31 20:00:00+00:00                        -1.070   \n2023-12-31 21:00:00+00:00                        -7.507   \n2023-12-31 22:00:00+00:00                        -3.758   \n2023-12-31 23:00:00+00:00                        -3.758   \n\n                           kw_heatingcoolingtotal_zone2  kw_lights_zone1  \\\ndatetime                                                                   \n2022-01-01 00:00:00+00:00                        -2.037           -0.002   \n2022-01-01 01:00:00+00:00                        -2.170           -0.002   \n2022-01-01 02:00:00+00:00                        -2.202           -0.002   \n2022-01-01 03:00:00+00:00                        -2.238           -0.002   \n2022-01-01 04:00:00+00:00                        -2.287           -0.002   \n...                                                 ...              ...   \n2023-12-31 19:00:00+00:00                        -1.896           -0.130   \n2023-12-31 20:00:00+00:00                        -1.886           -0.121   \n2023-12-31 21:00:00+00:00                        -1.890           -0.120   \n2023-12-31 22:00:00+00:00                        -1.868           -0.120   \n2023-12-31 23:00:00+00:00                        -1.868           -0.120   \n\n                           kw_lights_zone2  kw_total_zone1  kw_total_zone2  \\\ndatetime                                                                     \n2022-01-01 00:00:00+00:00           -0.222           2.091           2.308   \n2022-01-01 01:00:00+00:00           -0.278           2.086           2.504   \n2022-01-01 02:00:00+00:00           -0.238           2.085           2.501   \n2022-01-01 03:00:00+00:00           -0.240           2.100           2.539   \n2022-01-01 04:00:00+00:00           -0.280           2.102           2.952   \n...                                    ...             ...             ...   \n2023-12-31 19:00:00+00:00           -0.031           1.659           2.058   \n2023-12-31 20:00:00+00:00           -0.019           1.661           2.038   \n2023-12-31 21:00:00+00:00           -0.019           8.045           2.049   \n2023-12-31 22:00:00+00:00           -0.019           4.361           2.021   \n2023-12-31 23:00:00+00:00           -0.019           4.361           2.021   \n\n                           kw_ventilation_zone1  kw_ventilation_zone2  \\\ndatetime                                                                \n2022-01-01 00:00:00+00:00                -0.027                -0.030   \n2022-01-01 01:00:00+00:00                -0.027                -0.044   \n2022-01-01 02:00:00+00:00                -0.026                -0.043   \n2022-01-01 03:00:00+00:00                -0.026                -0.044   \n2022-01-01 04:00:00+00:00                -0.027                -0.044   \n...                                         ...                   ...   \n2023-12-31 19:00:00+00:00                -0.031                -0.022   \n2023-12-31 20:00:00+00:00                -0.031                -0.023   \n2023-12-31 21:00:00+00:00                -0.031                -0.023   \n2023-12-31 22:00:00+00:00                -0.031                -0.023   \n2023-12-31 23:00:00+00:00                -0.031                -0.023   \n\n                           kw_water_heater_zone2  plugs_zone2  \ndatetime                                                       \n2022-01-01 00:00:00+00:00                 -0.004       -0.156  \n2022-01-01 01:00:00+00:00                 -0.004       -0.157  \n2022-01-01 02:00:00+00:00                 -0.004       -0.157  \n2022-01-01 03:00:00+00:00                 -0.004       -0.157  \n2022-01-01 04:00:00+00:00                 -0.356       -0.156  \n...                                          ...          ...  \n2023-12-31 19:00:00+00:00                  0.000       -0.206  \n2023-12-31 20:00:00+00:00                  0.000       -0.206  \n2023-12-31 21:00:00+00:00                  0.000       -0.215  \n2023-12-31 22:00:00+00:00                  0.000       -0.207  \n2023-12-31 23:00:00+00:00                  0.000       -0.207  \n\n[17520 rows x 27 columns]",
      "text/html": "<div>\n<style scoped>\n    .dataframe tbody tr th:only-of-type {\n        vertical-align: middle;\n    }\n\n    .dataframe tbody tr th {\n        vertical-align: top;\n    }\n\n    .dataframe thead th {\n        text-align: right;\n    }\n</style>\n<table border=\"1\" class=\"dataframe\">\n  <thead>\n    <tr style=\"text-align: right;\">\n      <th></th>\n      <th>AirTemp</th>\n      <th>pres</th>\n      <th>rain</th>\n      <th>rh</th>\n      <th>wd</th>\n      <th>ws</th>\n      <th>Global_Solar_Flux</th>\n      <th>Diffuse_Solar_Flux</th>\n      <th>Direct_Solar_Flux</th>\n      <th>Downwelling_IR_Flux</th>\n      <th>...</th>\n      <th>kw_heatingcoolingtotal_zone1</th>\n      <th>kw_heatingcoolingtotal_zone2</th>\n      <th>kw_lights_zone1</th>\n      <th>kw_lights_zone2</th>\n      <th>kw_total_zone1</th>\n      <th>kw_total_zone2</th>\n      <th>kw_ventilation_zone1</th>\n      <th>kw_ventilation_zone2</th>\n      <th>kw_water_heater_zone2</th>\n      <th>plugs_zone2</th>\n    </tr>\n    <tr>\n      <th>datetime</th>\n      <th></th>\n      <th></th>\n      <th></th>\n      <th></th>\n      <th></th>\n      <th></th>\n      <th></th>\n      <th></th>\n      <th></th>\n      <th></th>\n      <th></th>\n      <th></th>\n      <th></th>\n      <th></th>\n      <th></th>\n      <th></th>\n      <th></th>\n      <th></th>\n      <th></th>\n      <th></th>\n      <th></th>\n    </tr>\n  </thead>\n  <tbody>\n    <tr>\n      <th>2022-01-01 00:00:00+00:00</th>\n      <td>10.279</td>\n      <td>1005.058</td>\n      <td>0.000</td>\n      <td>95.870</td>\n      <td>187.576</td>\n      <td>1.758</td>\n      <td>-0.271</td>\n      <td>-0.370</td>\n      <td>-0.110</td>\n      <td>342.922</td>\n      <td>...</td>\n      <td>-1.798</td>\n      <td>-2.037</td>\n      <td>-0.002</td>\n      <td>-0.222</td>\n      <td>2.091</td>\n      <td>2.308</td>\n      <td>-0.027</td>\n      <td>-0.030</td>\n      <td>-0.004</td>\n      <td>-0.156</td>\n    </tr>\n    <tr>\n      <th>2022-01-01 01:00:00+00:00</th>\n      <td>10.318</td>\n      <td>1004.790</td>\n      <td>0.000</td>\n      <td>95.335</td>\n      <td>218.280</td>\n      <td>2.401</td>\n      <td>-0.371</td>\n      <td>-0.499</td>\n      <td>-0.231</td>\n      <td>328.399</td>\n      <td>...</td>\n      <td>-1.794</td>\n      <td>-2.170</td>\n      <td>-0.002</td>\n      <td>-0.278</td>\n      <td>2.086</td>\n      <td>2.504</td>\n      <td>-0.027</td>\n      <td>-0.044</td>\n      <td>-0.004</td>\n      <td>-0.157</td>\n    </tr>\n    <tr>\n      <th>2022-01-01 02:00:00+00:00</th>\n      <td>9.901</td>\n      <td>1004.791</td>\n      <td>0.013</td>\n      <td>95.699</td>\n      <td>185.351</td>\n      <td>1.821</td>\n      <td>-0.846</td>\n      <td>-0.999</td>\n      <td>-0.235</td>\n      <td>288.659</td>\n      <td>...</td>\n      <td>-1.795</td>\n      <td>-2.202</td>\n      <td>-0.002</td>\n      <td>-0.238</td>\n      <td>2.085</td>\n      <td>2.501</td>\n      <td>-0.026</td>\n      <td>-0.043</td>\n      <td>-0.004</td>\n      <td>-0.157</td>\n    </tr>\n    <tr>\n      <th>2022-01-01 03:00:00+00:00</th>\n      <td>9.444</td>\n      <td>1004.554</td>\n      <td>0.000</td>\n      <td>95.881</td>\n      <td>193.537</td>\n      <td>1.760</td>\n      <td>-0.632</td>\n      <td>-0.755</td>\n      <td>-0.173</td>\n      <td>309.317</td>\n      <td>...</td>\n      <td>-1.811</td>\n      <td>-2.238</td>\n      <td>-0.002</td>\n      <td>-0.240</td>\n      <td>2.100</td>\n      <td>2.539</td>\n      <td>-0.026</td>\n      <td>-0.044</td>\n      <td>-0.004</td>\n      <td>-0.157</td>\n    </tr>\n    <tr>\n      <th>2022-01-01 04:00:00+00:00</th>\n      <td>8.587</td>\n      <td>1004.524</td>\n      <td>0.000</td>\n      <td>96.738</td>\n      <td>174.806</td>\n      <td>1.613</td>\n      <td>-0.395</td>\n      <td>-0.489</td>\n      <td>-0.110</td>\n      <td>323.557</td>\n      <td>...</td>\n      <td>-1.814</td>\n      <td>-2.287</td>\n      <td>-0.002</td>\n      <td>-0.280</td>\n      <td>2.102</td>\n      <td>2.952</td>\n      <td>-0.027</td>\n      <td>-0.044</td>\n      <td>-0.356</td>\n      <td>-0.156</td>\n    </tr>\n    <tr>\n      <th>...</th>\n      <td>...</td>\n      <td>...</td>\n      <td>...</td>\n      <td>...</td>\n      <td>...</td>\n      <td>...</td>\n      <td>...</td>\n      <td>...</td>\n      <td>...</td>\n      <td>...</td>\n      <td>...</td>\n      <td>...</td>\n      <td>...</td>\n      <td>...</td>\n      <td>...</td>\n      <td>...</td>\n      <td>...</td>\n      <td>...</td>\n      <td>...</td>\n      <td>...</td>\n      <td>...</td>\n    </tr>\n    <tr>\n      <th>2023-12-31 19:00:00+00:00</th>\n      <td>7.523</td>\n      <td>983.610</td>\n      <td>0.000</td>\n      <td>77.079</td>\n      <td>248.157</td>\n      <td>5.871</td>\n      <td>-1.114</td>\n      <td>-1.283</td>\n      <td>-0.246</td>\n      <td>259.846</td>\n      <td>...</td>\n      <td>-1.058</td>\n      <td>-1.896</td>\n      <td>-0.130</td>\n      <td>-0.031</td>\n      <td>1.659</td>\n      <td>2.058</td>\n      <td>-0.031</td>\n      <td>-0.022</td>\n      <td>0.000</td>\n      <td>-0.206</td>\n    </tr>\n    <tr>\n      <th>2023-12-31 20:00:00+00:00</th>\n      <td>7.021</td>\n      <td>984.488</td>\n      <td>0.000</td>\n      <td>81.753</td>\n      <td>246.199</td>\n      <td>5.223</td>\n      <td>-1.130</td>\n      <td>-1.270</td>\n      <td>0.178</td>\n      <td>261.117</td>\n      <td>...</td>\n      <td>-1.070</td>\n      <td>-1.886</td>\n      <td>-0.121</td>\n      <td>-0.019</td>\n      <td>1.661</td>\n      <td>2.038</td>\n      <td>-0.031</td>\n      <td>-0.023</td>\n      <td>0.000</td>\n      <td>-0.206</td>\n    </tr>\n    <tr>\n      <th>2023-12-31 21:00:00+00:00</th>\n      <td>6.746</td>\n      <td>984.980</td>\n      <td>0.000</td>\n      <td>83.942</td>\n      <td>245.813</td>\n      <td>4.572</td>\n      <td>-0.944</td>\n      <td>-1.041</td>\n      <td>0.281</td>\n      <td>289.698</td>\n      <td>...</td>\n      <td>-7.507</td>\n      <td>-1.890</td>\n      <td>-0.120</td>\n      <td>-0.019</td>\n      <td>8.045</td>\n      <td>2.049</td>\n      <td>-0.031</td>\n      <td>-0.023</td>\n      <td>0.000</td>\n      <td>-0.215</td>\n    </tr>\n    <tr>\n      <th>2023-12-31 22:00:00+00:00</th>\n      <td>6.703</td>\n      <td>985.161</td>\n      <td>0.000</td>\n      <td>83.873</td>\n      <td>241.623</td>\n      <td>4.568</td>\n      <td>-0.935</td>\n      <td>-1.029</td>\n      <td>0.203</td>\n      <td>279.778</td>\n      <td>...</td>\n      <td>-3.758</td>\n      <td>-1.868</td>\n      <td>-0.120</td>\n      <td>-0.019</td>\n      <td>4.361</td>\n      <td>2.021</td>\n      <td>-0.031</td>\n      <td>-0.023</td>\n      <td>0.000</td>\n      <td>-0.207</td>\n    </tr>\n    <tr>\n      <th>2023-12-31 23:00:00+00:00</th>\n      <td>6.574</td>\n      <td>985.901</td>\n      <td>0.000</td>\n      <td>82.309</td>\n      <td>251.971</td>\n      <td>4.799</td>\n      <td>-1.157</td>\n      <td>-1.273</td>\n      <td>0.051</td>\n      <td>258.689</td>\n      <td>...</td>\n      <td>-3.758</td>\n      <td>-1.868</td>\n      <td>-0.120</td>\n      <td>-0.019</td>\n      <td>4.361</td>\n      <td>2.021</td>\n      <td>-0.031</td>\n      <td>-0.023</td>\n      <td>0.000</td>\n      <td>-0.207</td>\n    </tr>\n  </tbody>\n</table>\n<p>17520 rows × 27 columns</p>\n</div>"
     },
     "execution_count": 8,
     "metadata": {},
     "output_type": "execute_result"
    }
   ],
   "source": [
    "hourly_data_index = hourly_data.set_index(\"datetime\")\n",
    "\n",
    "hourly_data_index"
   ],
   "metadata": {
    "collapsed": false,
    "ExecuteTime": {
     "end_time": "2024-02-13T23:19:48.590788900Z",
     "start_time": "2024-02-13T23:19:48.562420900Z"
    }
   },
   "id": "4ae14d30a8285c5",
   "execution_count": 8
  },
  {
   "cell_type": "code",
   "outputs": [],
   "source": [
    "from sklearn.preprocessing import FunctionTransformer\n",
    "\n",
    "#Little hack to \"freeze\" transformers, since the data in the input is flattened \n",
    "\n",
    "def fit_and_freeze(transformer):\n",
    "    fitted = [False]\n",
    "\n",
    "    def func(x):\n",
    "        if not fitted[0]:\n",
    "            transformer.fit(x)\n",
    "            fitted[0] = True\n",
    "        return transformer.transform(x)\n",
    "\n",
    "    return FunctionTransformer(func)"
   ],
   "metadata": {
    "collapsed": false
   },
   "id": "8edc9df5a922de45"
  },
  {
   "cell_type": "code",
   "outputs": [],
   "source": [
    "time = pd.to_datetime(hourly_data['datetime']).values.astype('datetime64[s]')\n",
    "power_consumption = hourly_data['kw_total_zone2'].values\n",
    "\n",
    "dec = [] # daily energy consumption\n",
    "t_dec = []\n",
    "\n",
    "for ti, t in enumerate(time):\n",
    "    tmp_t = pd.Timestamp(t)\n",
    "\n",
    "    if np.isclose(tmp_t.hour, 0) and np.isclose(tmp_t.minute, 0):\n",
    "\n",
    "        day_end = np.datetime64(tmp_t + pd.Timedelta(days=1))\n",
    "        ind = np.where((time > tmp_t) & (time < day_end), True, False)\n",
    "\n",
    "        if len(time[ind]) > 0 and not np.isnan(power_consumption[ind]).any():\n",
    "            t_dec.append(np.datetime64(tmp_t).astype('datetime64[s]'))\n",
    "            dec.append(np.trapz(power_consumption[ind], time[ind].astype(int))/3600)\n",
    "\n",
    "t_dec = np.array(t_dec)\n",
    "dec = np.array(dec)"
   ],
   "metadata": {
    "collapsed": false,
    "ExecuteTime": {
     "end_time": "2024-02-13T23:19:49.459163100Z",
     "start_time": "2024-02-13T23:19:48.792594200Z"
    }
   },
   "id": "b59972f2ba38eb27",
   "execution_count": 9
  },
  {
   "cell_type": "code",
   "outputs": [],
   "source": [
    "N = 7 # N days of predictors beforehand\n",
    "final_ind = []\n",
    "final_hourly = []\n",
    "\n",
    "predictor_window = pd.Timedelta(days=N)\n",
    "\n",
    "for ti, t in enumerate(t_dec):\n",
    "    tmp_t = pd.Timestamp(t)\n",
    "\n",
    "    ind = np.where((time >= tmp_t - predictor_window) & (time < tmp_t), True, False) # finding indices within the N prior days\n",
    "\n",
    "    bad_ind = np.isnan(hourly_data.iloc[ind, 1::].values)\n",
    "    if len(time[ind]) >= 24 * N and not bad_ind.any(): # rejecting any data with NaNs; useful for the student dataset\n",
    "        final_ind.append(ti)\n",
    "        final_hourly.append(hourly_data.iloc[ind, 1::].values)\n",
    "\n",
    "target_time = t_dec[final_ind]\n",
    "predictors = np.array(final_hourly)\n",
    "\n",
    "X = pd.DataFrame(predictors.reshape(len(predictors), -1))\n",
    "y = pd.DataFrame(np.array(dec[final_ind]))"
   ],
   "metadata": {
    "collapsed": false,
    "ExecuteTime": {
     "end_time": "2024-02-13T22:53:38.724215800Z",
     "start_time": "2024-02-13T22:53:38.479580200Z"
    }
   },
   "id": "bad8369a49aed0c",
   "execution_count": 4
  },
  {
   "cell_type": "code",
   "outputs": [],
   "source": [
    "from sklearn.pipeline import Pipeline\n",
    "from sklearn.linear_model import Ridge\n",
    "from sklearn.model_selection import train_test_split\n",
    "\n",
    "X_train, X_test, y_train, y_test = train_test_split(X, y, test_size=0.3, random_state=148)\n",
    "\n",
    "\n",
    "preprocessor = Pipeline(steps=[])\n",
    "\n",
    "clf = Pipeline(steps=[\n",
    "    ('preprocessor', preprocessor),\n",
    "    ('classifier', Ridge(alpha=1e8))\n",
    "])\n",
    "\n",
    "clf.fit(X, y)\n",
    "\n",
    "#reg = Ridge(alpha=1e8)\n",
    "#reg.fit(x_train, y_train)\n",
    "#y_pred = reg.predict(x_test)"
   ],
   "metadata": {
    "collapsed": false,
    "ExecuteTime": {
     "end_time": "2024-02-13T22:53:40.455439800Z",
     "start_time": "2024-02-13T22:53:39.860637Z"
    }
   },
   "id": "6896d5def0f33683",
   "execution_count": 5
  },
  {
   "cell_type": "code",
   "outputs": [
    {
     "data": {
      "text/plain": "       0         1     2       3        4      5      6      7      8     \\\n312  18.428   995.407   0.0  57.516   77.123  3.501 -1.257 -1.533 -0.360   \n198  15.011   998.739   0.0  84.504  143.207  1.827 -0.990 -1.102 -0.348   \n7     4.383   994.138   0.0  79.744  335.499  4.431 -0.134 -0.225 -0.071   \n425   4.341   980.571   0.0  82.835  194.219  1.599 -0.499 -0.541  0.103   \n409   8.994   980.793   0.0  92.324  244.227  3.599 -0.941 -1.343  0.475   \n..      ...       ...   ...     ...      ...    ...    ...    ...    ...   \n244  11.973  1003.873   0.0  95.989  260.565  2.727 -0.329 -0.390 -0.177   \n210   8.981   980.178   0.0  93.478  236.877  3.002 -1.109 -1.249 -0.415   \n225   2.029   985.750   0.0  90.118   19.370  2.041 -0.461 -0.481 -0.103   \n180  10.227  1003.284   0.0  68.071  108.445  2.003 -1.110 -1.293 -0.440   \n284   9.383   988.847   0.0  96.858  235.719  2.186 -0.749 -1.009 -0.313   \n\n        9     ...   4526   4527   4528   4529    4530   4531   4532   4533  \\\n312  319.558  ... -0.219 -0.258 -0.199 -0.021   1.308  0.467 -0.332  0.024   \n198  315.333  ... -0.725 -0.425 -0.005 -0.026   1.309  0.948 -0.022  0.007   \n7    310.776  ... -2.372 -1.864 -0.001 -0.055   2.662  2.163 -0.024  0.011   \n425  305.489  ... -7.752 -2.072 -0.007 -0.019  10.125  2.376 -2.042  0.027   \n409  274.657  ... -1.274 -0.950 -0.196 -0.053   3.340  1.340 -1.493  0.025   \n..       ...  ...    ...    ...    ...    ...     ...    ...    ...    ...   \n244  368.473  ... -0.198 -1.974 -0.004 -0.064   0.786  2.291 -0.022  0.008   \n210  269.589  ... -1.293 -1.865 -0.200 -0.026   2.075  2.238 -0.022  0.008   \n225  287.682  ... -1.864 -1.971 -0.004 -0.076   2.263  2.493 -0.022  0.009   \n180  272.149  ... -0.803 -0.721 -0.006 -0.027   1.335  1.082 -0.022 -0.045   \n284  287.545  ... -0.776 -0.868 -0.004 -0.026   1.274  1.109 -0.033  0.008   \n\n      4534   4535  \n312 -0.000 -0.171  \n198 -0.005 -0.549  \n7   -0.004 -0.343  \n425 -0.001 -0.418  \n409  0.000 -0.354  \n..     ...    ...  \n244 -0.005 -0.395  \n210 -0.005 -0.502  \n225 -0.042 -0.583  \n180 -0.005 -0.365  \n284 -0.005 -0.264  \n\n[135 rows x 4536 columns]",
      "text/html": "<div>\n<style scoped>\n    .dataframe tbody tr th:only-of-type {\n        vertical-align: middle;\n    }\n\n    .dataframe tbody tr th {\n        vertical-align: top;\n    }\n\n    .dataframe thead th {\n        text-align: right;\n    }\n</style>\n<table border=\"1\" class=\"dataframe\">\n  <thead>\n    <tr style=\"text-align: right;\">\n      <th></th>\n      <th>0</th>\n      <th>1</th>\n      <th>2</th>\n      <th>3</th>\n      <th>4</th>\n      <th>5</th>\n      <th>6</th>\n      <th>7</th>\n      <th>8</th>\n      <th>9</th>\n      <th>...</th>\n      <th>4526</th>\n      <th>4527</th>\n      <th>4528</th>\n      <th>4529</th>\n      <th>4530</th>\n      <th>4531</th>\n      <th>4532</th>\n      <th>4533</th>\n      <th>4534</th>\n      <th>4535</th>\n    </tr>\n  </thead>\n  <tbody>\n    <tr>\n      <th>312</th>\n      <td>18.428</td>\n      <td>995.407</td>\n      <td>0.0</td>\n      <td>57.516</td>\n      <td>77.123</td>\n      <td>3.501</td>\n      <td>-1.257</td>\n      <td>-1.533</td>\n      <td>-0.360</td>\n      <td>319.558</td>\n      <td>...</td>\n      <td>-0.219</td>\n      <td>-0.258</td>\n      <td>-0.199</td>\n      <td>-0.021</td>\n      <td>1.308</td>\n      <td>0.467</td>\n      <td>-0.332</td>\n      <td>0.024</td>\n      <td>-0.000</td>\n      <td>-0.171</td>\n    </tr>\n    <tr>\n      <th>198</th>\n      <td>15.011</td>\n      <td>998.739</td>\n      <td>0.0</td>\n      <td>84.504</td>\n      <td>143.207</td>\n      <td>1.827</td>\n      <td>-0.990</td>\n      <td>-1.102</td>\n      <td>-0.348</td>\n      <td>315.333</td>\n      <td>...</td>\n      <td>-0.725</td>\n      <td>-0.425</td>\n      <td>-0.005</td>\n      <td>-0.026</td>\n      <td>1.309</td>\n      <td>0.948</td>\n      <td>-0.022</td>\n      <td>0.007</td>\n      <td>-0.005</td>\n      <td>-0.549</td>\n    </tr>\n    <tr>\n      <th>7</th>\n      <td>4.383</td>\n      <td>994.138</td>\n      <td>0.0</td>\n      <td>79.744</td>\n      <td>335.499</td>\n      <td>4.431</td>\n      <td>-0.134</td>\n      <td>-0.225</td>\n      <td>-0.071</td>\n      <td>310.776</td>\n      <td>...</td>\n      <td>-2.372</td>\n      <td>-1.864</td>\n      <td>-0.001</td>\n      <td>-0.055</td>\n      <td>2.662</td>\n      <td>2.163</td>\n      <td>-0.024</td>\n      <td>0.011</td>\n      <td>-0.004</td>\n      <td>-0.343</td>\n    </tr>\n    <tr>\n      <th>425</th>\n      <td>4.341</td>\n      <td>980.571</td>\n      <td>0.0</td>\n      <td>82.835</td>\n      <td>194.219</td>\n      <td>1.599</td>\n      <td>-0.499</td>\n      <td>-0.541</td>\n      <td>0.103</td>\n      <td>305.489</td>\n      <td>...</td>\n      <td>-7.752</td>\n      <td>-2.072</td>\n      <td>-0.007</td>\n      <td>-0.019</td>\n      <td>10.125</td>\n      <td>2.376</td>\n      <td>-2.042</td>\n      <td>0.027</td>\n      <td>-0.001</td>\n      <td>-0.418</td>\n    </tr>\n    <tr>\n      <th>409</th>\n      <td>8.994</td>\n      <td>980.793</td>\n      <td>0.0</td>\n      <td>92.324</td>\n      <td>244.227</td>\n      <td>3.599</td>\n      <td>-0.941</td>\n      <td>-1.343</td>\n      <td>0.475</td>\n      <td>274.657</td>\n      <td>...</td>\n      <td>-1.274</td>\n      <td>-0.950</td>\n      <td>-0.196</td>\n      <td>-0.053</td>\n      <td>3.340</td>\n      <td>1.340</td>\n      <td>-1.493</td>\n      <td>0.025</td>\n      <td>0.000</td>\n      <td>-0.354</td>\n    </tr>\n    <tr>\n      <th>...</th>\n      <td>...</td>\n      <td>...</td>\n      <td>...</td>\n      <td>...</td>\n      <td>...</td>\n      <td>...</td>\n      <td>...</td>\n      <td>...</td>\n      <td>...</td>\n      <td>...</td>\n      <td>...</td>\n      <td>...</td>\n      <td>...</td>\n      <td>...</td>\n      <td>...</td>\n      <td>...</td>\n      <td>...</td>\n      <td>...</td>\n      <td>...</td>\n      <td>...</td>\n      <td>...</td>\n    </tr>\n    <tr>\n      <th>244</th>\n      <td>11.973</td>\n      <td>1003.873</td>\n      <td>0.0</td>\n      <td>95.989</td>\n      <td>260.565</td>\n      <td>2.727</td>\n      <td>-0.329</td>\n      <td>-0.390</td>\n      <td>-0.177</td>\n      <td>368.473</td>\n      <td>...</td>\n      <td>-0.198</td>\n      <td>-1.974</td>\n      <td>-0.004</td>\n      <td>-0.064</td>\n      <td>0.786</td>\n      <td>2.291</td>\n      <td>-0.022</td>\n      <td>0.008</td>\n      <td>-0.005</td>\n      <td>-0.395</td>\n    </tr>\n    <tr>\n      <th>210</th>\n      <td>8.981</td>\n      <td>980.178</td>\n      <td>0.0</td>\n      <td>93.478</td>\n      <td>236.877</td>\n      <td>3.002</td>\n      <td>-1.109</td>\n      <td>-1.249</td>\n      <td>-0.415</td>\n      <td>269.589</td>\n      <td>...</td>\n      <td>-1.293</td>\n      <td>-1.865</td>\n      <td>-0.200</td>\n      <td>-0.026</td>\n      <td>2.075</td>\n      <td>2.238</td>\n      <td>-0.022</td>\n      <td>0.008</td>\n      <td>-0.005</td>\n      <td>-0.502</td>\n    </tr>\n    <tr>\n      <th>225</th>\n      <td>2.029</td>\n      <td>985.750</td>\n      <td>0.0</td>\n      <td>90.118</td>\n      <td>19.370</td>\n      <td>2.041</td>\n      <td>-0.461</td>\n      <td>-0.481</td>\n      <td>-0.103</td>\n      <td>287.682</td>\n      <td>...</td>\n      <td>-1.864</td>\n      <td>-1.971</td>\n      <td>-0.004</td>\n      <td>-0.076</td>\n      <td>2.263</td>\n      <td>2.493</td>\n      <td>-0.022</td>\n      <td>0.009</td>\n      <td>-0.042</td>\n      <td>-0.583</td>\n    </tr>\n    <tr>\n      <th>180</th>\n      <td>10.227</td>\n      <td>1003.284</td>\n      <td>0.0</td>\n      <td>68.071</td>\n      <td>108.445</td>\n      <td>2.003</td>\n      <td>-1.110</td>\n      <td>-1.293</td>\n      <td>-0.440</td>\n      <td>272.149</td>\n      <td>...</td>\n      <td>-0.803</td>\n      <td>-0.721</td>\n      <td>-0.006</td>\n      <td>-0.027</td>\n      <td>1.335</td>\n      <td>1.082</td>\n      <td>-0.022</td>\n      <td>-0.045</td>\n      <td>-0.005</td>\n      <td>-0.365</td>\n    </tr>\n    <tr>\n      <th>284</th>\n      <td>9.383</td>\n      <td>988.847</td>\n      <td>0.0</td>\n      <td>96.858</td>\n      <td>235.719</td>\n      <td>2.186</td>\n      <td>-0.749</td>\n      <td>-1.009</td>\n      <td>-0.313</td>\n      <td>287.545</td>\n      <td>...</td>\n      <td>-0.776</td>\n      <td>-0.868</td>\n      <td>-0.004</td>\n      <td>-0.026</td>\n      <td>1.274</td>\n      <td>1.109</td>\n      <td>-0.033</td>\n      <td>0.008</td>\n      <td>-0.005</td>\n      <td>-0.264</td>\n    </tr>\n  </tbody>\n</table>\n<p>135 rows × 4536 columns</p>\n</div>"
     },
     "execution_count": 14,
     "metadata": {},
     "output_type": "execute_result"
    }
   ],
   "source": [
    "X_test"
   ],
   "metadata": {
    "collapsed": false,
    "ExecuteTime": {
     "end_time": "2024-02-13T23:45:21.070283100Z",
     "start_time": "2024-02-13T23:45:21.059615600Z"
    }
   },
   "id": "5886f270a5fe3bd",
   "execution_count": 14
  },
  {
   "cell_type": "code",
   "outputs": [],
   "source": [],
   "metadata": {
    "collapsed": false
   },
   "id": "7fcb835256bbe416"
  }
 ],
 "metadata": {
  "kernelspec": {
   "display_name": "Python 3",
   "language": "python",
   "name": "python3"
  },
  "language_info": {
   "codemirror_mode": {
    "name": "ipython",
    "version": 2
   },
   "file_extension": ".py",
   "mimetype": "text/x-python",
   "name": "python",
   "nbconvert_exporter": "python",
   "pygments_lexer": "ipython2",
   "version": "2.7.6"
  }
 },
 "nbformat": 4,
 "nbformat_minor": 5
}
