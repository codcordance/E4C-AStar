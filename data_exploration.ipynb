{
 "cells": [
  {
   "cell_type": "code",
   "execution_count": 7,
   "id": "initial_id",
   "metadata": {
    "collapsed": true,
    "ExecuteTime": {
     "end_time": "2024-02-10T16:19:51.457100Z",
     "start_time": "2024-02-10T16:19:51.449041Z"
    }
   },
   "outputs": [],
   "source": [
    "import pandas as pd\n",
    "import numpy as np"
   ]
  },
  {
   "cell_type": "code",
   "outputs": [],
   "source": [
    "hourly_data_path = 'students_drahi_production_consumption_hourly.csv'\n",
    "hourly_data = pd.read_csv(hourly_data_path)"
   ],
   "metadata": {
    "collapsed": false,
    "ExecuteTime": {
     "end_time": "2024-02-10T16:17:13.289420500Z",
     "start_time": "2024-02-10T16:17:13.244275600Z"
    }
   },
   "id": "66b802d563a11c23",
   "execution_count": 2
  },
  {
   "cell_type": "code",
   "outputs": [
    {
     "data": {
      "text/plain": "                        datetime  AirTemp      pres   rain      rh       wd  \\\n0      2022-01-01 00:00:00+00:00   10.279  1005.058  0.000  95.870  187.576   \n1      2022-01-01 01:00:00+00:00   10.318  1004.790  0.000  95.335  218.280   \n2      2022-01-01 02:00:00+00:00    9.901  1004.791  0.013  95.699  185.351   \n3      2022-01-01 03:00:00+00:00    9.444  1004.554  0.000  95.881  193.537   \n4      2022-01-01 04:00:00+00:00    8.587  1004.524  0.000  96.738  174.806   \n...                          ...      ...       ...    ...     ...      ...   \n17515  2023-12-31 19:00:00+00:00    7.523   983.610  0.000  77.079  248.157   \n17516  2023-12-31 20:00:00+00:00    7.021   984.488  0.000  81.753  246.199   \n17517  2023-12-31 21:00:00+00:00    6.746   984.980  0.000  83.942  245.813   \n17518  2023-12-31 22:00:00+00:00    6.703   985.161  0.000  83.873  241.623   \n17519  2023-12-31 23:00:00+00:00    6.574   985.901  0.000  82.309  251.971   \n\n          ws  Global_Solar_Flux  Diffuse_Solar_Flux  Direct_Solar_Flux  ...  \\\n0      1.758             -0.271              -0.370             -0.110  ...   \n1      2.401             -0.371              -0.499             -0.231  ...   \n2      1.821             -0.846              -0.999             -0.235  ...   \n3      1.760             -0.632              -0.755             -0.173  ...   \n4      1.613             -0.395              -0.489             -0.110  ...   \n...      ...                ...                 ...                ...  ...   \n17515  5.871             -1.114              -1.283             -0.246  ...   \n17516  5.223             -1.130              -1.270              0.178  ...   \n17517  4.572             -0.944              -1.041              0.281  ...   \n17518  4.568             -0.935              -1.029              0.203  ...   \n17519  4.799             -1.157              -1.273              0.051  ...   \n\n       kw_heatingcoolingtotal_zone1  kw_heatingcoolingtotal_zone2  \\\n0                            -1.798                        -2.037   \n1                            -1.794                        -2.170   \n2                            -1.795                        -2.202   \n3                            -1.811                        -2.238   \n4                            -1.814                        -2.287   \n...                             ...                           ...   \n17515                        -1.058                        -1.896   \n17516                        -1.070                        -1.886   \n17517                        -7.507                        -1.890   \n17518                        -3.758                        -1.868   \n17519                        -3.758                        -1.868   \n\n       kw_lights_zone1  kw_lights_zone2  kw_total_zone1  kw_total_zone2  \\\n0               -0.002           -0.222           2.091           2.308   \n1               -0.002           -0.278           2.086           2.504   \n2               -0.002           -0.238           2.085           2.501   \n3               -0.002           -0.240           2.100           2.539   \n4               -0.002           -0.280           2.102           2.952   \n...                ...              ...             ...             ...   \n17515           -0.130           -0.031           1.659           2.058   \n17516           -0.121           -0.019           1.661           2.038   \n17517           -0.120           -0.019           8.045           2.049   \n17518           -0.120           -0.019           4.361           2.021   \n17519           -0.120           -0.019           4.361           2.021   \n\n       kw_ventilation_zone1  kw_ventilation_zone2  kw_water_heater_zone2  \\\n0                    -0.027                -0.030                 -0.004   \n1                    -0.027                -0.044                 -0.004   \n2                    -0.026                -0.043                 -0.004   \n3                    -0.026                -0.044                 -0.004   \n4                    -0.027                -0.044                 -0.356   \n...                     ...                   ...                    ...   \n17515                -0.031                -0.022                  0.000   \n17516                -0.031                -0.023                  0.000   \n17517                -0.031                -0.023                  0.000   \n17518                -0.031                -0.023                  0.000   \n17519                -0.031                -0.023                  0.000   \n\n       plugs_zone2  \n0           -0.156  \n1           -0.157  \n2           -0.157  \n3           -0.157  \n4           -0.156  \n...            ...  \n17515       -0.206  \n17516       -0.206  \n17517       -0.215  \n17518       -0.207  \n17519       -0.207  \n\n[17520 rows x 28 columns]",
      "text/html": "<div>\n<style scoped>\n    .dataframe tbody tr th:only-of-type {\n        vertical-align: middle;\n    }\n\n    .dataframe tbody tr th {\n        vertical-align: top;\n    }\n\n    .dataframe thead th {\n        text-align: right;\n    }\n</style>\n<table border=\"1\" class=\"dataframe\">\n  <thead>\n    <tr style=\"text-align: right;\">\n      <th></th>\n      <th>datetime</th>\n      <th>AirTemp</th>\n      <th>pres</th>\n      <th>rain</th>\n      <th>rh</th>\n      <th>wd</th>\n      <th>ws</th>\n      <th>Global_Solar_Flux</th>\n      <th>Diffuse_Solar_Flux</th>\n      <th>Direct_Solar_Flux</th>\n      <th>...</th>\n      <th>kw_heatingcoolingtotal_zone1</th>\n      <th>kw_heatingcoolingtotal_zone2</th>\n      <th>kw_lights_zone1</th>\n      <th>kw_lights_zone2</th>\n      <th>kw_total_zone1</th>\n      <th>kw_total_zone2</th>\n      <th>kw_ventilation_zone1</th>\n      <th>kw_ventilation_zone2</th>\n      <th>kw_water_heater_zone2</th>\n      <th>plugs_zone2</th>\n    </tr>\n  </thead>\n  <tbody>\n    <tr>\n      <th>0</th>\n      <td>2022-01-01 00:00:00+00:00</td>\n      <td>10.279</td>\n      <td>1005.058</td>\n      <td>0.000</td>\n      <td>95.870</td>\n      <td>187.576</td>\n      <td>1.758</td>\n      <td>-0.271</td>\n      <td>-0.370</td>\n      <td>-0.110</td>\n      <td>...</td>\n      <td>-1.798</td>\n      <td>-2.037</td>\n      <td>-0.002</td>\n      <td>-0.222</td>\n      <td>2.091</td>\n      <td>2.308</td>\n      <td>-0.027</td>\n      <td>-0.030</td>\n      <td>-0.004</td>\n      <td>-0.156</td>\n    </tr>\n    <tr>\n      <th>1</th>\n      <td>2022-01-01 01:00:00+00:00</td>\n      <td>10.318</td>\n      <td>1004.790</td>\n      <td>0.000</td>\n      <td>95.335</td>\n      <td>218.280</td>\n      <td>2.401</td>\n      <td>-0.371</td>\n      <td>-0.499</td>\n      <td>-0.231</td>\n      <td>...</td>\n      <td>-1.794</td>\n      <td>-2.170</td>\n      <td>-0.002</td>\n      <td>-0.278</td>\n      <td>2.086</td>\n      <td>2.504</td>\n      <td>-0.027</td>\n      <td>-0.044</td>\n      <td>-0.004</td>\n      <td>-0.157</td>\n    </tr>\n    <tr>\n      <th>2</th>\n      <td>2022-01-01 02:00:00+00:00</td>\n      <td>9.901</td>\n      <td>1004.791</td>\n      <td>0.013</td>\n      <td>95.699</td>\n      <td>185.351</td>\n      <td>1.821</td>\n      <td>-0.846</td>\n      <td>-0.999</td>\n      <td>-0.235</td>\n      <td>...</td>\n      <td>-1.795</td>\n      <td>-2.202</td>\n      <td>-0.002</td>\n      <td>-0.238</td>\n      <td>2.085</td>\n      <td>2.501</td>\n      <td>-0.026</td>\n      <td>-0.043</td>\n      <td>-0.004</td>\n      <td>-0.157</td>\n    </tr>\n    <tr>\n      <th>3</th>\n      <td>2022-01-01 03:00:00+00:00</td>\n      <td>9.444</td>\n      <td>1004.554</td>\n      <td>0.000</td>\n      <td>95.881</td>\n      <td>193.537</td>\n      <td>1.760</td>\n      <td>-0.632</td>\n      <td>-0.755</td>\n      <td>-0.173</td>\n      <td>...</td>\n      <td>-1.811</td>\n      <td>-2.238</td>\n      <td>-0.002</td>\n      <td>-0.240</td>\n      <td>2.100</td>\n      <td>2.539</td>\n      <td>-0.026</td>\n      <td>-0.044</td>\n      <td>-0.004</td>\n      <td>-0.157</td>\n    </tr>\n    <tr>\n      <th>4</th>\n      <td>2022-01-01 04:00:00+00:00</td>\n      <td>8.587</td>\n      <td>1004.524</td>\n      <td>0.000</td>\n      <td>96.738</td>\n      <td>174.806</td>\n      <td>1.613</td>\n      <td>-0.395</td>\n      <td>-0.489</td>\n      <td>-0.110</td>\n      <td>...</td>\n      <td>-1.814</td>\n      <td>-2.287</td>\n      <td>-0.002</td>\n      <td>-0.280</td>\n      <td>2.102</td>\n      <td>2.952</td>\n      <td>-0.027</td>\n      <td>-0.044</td>\n      <td>-0.356</td>\n      <td>-0.156</td>\n    </tr>\n    <tr>\n      <th>...</th>\n      <td>...</td>\n      <td>...</td>\n      <td>...</td>\n      <td>...</td>\n      <td>...</td>\n      <td>...</td>\n      <td>...</td>\n      <td>...</td>\n      <td>...</td>\n      <td>...</td>\n      <td>...</td>\n      <td>...</td>\n      <td>...</td>\n      <td>...</td>\n      <td>...</td>\n      <td>...</td>\n      <td>...</td>\n      <td>...</td>\n      <td>...</td>\n      <td>...</td>\n      <td>...</td>\n    </tr>\n    <tr>\n      <th>17515</th>\n      <td>2023-12-31 19:00:00+00:00</td>\n      <td>7.523</td>\n      <td>983.610</td>\n      <td>0.000</td>\n      <td>77.079</td>\n      <td>248.157</td>\n      <td>5.871</td>\n      <td>-1.114</td>\n      <td>-1.283</td>\n      <td>-0.246</td>\n      <td>...</td>\n      <td>-1.058</td>\n      <td>-1.896</td>\n      <td>-0.130</td>\n      <td>-0.031</td>\n      <td>1.659</td>\n      <td>2.058</td>\n      <td>-0.031</td>\n      <td>-0.022</td>\n      <td>0.000</td>\n      <td>-0.206</td>\n    </tr>\n    <tr>\n      <th>17516</th>\n      <td>2023-12-31 20:00:00+00:00</td>\n      <td>7.021</td>\n      <td>984.488</td>\n      <td>0.000</td>\n      <td>81.753</td>\n      <td>246.199</td>\n      <td>5.223</td>\n      <td>-1.130</td>\n      <td>-1.270</td>\n      <td>0.178</td>\n      <td>...</td>\n      <td>-1.070</td>\n      <td>-1.886</td>\n      <td>-0.121</td>\n      <td>-0.019</td>\n      <td>1.661</td>\n      <td>2.038</td>\n      <td>-0.031</td>\n      <td>-0.023</td>\n      <td>0.000</td>\n      <td>-0.206</td>\n    </tr>\n    <tr>\n      <th>17517</th>\n      <td>2023-12-31 21:00:00+00:00</td>\n      <td>6.746</td>\n      <td>984.980</td>\n      <td>0.000</td>\n      <td>83.942</td>\n      <td>245.813</td>\n      <td>4.572</td>\n      <td>-0.944</td>\n      <td>-1.041</td>\n      <td>0.281</td>\n      <td>...</td>\n      <td>-7.507</td>\n      <td>-1.890</td>\n      <td>-0.120</td>\n      <td>-0.019</td>\n      <td>8.045</td>\n      <td>2.049</td>\n      <td>-0.031</td>\n      <td>-0.023</td>\n      <td>0.000</td>\n      <td>-0.215</td>\n    </tr>\n    <tr>\n      <th>17518</th>\n      <td>2023-12-31 22:00:00+00:00</td>\n      <td>6.703</td>\n      <td>985.161</td>\n      <td>0.000</td>\n      <td>83.873</td>\n      <td>241.623</td>\n      <td>4.568</td>\n      <td>-0.935</td>\n      <td>-1.029</td>\n      <td>0.203</td>\n      <td>...</td>\n      <td>-3.758</td>\n      <td>-1.868</td>\n      <td>-0.120</td>\n      <td>-0.019</td>\n      <td>4.361</td>\n      <td>2.021</td>\n      <td>-0.031</td>\n      <td>-0.023</td>\n      <td>0.000</td>\n      <td>-0.207</td>\n    </tr>\n    <tr>\n      <th>17519</th>\n      <td>2023-12-31 23:00:00+00:00</td>\n      <td>6.574</td>\n      <td>985.901</td>\n      <td>0.000</td>\n      <td>82.309</td>\n      <td>251.971</td>\n      <td>4.799</td>\n      <td>-1.157</td>\n      <td>-1.273</td>\n      <td>0.051</td>\n      <td>...</td>\n      <td>-3.758</td>\n      <td>-1.868</td>\n      <td>-0.120</td>\n      <td>-0.019</td>\n      <td>4.361</td>\n      <td>2.021</td>\n      <td>-0.031</td>\n      <td>-0.023</td>\n      <td>0.000</td>\n      <td>-0.207</td>\n    </tr>\n  </tbody>\n</table>\n<p>17520 rows × 28 columns</p>\n</div>"
     },
     "execution_count": 3,
     "metadata": {},
     "output_type": "execute_result"
    }
   ],
   "source": [
    "hourly_data"
   ],
   "metadata": {
    "collapsed": false,
    "ExecuteTime": {
     "end_time": "2024-02-10T16:17:17.628259400Z",
     "start_time": "2024-02-10T16:17:17.558786700Z"
    }
   },
   "id": "8e0d3242346352e1",
   "execution_count": 3
  },
  {
   "cell_type": "code",
   "outputs": [
    {
     "data": {
      "text/plain": "array(['2022-01-01T00:00:00', '2022-01-01T01:00:00',\n       '2022-01-01T02:00:00', ..., '2023-12-31T21:00:00',\n       '2023-12-31T22:00:00', '2023-12-31T23:00:00'],\n      dtype='datetime64[s]')"
     },
     "execution_count": 65,
     "metadata": {},
     "output_type": "execute_result"
    }
   ],
   "source": [
    "time = pd.to_datetime(hourly_data['datetime']).values.astype('datetime64[s]')\n",
    "time"
   ],
   "metadata": {
    "collapsed": false,
    "ExecuteTime": {
     "end_time": "2024-02-10T17:03:47.941432200Z",
     "start_time": "2024-02-10T17:03:47.888704100Z"
    }
   },
   "id": "b59972f2ba38eb27",
   "execution_count": 65
  },
  {
   "cell_type": "code",
   "outputs": [
    {
     "data": {
      "text/plain": "array([2.308, 2.504, 2.501, ..., 2.049, 2.021, 2.021])"
     },
     "execution_count": 67,
     "metadata": {},
     "output_type": "execute_result"
    }
   ],
   "source": [
    "power_consumption = hourly_data['kw_total_zone2'].values\n",
    "power_consumption"
   ],
   "metadata": {
    "collapsed": false,
    "ExecuteTime": {
     "end_time": "2024-02-10T17:04:21.746927900Z",
     "start_time": "2024-02-10T17:04:21.742594800Z"
    }
   },
   "id": "b0f7eccf0e9705d5",
   "execution_count": 67
  },
  {
   "cell_type": "code",
   "outputs": [],
   "source": [
    "dec = [] # daily energy consumption\n",
    "t_dec = []"
   ],
   "metadata": {
    "collapsed": false,
    "ExecuteTime": {
     "end_time": "2024-02-10T18:38:50.306154800Z",
     "start_time": "2024-02-10T18:38:50.302653600Z"
    }
   },
   "id": "282641d36ce2e436",
   "execution_count": 71
  },
  {
   "cell_type": "code",
   "outputs": [],
   "source": [
    "for ti, t in enumerate(time):\n",
    "    tmp_t = pd.Timestamp(t)\n",
    "\n",
    "    if np.isclose(tmp_t.hour, 0) and np.isclose(tmp_t.minute, 0):\n",
    "\n",
    "        day_end = np.datetime64(tmp_t + pd.Timedelta(days=1))\n",
    "        ind = np.where((time > tmp_t) & (time < day_end), True, False)\n",
    "\n",
    "        if len(time[ind]) > 0 and not np.isnan(power_consumption[ind]).any():\n",
    "            t_dec.append(np.datetime64(tmp_t).astype('datetime64[s]'))\n",
    "            dec.append(np.trapz(power_consumption[ind], time[ind].astype(int))/3600)"
   ],
   "metadata": {
    "collapsed": false,
    "ExecuteTime": {
     "end_time": "2024-02-10T18:38:52.016765400Z",
     "start_time": "2024-02-10T18:38:51.317792200Z"
    }
   },
   "id": "7e362c127382f39b",
   "execution_count": 72
  },
  {
   "cell_type": "code",
   "outputs": [
    {
     "data": {
      "text/plain": "array([[datetime.datetime(2022, 1, 1, 0, 0), 58.144000000000005],\n       [datetime.datetime(2022, 1, 2, 0, 0), 58.63750000000001],\n       [datetime.datetime(2022, 1, 3, 0, 0), 82.622],\n       ...,\n       [datetime.datetime(2023, 12, 29, 0, 0), 67.7715],\n       [datetime.datetime(2023, 12, 30, 0, 0), 58.11099999999999],\n       [datetime.datetime(2023, 12, 31, 0, 0), 63.33]], dtype=object)"
     },
     "execution_count": 80,
     "metadata": {},
     "output_type": "execute_result"
    }
   ],
   "source": [
    "t_dec = np.array(t_dec)\n",
    "dec = np.array(dec)\n",
    "\n",
    "np.array([t_dec, dec]).T"
   ],
   "metadata": {
    "collapsed": false,
    "ExecuteTime": {
     "end_time": "2024-02-10T18:40:33.812756Z",
     "start_time": "2024-02-10T18:40:33.808255900Z"
    }
   },
   "id": "2b6e184d65a32914",
   "execution_count": 80
  },
  {
   "cell_type": "code",
   "outputs": [],
   "source": [
    "N = 7 # N days of predictors beforehand\n",
    "final_ind = []\n",
    "final_hourly = []\n",
    "\n",
    "predictor_window = pd.Timedelta(days=N)"
   ],
   "metadata": {
    "collapsed": false,
    "ExecuteTime": {
     "end_time": "2024-02-10T18:45:38.030867900Z",
     "start_time": "2024-02-10T18:45:38.025735400Z"
    }
   },
   "id": "bad8369a49aed0c",
   "execution_count": 93
  },
  {
   "cell_type": "code",
   "outputs": [],
   "source": [
    "for ti, t in enumerate(t_dec):\n",
    "    tmp_t = pd.Timestamp(t)\n",
    "\n",
    "    ind = np.where((time >= tmp_t - predictor_window) & (time < tmp_t), True, False) # finding indices within the N prior days\n",
    "\n",
    "    bad_ind = np.isnan(hourly_data.iloc[ind, 1::].values)\n",
    "    if len(time[ind]) >= 24 * N and not bad_ind.any(): # rejecting any data with NaNs; useful for the student dataset\n",
    "        final_ind.append(ti)\n",
    "        final_hourly.append(hourly_data.iloc[ind, 1::].values)"
   ],
   "metadata": {
    "collapsed": false,
    "ExecuteTime": {
     "end_time": "2024-02-10T19:03:56.547270400Z",
     "start_time": "2024-02-10T19:03:56.305358500Z"
    }
   },
   "id": "83c59c69c6a4a496",
   "execution_count": 120
  },
  {
   "cell_type": "code",
   "outputs": [],
   "source": [
    "target_time = t_dec[final_ind]\n",
    "targets = dec[final_ind]\n",
    "predictors = np.array(final_hourly)"
   ],
   "metadata": {
    "collapsed": false,
    "ExecuteTime": {
     "end_time": "2024-02-10T19:04:06.270998500Z",
     "start_time": "2024-02-10T19:04:06.262093100Z"
    }
   },
   "id": "101b5fe7036f0b24",
   "execution_count": 122
  },
  {
   "cell_type": "code",
   "outputs": [
    {
     "data": {
      "text/plain": "array([[datetime.datetime(2022, 1, 8, 0, 0), 45.964000000000006],\n       [datetime.datetime(2022, 1, 9, 0, 0), 57.75049999999999],\n       [datetime.datetime(2022, 1, 10, 0, 0), 111.27949999999998],\n       [datetime.datetime(2022, 1, 11, 0, 0), 96.05150000000002],\n       [datetime.datetime(2022, 1, 12, 0, 0), 101.8965],\n       [datetime.datetime(2022, 1, 13, 0, 0), 99.7285],\n       [datetime.datetime(2022, 1, 14, 0, 0), 94.511],\n       [datetime.datetime(2022, 1, 15, 0, 0), 57.508],\n       [datetime.datetime(2022, 1, 24, 0, 0), 136.92149999999998],\n       [datetime.datetime(2022, 1, 25, 0, 0), 153.89149999999998],\n       [datetime.datetime(2022, 1, 26, 0, 0), 133.4875],\n       [datetime.datetime(2022, 1, 27, 0, 0), 135.09600000000003],\n       [datetime.datetime(2022, 1, 28, 0, 0), 117.304],\n       [datetime.datetime(2022, 1, 29, 0, 0), 84.843],\n       [datetime.datetime(2022, 1, 30, 0, 0), 83.34049999999999],\n       [datetime.datetime(2022, 1, 31, 0, 0), 131.41649999999998],\n       [datetime.datetime(2022, 2, 1, 0, 0), 114.0025],\n       [datetime.datetime(2022, 2, 2, 0, 0), 106.86600000000001],\n       [datetime.datetime(2022, 2, 3, 0, 0), 111.908],\n       [datetime.datetime(2022, 2, 4, 0, 0), 120.7865],\n       [datetime.datetime(2022, 2, 5, 0, 0), 87.6235],\n       [datetime.datetime(2022, 2, 6, 0, 0), 80.33050000000001],\n       [datetime.datetime(2022, 2, 7, 0, 0), 128.498],\n       [datetime.datetime(2022, 2, 8, 0, 0), 112.13699999999999],\n       [datetime.datetime(2022, 2, 9, 0, 0), 103.40249999999999],\n       [datetime.datetime(2022, 2, 10, 0, 0), 112.53550000000001],\n       [datetime.datetime(2022, 2, 19, 0, 0), 85.2775],\n       [datetime.datetime(2022, 2, 20, 0, 0), 72.92],\n       [datetime.datetime(2022, 2, 21, 0, 0), 129.1965],\n       [datetime.datetime(2022, 2, 22, 0, 0), 117.62650000000001],\n       [datetime.datetime(2022, 2, 23, 0, 0), 100.132],\n       [datetime.datetime(2022, 2, 24, 0, 0), 46.6155],\n       [datetime.datetime(2022, 2, 25, 0, 0), 0.0],\n       [datetime.datetime(2022, 2, 26, 0, 0), 0.0],\n       [datetime.datetime(2022, 2, 27, 0, 0), 0.0],\n       [datetime.datetime(2022, 2, 28, 0, 0), 0.0],\n       [datetime.datetime(2022, 3, 1, 0, 0), 69.1785],\n       [datetime.datetime(2022, 3, 2, 0, 0), 113.221],\n       [datetime.datetime(2022, 3, 3, 0, 0), 121.54599999999999],\n       [datetime.datetime(2022, 3, 4, 0, 0), 119.482],\n       [datetime.datetime(2022, 3, 5, 0, 0), 96.725],\n       [datetime.datetime(2022, 3, 6, 0, 0), 100.51299999999999],\n       [datetime.datetime(2022, 3, 7, 0, 0), 133.441],\n       [datetime.datetime(2022, 3, 8, 0, 0), 137.3975],\n       [datetime.datetime(2022, 3, 9, 0, 0), 128.049],\n       [datetime.datetime(2022, 3, 10, 0, 0), 106.47150000000002],\n       [datetime.datetime(2022, 3, 11, 0, 0), 104.6025],\n       [datetime.datetime(2022, 3, 12, 0, 0), 77.0],\n       [datetime.datetime(2022, 3, 13, 0, 0), 79.916],\n       [datetime.datetime(2022, 3, 14, 0, 0), 136.41049999999996],\n       [datetime.datetime(2022, 3, 15, 0, 0), 113.67],\n       [datetime.datetime(2022, 3, 16, 0, 0), 115.55049999999999],\n       [datetime.datetime(2022, 3, 17, 0, 0), 117.45449999999997],\n       [datetime.datetime(2022, 3, 18, 0, 0), 108.75250000000001],\n       [datetime.datetime(2022, 3, 19, 0, 0), 77.9595],\n       [datetime.datetime(2022, 3, 20, 0, 0), 88.59049999999999],\n       [datetime.datetime(2022, 3, 29, 0, 0), 100.63999999999999],\n       [datetime.datetime(2022, 3, 30, 0, 0), 99.64999999999998],\n       [datetime.datetime(2022, 3, 31, 0, 0), 146.777],\n       [datetime.datetime(2022, 4, 1, 0, 0), 168.554],\n       [datetime.datetime(2022, 4, 2, 0, 0), 94.03700000000002],\n       [datetime.datetime(2022, 4, 3, 0, 0), 96.7305],\n       [datetime.datetime(2022, 4, 4, 0, 0), 134.10150000000002],\n       [datetime.datetime(2022, 4, 5, 0, 0), 104.7505],\n       [datetime.datetime(2022, 4, 6, 0, 0), 115.0815],\n       [datetime.datetime(2022, 4, 25, 0, 0), 88.48400000000001],\n       [datetime.datetime(2022, 4, 26, 0, 0), 89.022],\n       [datetime.datetime(2022, 4, 27, 0, 0), 83.22900000000001],\n       [datetime.datetime(2022, 4, 28, 0, 0), 81.938],\n       [datetime.datetime(2022, 4, 29, 0, 0), 75.5105],\n       [datetime.datetime(2022, 4, 30, 0, 0), 77.27850000000001],\n       [datetime.datetime(2022, 5, 1, 0, 0), 79.5895],\n       [datetime.datetime(2022, 5, 2, 0, 0), 83.11600000000001],\n       [datetime.datetime(2022, 5, 3, 0, 0), 97.2755],\n       [datetime.datetime(2022, 5, 4, 0, 0), 80.84499999999998],\n       [datetime.datetime(2022, 5, 5, 0, 0), 72.26849999999999],\n       [datetime.datetime(2022, 5, 6, 0, 0), 65.26],\n       [datetime.datetime(2022, 5, 7, 0, 0), 54.21250000000001],\n       [datetime.datetime(2022, 5, 8, 0, 0), 52.425],\n       [datetime.datetime(2022, 5, 9, 0, 0), 67.8485],\n       [datetime.datetime(2022, 5, 10, 0, 0), 50.544999999999995],\n       [datetime.datetime(2022, 5, 11, 0, 0), 45.8505],\n       [datetime.datetime(2022, 5, 12, 0, 0), 43.1095],\n       [datetime.datetime(2022, 5, 13, 0, 0), 40.32099999999999],\n       [datetime.datetime(2022, 5, 14, 0, 0), 30.271500000000003],\n       [datetime.datetime(2022, 5, 15, 0, 0), 27.625],\n       [datetime.datetime(2022, 5, 16, 0, 0), 36.243500000000004],\n       [datetime.datetime(2022, 5, 17, 0, 0), 45.219500000000004],\n       [datetime.datetime(2022, 5, 18, 0, 0), 47.458499999999994],\n       [datetime.datetime(2022, 5, 19, 0, 0), 41.46850000000001],\n       [datetime.datetime(2022, 5, 20, 0, 0), 32.5215],\n       [datetime.datetime(2022, 5, 21, 0, 0), 24.5575],\n       [datetime.datetime(2022, 5, 22, 0, 0), 23.619],\n       [datetime.datetime(2022, 5, 23, 0, 0), 40.9625],\n       [datetime.datetime(2022, 5, 24, 0, 0), 45.738499999999995],\n       [datetime.datetime(2022, 5, 25, 0, 0), 41.69450000000001],\n       [datetime.datetime(2022, 5, 26, 0, 0), 27.186500000000002],\n       [datetime.datetime(2022, 5, 27, 0, 0), 29.962],\n       [datetime.datetime(2022, 5, 28, 0, 0), 27.655500000000004],\n       [datetime.datetime(2022, 5, 29, 0, 0), 29.334000000000003],\n       [datetime.datetime(2022, 6, 18, 0, 0), 35.8065],\n       [datetime.datetime(2022, 6, 19, 0, 0), 30.314],\n       [datetime.datetime(2022, 6, 20, 0, 0), 43.837999999999994],\n       [datetime.datetime(2022, 6, 21, 0, 0), 45.9265],\n       [datetime.datetime(2022, 6, 22, 0, 0), 46.12500000000001],\n       [datetime.datetime(2022, 6, 23, 0, 0), 42.5745],\n       [datetime.datetime(2022, 6, 24, 0, 0), 39.86650000000001],\n       [datetime.datetime(2022, 6, 25, 0, 0), 30.54850000000001],\n       [datetime.datetime(2022, 6, 26, 0, 0), 29.302999999999997],\n       [datetime.datetime(2022, 6, 27, 0, 0), 41.062],\n       [datetime.datetime(2022, 6, 28, 0, 0), 43.576],\n       [datetime.datetime(2022, 6, 29, 0, 0), 46.640499999999996],\n       [datetime.datetime(2022, 6, 30, 0, 0), 51.176],\n       [datetime.datetime(2022, 7, 1, 0, 0), 42.5645],\n       [datetime.datetime(2022, 7, 2, 0, 0), 29.666999999999994],\n       [datetime.datetime(2022, 7, 3, 0, 0), 30.134500000000003],\n       [datetime.datetime(2022, 7, 4, 0, 0), 44.52949999999999],\n       [datetime.datetime(2022, 7, 5, 0, 0), 51.59550000000001],\n       [datetime.datetime(2022, 7, 6, 0, 0), 50.71249999999999],\n       [datetime.datetime(2022, 7, 7, 0, 0), 51.48500000000001],\n       [datetime.datetime(2022, 7, 8, 0, 0), 41.240500000000004],\n       [datetime.datetime(2022, 7, 9, 0, 0), 23.981500000000004],\n       [datetime.datetime(2022, 7, 10, 0, 0), 23.997999999999998],\n       [datetime.datetime(2022, 7, 11, 0, 0), 50.06600000000001],\n       [datetime.datetime(2022, 7, 12, 0, 0), 58.159],\n       [datetime.datetime(2022, 7, 13, 0, 0), 56.6905],\n       [datetime.datetime(2022, 7, 14, 0, 0), 43.109000000000016],\n       [datetime.datetime(2022, 7, 15, 0, 0), 36.776500000000006],\n       [datetime.datetime(2022, 7, 16, 0, 0), 25.332000000000004],\n       [datetime.datetime(2022, 7, 17, 0, 0), 25.880499999999998],\n       [datetime.datetime(2022, 7, 18, 0, 0), 55.834],\n       [datetime.datetime(2022, 7, 19, 0, 0), 68.23949999999999],\n       [datetime.datetime(2022, 7, 20, 0, 0), 47.1835],\n       [datetime.datetime(2022, 7, 21, 0, 0), 42.955],\n       [datetime.datetime(2022, 7, 22, 0, 0), 40.257],\n       [datetime.datetime(2022, 7, 31, 0, 0), 26.8965],\n       [datetime.datetime(2022, 8, 1, 0, 0), 45.429500000000004],\n       [datetime.datetime(2022, 8, 2, 0, 0), 54.54550000000001],\n       [datetime.datetime(2022, 8, 3, 0, 0), 55.2705],\n       [datetime.datetime(2022, 8, 4, 0, 0), 37.714],\n       [datetime.datetime(2022, 8, 5, 0, 0), 32.517500000000005],\n       [datetime.datetime(2022, 8, 6, 0, 0), 26.152499999999996],\n       [datetime.datetime(2022, 8, 7, 0, 0), 25.573500000000003],\n       [datetime.datetime(2022, 8, 8, 0, 0), 34.56249999999999],\n       [datetime.datetime(2022, 8, 9, 0, 0), 35.44800000000001],\n       [datetime.datetime(2022, 8, 10, 0, 0), 35.41199999999999],\n       [datetime.datetime(2022, 8, 11, 0, 0), 35.053999999999995],\n       [datetime.datetime(2022, 8, 12, 0, 0), 36.8225],\n       [datetime.datetime(2022, 8, 13, 0, 0), 26.056499999999993],\n       [datetime.datetime(2022, 8, 14, 0, 0), 26.7205],\n       [datetime.datetime(2022, 8, 15, 0, 0), 27.891500000000004],\n       [datetime.datetime(2022, 8, 24, 0, 0), 59.165000000000006],\n       [datetime.datetime(2022, 8, 25, 0, 0), 58.066],\n       [datetime.datetime(2022, 8, 26, 0, 0), 45.369499999999995],\n       [datetime.datetime(2022, 8, 27, 0, 0), 30.5245],\n       [datetime.datetime(2022, 8, 28, 0, 0), 28.7325],\n       [datetime.datetime(2022, 8, 29, 0, 0), 47.337],\n       [datetime.datetime(2022, 8, 30, 0, 0), 53.92050000000001],\n       [datetime.datetime(2022, 8, 31, 0, 0), 52.3425],\n       [datetime.datetime(2022, 9, 1, 0, 0), 48.356500000000004],\n       [datetime.datetime(2022, 9, 2, 0, 0), 40.4115],\n       [datetime.datetime(2022, 9, 3, 0, 0), 29.613500000000002],\n       [datetime.datetime(2022, 9, 4, 0, 0), 32.311],\n       [datetime.datetime(2022, 9, 5, 0, 0), 55.496500000000005],\n       [datetime.datetime(2022, 9, 14, 0, 0), 54.18900000000001],\n       [datetime.datetime(2022, 9, 15, 0, 0), 53.853500000000004],\n       [datetime.datetime(2022, 9, 16, 0, 0), 47.79450000000001],\n       [datetime.datetime(2022, 9, 17, 0, 0), 56.6065],\n       [datetime.datetime(2022, 9, 18, 0, 0), 65.58099999999999],\n       [datetime.datetime(2022, 9, 19, 0, 0), 59.721],\n       [datetime.datetime(2022, 9, 28, 0, 0), 47.265499999999996],\n       [datetime.datetime(2022, 9, 29, 0, 0), 33.737],\n       [datetime.datetime(2022, 9, 30, 0, 0), 26.134000000000004],\n       [datetime.datetime(2022, 10, 1, 0, 0), 23.9065],\n       [datetime.datetime(2022, 10, 2, 0, 0), 17.168],\n       [datetime.datetime(2022, 10, 3, 0, 0), 61.94700000000001],\n       [datetime.datetime(2022, 10, 12, 0, 0), 46.69400000000001],\n       [datetime.datetime(2022, 10, 13, 0, 0), 52.0595],\n       [datetime.datetime(2022, 10, 14, 0, 0), 53.98349999999999],\n       [datetime.datetime(2022, 10, 15, 0, 0), 25.870999999999995],\n       [datetime.datetime(2022, 10, 16, 0, 0), 24.716],\n       [datetime.datetime(2022, 10, 17, 0, 0), 46.7885],\n       [datetime.datetime(2022, 10, 18, 0, 0), 47.128],\n       [datetime.datetime(2022, 10, 19, 0, 0), 44.996],\n       [datetime.datetime(2022, 10, 20, 0, 0), 47.446000000000005],\n       [datetime.datetime(2022, 10, 21, 0, 0), 35.356500000000004],\n       [datetime.datetime(2022, 10, 22, 0, 0), 17.784],\n       [datetime.datetime(2022, 10, 23, 0, 0), 18.700999999999997],\n       [datetime.datetime(2022, 10, 24, 0, 0), 45.20799999999999],\n       [datetime.datetime(2022, 10, 25, 0, 0), 47.080000000000005],\n       [datetime.datetime(2022, 10, 26, 0, 0), 38.965500000000006],\n       [datetime.datetime(2022, 10, 27, 0, 0), 44.26400000000001],\n       [datetime.datetime(2022, 10, 28, 0, 0), 31.230500000000006],\n       [datetime.datetime(2022, 10, 29, 0, 0), 21.552499999999995],\n       [datetime.datetime(2022, 10, 30, 0, 0), 17.816333333333333],\n       [datetime.datetime(2022, 10, 31, 0, 0), 36.7765],\n       [datetime.datetime(2022, 11, 1, 0, 0), 32.316],\n       [datetime.datetime(2022, 11, 2, 0, 0), 56.37050000000001],\n       [datetime.datetime(2022, 11, 3, 0, 0), 58.464499999999994],\n       [datetime.datetime(2022, 11, 4, 0, 0), 51.9835],\n       [datetime.datetime(2022, 11, 5, 0, 0), 32.216],\n       [datetime.datetime(2022, 11, 6, 0, 0), 33.98049999999999],\n       [datetime.datetime(2022, 11, 7, 0, 0), 70.77449999999999],\n       [datetime.datetime(2022, 11, 8, 0, 0), 62.685],\n       [datetime.datetime(2022, 11, 9, 0, 0), 50.839],\n       [datetime.datetime(2022, 11, 10, 0, 0), 50.964],\n       [datetime.datetime(2022, 11, 11, 0, 0), 44.178999999999995],\n       [datetime.datetime(2022, 11, 12, 0, 0), 30.511999999999997],\n       [datetime.datetime(2022, 11, 13, 0, 0), 33.572],\n       [datetime.datetime(2022, 11, 22, 0, 0), 109.9425],\n       [datetime.datetime(2022, 11, 23, 0, 0), 102.75099999999999],\n       [datetime.datetime(2022, 11, 24, 0, 0), 95.614],\n       [datetime.datetime(2022, 11, 25, 0, 0), 73.29500000000002],\n       [datetime.datetime(2022, 12, 4, 0, 0), 65.676],\n       [datetime.datetime(2022, 12, 5, 0, 0), 126.66749999999999],\n       [datetime.datetime(2022, 12, 6, 0, 0), 120.88799999999999],\n       [datetime.datetime(2022, 12, 7, 0, 0), 109.47749999999998],\n       [datetime.datetime(2022, 12, 8, 0, 0), 109.527],\n       [datetime.datetime(2022, 12, 9, 0, 0), 120.88600000000001],\n       [datetime.datetime(2022, 12, 10, 0, 0), 72.571],\n       [datetime.datetime(2022, 12, 11, 0, 0), 90.74599999999998],\n       [datetime.datetime(2022, 12, 12, 0, 0), 134.7855],\n       [datetime.datetime(2022, 12, 13, 0, 0), 125.18549999999999],\n       [datetime.datetime(2022, 12, 14, 0, 0), 113.14950000000002],\n       [datetime.datetime(2022, 12, 15, 0, 0), 102.19800000000001],\n       [datetime.datetime(2022, 12, 16, 0, 0), 108.56249999999999],\n       [datetime.datetime(2022, 12, 17, 0, 0), 84.8235],\n       [datetime.datetime(2022, 12, 18, 0, 0), 110.4535],\n       [datetime.datetime(2022, 12, 19, 0, 0), 85.08649999999999],\n       [datetime.datetime(2022, 12, 20, 0, 0), 70.648],\n       [datetime.datetime(2022, 12, 21, 0, 0), 72.9465],\n       [datetime.datetime(2022, 12, 22, 0, 0), 70.63899999999998],\n       [datetime.datetime(2022, 12, 23, 0, 0), 67.134],\n       [datetime.datetime(2022, 12, 24, 0, 0), 58.204499999999996],\n       [datetime.datetime(2022, 12, 25, 0, 0), 54.434],\n       [datetime.datetime(2022, 12, 26, 0, 0), 67.15650000000001],\n       [datetime.datetime(2022, 12, 27, 0, 0), 77.60799999999998],\n       [datetime.datetime(2022, 12, 28, 0, 0), 63.688500000000005],\n       [datetime.datetime(2023, 1, 6, 0, 0), 74.537],\n       [datetime.datetime(2023, 1, 7, 0, 0), 55.411500000000004],\n       [datetime.datetime(2023, 1, 8, 0, 0), 59.209500000000006],\n       [datetime.datetime(2023, 1, 9, 0, 0), 93.51],\n       [datetime.datetime(2023, 1, 10, 0, 0), 93.92],\n       [datetime.datetime(2023, 1, 11, 0, 0), 78.16099999999999],\n       [datetime.datetime(2023, 1, 12, 0, 0), 77.8585],\n       [datetime.datetime(2023, 1, 21, 0, 0), 76.12699999999998],\n       [datetime.datetime(2023, 1, 22, 0, 0), 99.5735],\n       [datetime.datetime(2023, 1, 23, 0, 0), 106.843],\n       [datetime.datetime(2023, 1, 24, 0, 0), 110.58150000000002],\n       [datetime.datetime(2023, 1, 25, 0, 0), 110.056],\n       [datetime.datetime(2023, 1, 26, 0, 0), 117.614],\n       [datetime.datetime(2023, 1, 27, 0, 0), 88.4515],\n       [datetime.datetime(2023, 1, 28, 0, 0), 80.83499999999998],\n       [datetime.datetime(2023, 1, 29, 0, 0), 91.374],\n       [datetime.datetime(2023, 1, 30, 0, 0), 116.56050000000002],\n       [datetime.datetime(2023, 1, 31, 0, 0), 97.01550000000002],\n       [datetime.datetime(2023, 2, 1, 0, 0), 92.15050000000001],\n       [datetime.datetime(2023, 2, 2, 0, 0), 89.1675],\n       [datetime.datetime(2023, 2, 11, 0, 0), 51.239500000000014],\n       [datetime.datetime(2023, 2, 12, 0, 0), 54.526500000000006],\n       [datetime.datetime(2023, 2, 13, 0, 0), 100.088],\n       [datetime.datetime(2023, 2, 14, 0, 0), 88.36349999999999],\n       [datetime.datetime(2023, 2, 15, 0, 0), 91.09899999999999],\n       [datetime.datetime(2023, 2, 16, 0, 0), 79.1275],\n       [datetime.datetime(2023, 2, 17, 0, 0), 78.18950000000001],\n       [datetime.datetime(2023, 2, 18, 0, 0), 62.453],\n       [datetime.datetime(2023, 2, 19, 0, 0), 62.86600000000001],\n       [datetime.datetime(2023, 2, 20, 0, 0), 87.0965],\n       [datetime.datetime(2023, 2, 21, 0, 0), 82.60649999999997],\n       [datetime.datetime(2023, 2, 22, 0, 0), 78.0925],\n       [datetime.datetime(2023, 3, 3, 0, 0), 81.21650000000001],\n       [datetime.datetime(2023, 3, 4, 0, 0), 58.3575],\n       [datetime.datetime(2023, 3, 5, 0, 0), 64.289],\n       [datetime.datetime(2023, 3, 6, 0, 0), 95.23999999999998],\n       [datetime.datetime(2023, 3, 7, 0, 0), 86.175],\n       [datetime.datetime(2023, 3, 8, 0, 0), 72.2715],\n       [datetime.datetime(2023, 3, 9, 0, 0), 65.815],\n       [datetime.datetime(2023, 3, 18, 0, 0), 50.12100000000001],\n       [datetime.datetime(2023, 3, 19, 0, 0), 48.406],\n       [datetime.datetime(2023, 3, 20, 0, 0), 79.33200000000001],\n       [datetime.datetime(2023, 3, 21, 0, 0), 62.76599999999999],\n       [datetime.datetime(2023, 3, 22, 0, 0), 46.88750000000001],\n       [datetime.datetime(2023, 3, 23, 0, 0), 39.434499999999986],\n       [datetime.datetime(2023, 3, 24, 0, 0), 34.314],\n       [datetime.datetime(2023, 3, 25, 0, 0), 26.612000000000002],\n       [datetime.datetime(2023, 3, 26, 0, 0), 27.5215],\n       [datetime.datetime(2023, 3, 27, 0, 0), 62.0265],\n       [datetime.datetime(2023, 3, 28, 0, 0), 62.436499999999995],\n       [datetime.datetime(2023, 3, 29, 0, 0), 55.381],\n       [datetime.datetime(2023, 3, 30, 0, 0), 48.755],\n       [datetime.datetime(2023, 3, 31, 0, 0), 49.3155],\n       [datetime.datetime(2023, 4, 1, 0, 0), 36.5205],\n       [datetime.datetime(2023, 4, 10, 0, 0), 42.995999999999995],\n       [datetime.datetime(2023, 4, 11, 0, 0), 67.565],\n       [datetime.datetime(2023, 4, 26, 0, 0), 56.418499999999995],\n       [datetime.datetime(2023, 4, 27, 0, 0), 35.546499999999995],\n       [datetime.datetime(2023, 4, 28, 0, 0), 22.229499999999998],\n       [datetime.datetime(2023, 4, 29, 0, 0), 24.604499999999998],\n       [datetime.datetime(2023, 4, 30, 0, 0), 21.012],\n       [datetime.datetime(2023, 5, 9, 0, 0), 60.5365],\n       [datetime.datetime(2023, 5, 10, 0, 0), 57.580499999999994],\n       [datetime.datetime(2023, 5, 11, 0, 0), 46.645],\n       [datetime.datetime(2023, 5, 12, 0, 0), 50.59200000000001],\n       [datetime.datetime(2023, 5, 13, 0, 0), 41.066],\n       [datetime.datetime(2023, 5, 14, 0, 0), 35.704499999999996],\n       [datetime.datetime(2023, 5, 15, 0, 0), 53.94800000000001],\n       [datetime.datetime(2023, 5, 16, 0, 0), 51.19199999999999],\n       [datetime.datetime(2023, 5, 17, 0, 0), 48.31099999999999],\n       [datetime.datetime(2023, 5, 18, 0, 0), 37.2915],\n       [datetime.datetime(2023, 5, 19, 0, 0), 51.27000000000001],\n       [datetime.datetime(2023, 5, 20, 0, 0), 39.044500000000006],\n       [datetime.datetime(2023, 5, 29, 0, 0), 33.921499999999995],\n       [datetime.datetime(2023, 6, 15, 0, 0), 28.727499999999996],\n       [datetime.datetime(2023, 6, 16, 0, 0), 33.457],\n       [datetime.datetime(2023, 6, 17, 0, 0), 18.598499999999998],\n       [datetime.datetime(2023, 6, 18, 0, 0), 18.558500000000006],\n       [datetime.datetime(2023, 6, 19, 0, 0), 34.79750000000001],\n       [datetime.datetime(2023, 6, 20, 0, 0), 36.397000000000006],\n       [datetime.datetime(2023, 6, 21, 0, 0), 24.701500000000006],\n       [datetime.datetime(2023, 6, 22, 0, 0), 28.060500000000005],\n       [datetime.datetime(2023, 6, 23, 0, 0), 26.0415],\n       [datetime.datetime(2023, 6, 24, 0, 0), 14.872500000000002],\n       [datetime.datetime(2023, 6, 25, 0, 0), 18.9575],\n       [datetime.datetime(2023, 6, 26, 0, 0), 32.5995],\n       [datetime.datetime(2023, 6, 27, 0, 0), 37.43],\n       [datetime.datetime(2023, 6, 28, 0, 0), 31.758999999999997],\n       [datetime.datetime(2023, 6, 29, 0, 0), 26.832500000000003],\n       [datetime.datetime(2023, 6, 30, 0, 0), 17.7905],\n       [datetime.datetime(2023, 7, 1, 0, 0), 14.108999999999998],\n       [datetime.datetime(2023, 7, 2, 0, 0), 12.032499999999999],\n       [datetime.datetime(2023, 7, 3, 0, 0), 26.327499999999997],\n       [datetime.datetime(2023, 7, 4, 0, 0), 31.553500000000003],\n       [datetime.datetime(2023, 7, 5, 0, 0), 31.335],\n       [datetime.datetime(2023, 7, 6, 0, 0), 28.4015],\n       [datetime.datetime(2023, 7, 7, 0, 0), 15.761499999999998],\n       [datetime.datetime(2023, 7, 8, 0, 0), 18.433500000000002],\n       [datetime.datetime(2023, 7, 9, 0, 0), 15.765500000000003],\n       [datetime.datetime(2023, 7, 10, 0, 0), 29.31200000000001],\n       [datetime.datetime(2023, 7, 11, 0, 0), 38.78849999999999],\n       [datetime.datetime(2023, 7, 12, 0, 0), 34.045],\n       [datetime.datetime(2023, 7, 13, 0, 0), 30.684],\n       [datetime.datetime(2023, 7, 14, 0, 0), 16.6995],\n       [datetime.datetime(2023, 7, 15, 0, 0), 2.7375],\n       [datetime.datetime(2023, 7, 16, 0, 0), 0.0],\n       [datetime.datetime(2023, 7, 17, 0, 0), 18.681],\n       [datetime.datetime(2023, 7, 18, 0, 0), 28.779500000000002],\n       [datetime.datetime(2023, 7, 19, 0, 0), 48.389499999999984],\n       [datetime.datetime(2023, 7, 20, 0, 0), 54.57950000000001],\n       [datetime.datetime(2023, 7, 21, 0, 0), 53.496500000000005],\n       [datetime.datetime(2023, 7, 22, 0, 0), 39.523],\n       [datetime.datetime(2023, 7, 23, 0, 0), 39.570499999999996],\n       [datetime.datetime(2023, 8, 1, 0, 0), 49.4085],\n       [datetime.datetime(2023, 8, 2, 0, 0), 56.00099999999998],\n       [datetime.datetime(2023, 8, 3, 0, 0), 58.023],\n       [datetime.datetime(2023, 8, 4, 0, 0), 42.545],\n       [datetime.datetime(2023, 8, 5, 0, 0), 34.785],\n       [datetime.datetime(2023, 8, 6, 0, 0), 38.9475],\n       [datetime.datetime(2023, 8, 7, 0, 0), 36.4605],\n       [datetime.datetime(2023, 8, 8, 0, 0), 25.099499999999995],\n       [datetime.datetime(2023, 8, 9, 0, 0), 25.8455],\n       [datetime.datetime(2023, 8, 10, 0, 0), 20.779999999999998],\n       [datetime.datetime(2023, 8, 11, 0, 0), 22.925000000000004],\n       [datetime.datetime(2023, 8, 12, 0, 0), 16.404500000000002],\n       [datetime.datetime(2023, 8, 13, 0, 0), 15.764500000000004],\n       [datetime.datetime(2023, 8, 14, 0, 0), 18.665499999999998],\n       [datetime.datetime(2023, 8, 15, 0, 0), 19.223000000000003],\n       [datetime.datetime(2023, 8, 16, 0, 0), 26.331000000000003],\n       [datetime.datetime(2023, 8, 17, 0, 0), 26.963500000000003],\n       [datetime.datetime(2023, 8, 18, 0, 0), 28.6495],\n       [datetime.datetime(2023, 8, 19, 0, 0), 20.1495],\n       [datetime.datetime(2023, 8, 20, 0, 0), 20.645999999999997],\n       [datetime.datetime(2023, 8, 21, 0, 0), 30.882000000000005],\n       [datetime.datetime(2023, 8, 22, 0, 0), 32.759499999999996],\n       [datetime.datetime(2023, 8, 23, 0, 0), 33.899],\n       [datetime.datetime(2023, 8, 24, 0, 0), 30.78],\n       [datetime.datetime(2023, 8, 25, 0, 0), 21.0825],\n       [datetime.datetime(2023, 8, 26, 0, 0), 19.5325],\n       [datetime.datetime(2023, 8, 27, 0, 0), 18.9845],\n       [datetime.datetime(2023, 8, 28, 0, 0), 25.803],\n       [datetime.datetime(2023, 8, 29, 0, 0), 29.641499999999997],\n       [datetime.datetime(2023, 8, 30, 0, 0), 21.804000000000002],\n       [datetime.datetime(2023, 8, 31, 0, 0), 24.415999999999997],\n       [datetime.datetime(2023, 9, 1, 0, 0), 25.025500000000005],\n       [datetime.datetime(2023, 9, 2, 0, 0), 16.4475],\n       [datetime.datetime(2023, 9, 3, 0, 0), 17.8005],\n       [datetime.datetime(2023, 9, 4, 0, 0), 28.725],\n       [datetime.datetime(2023, 9, 5, 0, 0), 33.376],\n       [datetime.datetime(2023, 9, 22, 0, 0), 21.1175],\n       [datetime.datetime(2023, 9, 23, 0, 0), 15.790499999999998],\n       [datetime.datetime(2023, 9, 24, 0, 0), 15.01],\n       [datetime.datetime(2023, 10, 3, 0, 0), 25.275000000000006],\n       [datetime.datetime(2023, 10, 4, 0, 0), 23.958499999999997],\n       [datetime.datetime(2023, 10, 5, 0, 0), 23.502],\n       [datetime.datetime(2023, 10, 6, 0, 0), 28.569499999999998],\n       [datetime.datetime(2023, 10, 7, 0, 0), 24.374499999999998],\n       [datetime.datetime(2023, 10, 16, 0, 0), 70.44099999999999],\n       [datetime.datetime(2023, 10, 25, 0, 0), 51.958499999999994],\n       [datetime.datetime(2023, 10, 26, 0, 0), 51.82650000000001],\n       [datetime.datetime(2023, 10, 27, 0, 0), 52.57249999999999],\n       [datetime.datetime(2023, 10, 28, 0, 0), 46.70799999999999],\n       [datetime.datetime(2023, 10, 29, 0, 0), 46.12816666666666],\n       [datetime.datetime(2023, 10, 30, 0, 0), 66.68949999999998],\n       [datetime.datetime(2023, 10, 31, 0, 0), 62.102000000000004],\n       [datetime.datetime(2023, 11, 1, 0, 0), 56.958],\n       [datetime.datetime(2023, 11, 2, 0, 0), 70.7145],\n       [datetime.datetime(2023, 11, 3, 0, 0), 64.1885],\n       [datetime.datetime(2023, 11, 4, 0, 0), 37.185],\n       [datetime.datetime(2023, 11, 5, 0, 0), 28.358999999999998],\n       [datetime.datetime(2023, 11, 6, 0, 0), 56.87850000000001],\n       [datetime.datetime(2023, 11, 7, 0, 0), 54.186499999999995],\n       [datetime.datetime(2023, 11, 8, 0, 0), 52.331999999999994],\n       [datetime.datetime(2023, 11, 9, 0, 0), 49.892999999999994],\n       [datetime.datetime(2023, 11, 10, 0, 0), 60.07699999999998],\n       [datetime.datetime(2023, 11, 11, 0, 0), 54.221999999999994],\n       [datetime.datetime(2023, 11, 12, 0, 0), 51.25900000000001],\n       [datetime.datetime(2023, 11, 13, 0, 0), 64.88199999999999],\n       [datetime.datetime(2023, 11, 28, 0, 0), 84.48500000000001],\n       [datetime.datetime(2023, 11, 29, 0, 0), 88.99600000000002],\n       [datetime.datetime(2023, 11, 30, 0, 0), 97.34750000000001],\n       [datetime.datetime(2023, 12, 1, 0, 0), 90.05949999999999],\n       [datetime.datetime(2023, 12, 2, 0, 0), 88.05149999999999],\n       [datetime.datetime(2023, 12, 3, 0, 0), 106.01700000000001],\n       [datetime.datetime(2023, 12, 4, 0, 0), 115.33250000000001],\n       [datetime.datetime(2023, 12, 5, 0, 0), 98.66449999999999],\n       [datetime.datetime(2023, 12, 6, 0, 0), 96.68700000000003],\n       [datetime.datetime(2023, 12, 7, 0, 0), 110.54549999999998],\n       [datetime.datetime(2023, 12, 8, 0, 0), 77.247],\n       [datetime.datetime(2023, 12, 9, 0, 0), 71.91650000000001],\n       [datetime.datetime(2023, 12, 10, 0, 0), 74.39399999999999],\n       [datetime.datetime(2023, 12, 11, 0, 0), 84.156],\n       [datetime.datetime(2023, 12, 12, 0, 0), 73.4465],\n       [datetime.datetime(2023, 12, 13, 0, 0), 80.3215],\n       [datetime.datetime(2023, 12, 14, 0, 0), 87.93499999999999],\n       [datetime.datetime(2023, 12, 15, 0, 0), 63.1935],\n       [datetime.datetime(2023, 12, 16, 0, 0), 56.355],\n       [datetime.datetime(2023, 12, 17, 0, 0), 70.37550000000002],\n       [datetime.datetime(2023, 12, 18, 0, 0), 104.08899999999998],\n       [datetime.datetime(2023, 12, 19, 0, 0), 100.86500000000001],\n       [datetime.datetime(2023, 12, 20, 0, 0), 75.66299999999998],\n       [datetime.datetime(2023, 12, 21, 0, 0), 68.00450000000001],\n       [datetime.datetime(2023, 12, 22, 0, 0), 65.1605],\n       [datetime.datetime(2023, 12, 23, 0, 0), 73.45300000000002],\n       [datetime.datetime(2023, 12, 24, 0, 0), 68.041],\n       [datetime.datetime(2023, 12, 25, 0, 0), 63.266],\n       [datetime.datetime(2023, 12, 26, 0, 0), 59.47850000000001],\n       [datetime.datetime(2023, 12, 27, 0, 0), 64.395],\n       [datetime.datetime(2023, 12, 28, 0, 0), 71.2555],\n       [datetime.datetime(2023, 12, 29, 0, 0), 67.7715],\n       [datetime.datetime(2023, 12, 30, 0, 0), 58.11099999999999],\n       [datetime.datetime(2023, 12, 31, 0, 0), 63.33]], dtype=object)"
     },
     "execution_count": 128,
     "metadata": {},
     "output_type": "execute_result"
    }
   ],
   "source": [
    "np.array([target_time, targets]).T"
   ],
   "metadata": {
    "collapsed": false,
    "ExecuteTime": {
     "end_time": "2024-02-10T19:04:54.677098400Z",
     "start_time": "2024-02-10T19:04:54.671090900Z"
    }
   },
   "id": "7e54c1790b3f488f",
   "execution_count": 128
  },
  {
   "cell_type": "code",
   "outputs": [
    {
     "data": {
      "text/plain": "726"
     },
     "execution_count": 146,
     "metadata": {},
     "output_type": "execute_result"
    }
   ],
   "source": [
    "len(set([s.split(\"T\")[0] for s in time[[i not in final_ind for i in range(len(time))]].astype('str')]))"
   ],
   "metadata": {
    "collapsed": false,
    "ExecuteTime": {
     "end_time": "2024-02-10T20:14:10.057349800Z",
     "start_time": "2024-02-10T20:14:09.987111100Z"
    }
   },
   "id": "203f33373c10ba1a",
   "execution_count": 146
  },
  {
   "cell_type": "code",
   "outputs": [],
   "source": [],
   "metadata": {
    "collapsed": false
   },
   "id": "40b02d065eee6ba1"
  }
 ],
 "metadata": {
  "kernelspec": {
   "display_name": "Python 3",
   "language": "python",
   "name": "python3"
  },
  "language_info": {
   "codemirror_mode": {
    "name": "ipython",
    "version": 2
   },
   "file_extension": ".py",
   "mimetype": "text/x-python",
   "name": "python",
   "nbconvert_exporter": "python",
   "pygments_lexer": "ipython2",
   "version": "2.7.6"
  }
 },
 "nbformat": 4,
 "nbformat_minor": 5
}
